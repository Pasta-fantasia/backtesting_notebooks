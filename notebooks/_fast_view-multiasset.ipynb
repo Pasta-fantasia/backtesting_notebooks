{
 "cells": [
  {
   "cell_type": "code",
   "execution_count": 1,
   "id": "94ed8de2-dee7-406c-ac09-5a046fedb450",
   "metadata": {},
   "outputs": [],
   "source": [
    "import warnings\n",
    "warnings.simplefilter(action='ignore', category=FutureWarning)\n",
    "warnings.filterwarnings('ignore')"
   ]
  },
  {
   "cell_type": "code",
   "execution_count": 2,
   "id": "e81f7494-7265-45c0-b58b-48fdd4934509",
   "metadata": {},
   "outputs": [],
   "source": [
    "import time\n",
    "import os\n",
    "\n",
    "from datetime import date\n",
    "from datetime import timedelta\n",
    "from datetime import datetime\n",
    "\n",
    "import pickle\n",
    "\n",
    "import json\n",
    "\n",
    "import pandas as pd\n",
    "import numpy as np\n",
    "import random \n",
    "\n",
    "\n",
    "import pandas_ta as ta\n",
    "\n",
    "import mplfinance as mpf "
   ]
  },
  {
   "cell_type": "code",
   "execution_count": 3,
   "id": "44191e70-d78b-4721-88bf-edc10fae8451",
   "metadata": {},
   "outputs": [],
   "source": [
    "from handle_data.read_data import load_candles"
   ]
  },
  {
   "cell_type": "code",
   "execution_count": 4,
   "id": "7502375d-5ae9-4f29-8af3-254801550720",
   "metadata": {},
   "outputs": [],
   "source": [
    "pd.set_option('display.max_colwidth', None)\n",
    "pd.set_option('display.max_rows', 500)\n",
    "pd.set_option('display.max_columns', 500)\n",
    "#pd.set_option('display.width', 1000)"
   ]
  },
  {
   "cell_type": "code",
   "execution_count": 5,
   "id": "66a55747-668a-4719-a9a4-7a290ba0dbec",
   "metadata": {},
   "outputs": [],
   "source": [
    "timeframe='1d'\n",
    "\n",
    "experiment_nickname = \"60d_to_halving\""
   ]
  },
  {
   "cell_type": "code",
   "execution_count": 6,
   "id": "ee98fee9-e4fa-42bb-be6c-d4b671c20902",
   "metadata": {},
   "outputs": [],
   "source": [
    "symbols = [\n",
    "    { 'symbol': 'BTC/USDT', 'asset_factor': 1_000_000, 'exchange':'Binance'},\n",
    "    { 'symbol': 'ETH/USDT', 'asset_factor': 10_000, 'exchange':'Binance' },\n",
    "    { 'symbol': 'XMR/USDT', 'asset_factor': 1_000, 'exchange':'Binance' },\n",
    "    { 'symbol': 'MATIC/USDT', 'asset_factor': 1_000, 'exchange':'Binance' },\n",
    "    { 'symbol': 'SOL/USDT', 'asset_factor': 1_000, 'exchange':'Binance' },\n",
    "    { 'symbol': 'ADA/USDT', 'asset_factor': 1_000, 'exchange':'Binance' },\n",
    "    { 'symbol': 'AVAX/USDT', 'asset_factor': 1_000, 'exchange':'Binance' },\n",
    "    { 'symbol': 'RUNE/USDT', 'asset_factor': 1_000, 'exchange':'Binance' },\n",
    "    { 'symbol': 'ENJ/USDT', 'asset_factor': 1_000, 'exchange':'Binance' },\n",
    "    { 'symbol': 'XTZ/USDT', 'asset_factor': 1_000, 'exchange':'Binance' },\n",
    "    { 'symbol': 'ENS/USDT', 'asset_factor': 1_000, 'exchange':'Binance' },\n",
    "    { 'symbol': 'FIL/USDT', 'asset_factor': 1_000, 'exchange':'Binance' },\n",
    "    #{ 'symbol': 'HNT/USDT', 'asset_factor': 1_000, 'exchange':'KuCoin' },\n",
    "]"
   ]
  },
  {
   "cell_type": "code",
   "execution_count": 7,
   "id": "933d961d-685b-4a80-8537-2d4105b3aead",
   "metadata": {},
   "outputs": [],
   "source": [
    "history_days = 50 * 30\n",
    "history_days = 90\n",
    "\n",
    "start_date = (date.today() - timedelta(days=history_days)).strftime('%Y-%m-%d')\n",
    "end_date=None\n",
    "\n",
    "if experiment_nickname == \"Up_and_down\":\n",
    "    start_date = \"2019-11-01\"\n",
    "    end_date=\"2022-01-23\"\n",
    "elif experiment_nickname == \"LongTerm\":\n",
    "    start_date = \"2017-01-01\"\n",
    "    end_date=None\n",
    "elif experiment_nickname == \"Up\":\n",
    "    start_date = \"2023-01-01\"\n",
    "    end_date=None\n",
    "elif experiment_nickname == \"Bear\":\n",
    "    start_date = \"2021-11-12\"\n",
    "    end_date=\"2022-11-12\"\n",
    "elif experiment_nickname == \"Range\":\n",
    "    start_date = \"2022-06-16\"\n",
    "    end_date=\"2023-03-10\"\n",
    "elif experiment_nickname == \"HNT\":\n",
    "    start_date = \"2023-06-16\"\n",
    "    end_date=None\n",
    "elif experiment_nickname == \"Noise\":\n",
    "    start_date = \"2023-12-15\"\n",
    "    end_date= \"2024-01-29\"\n",
    "elif experiment_nickname == \"Noise_short\":\n",
    "    start_date = \"2024-01-13\"\n",
    "    end_date= \"2024-01-18\"\n",
    "elif experiment_nickname == \"Noise_1d\":\n",
    "    start_date = \"2023-03-18\"\n",
    "    end_date= \"2023-06-20\"\n",
    "elif experiment_nickname == \"60d_to_halving\": # https://halvingdates.com/crypto.php?sym=btc&name=Bitcoin\n",
    "    start_date = \"2020-03-11\" # \"2020-05-11\"\n",
    "    end_date= \"2022-11-25\""
   ]
  },
  {
   "cell_type": "code",
   "execution_count": 8,
   "id": "05bf9589-e634-41d6-849d-02e8a239df03",
   "metadata": {},
   "outputs": [
    {
     "name": "stdout",
     "output_type": "stream",
     "text": [
      "start_date: 2020-03-11\n",
      "end_date: 2022-11-25\n"
     ]
    }
   ],
   "source": [
    "print(\"start_date:\",start_date)\n",
    "print(\"end_date:\",end_date)"
   ]
  },
  {
   "cell_type": "code",
   "execution_count": 9,
   "id": "14f4b95a-c48d-4e16-92fb-1788a73e1acd",
   "metadata": {},
   "outputs": [],
   "source": [
    "if timeframe=='1m':\n",
    "    length = 7\n",
    "    multiplier = 1\n",
    "elif timeframe=='15m':\n",
    "    length = 7\n",
    "    multiplier = 1\n",
    "elif timeframe=='1h':\n",
    "    length = 7\n",
    "    multiplier = 1\n",
    "elif timeframe=='1d':\n",
    "    length = 34\n",
    "    multiplier = 2\n",
    "    #length = 13\n",
    "    #multiplier = 1\n",
    "    length = 3\n",
    "    multiplier = 2\n",
    "elif timeframe=='1w':\n",
    "    length = 9\n",
    "    multiplier = 1"
   ]
  },
  {
   "cell_type": "code",
   "execution_count": 10,
   "id": "b3418c80-380b-4c2b-a52d-46c3fdf88ab2",
   "metadata": {},
   "outputs": [
    {
     "name": "stdout",
     "output_type": "stream",
     "text": [
      "reading /home/jovyan/work/data/BTC-USDT/1d/BTC-USDT_1d_Binance.pickle\n",
      "reading /home/jovyan/work/data/ETH-USDT/1d/ETH-USDT_1d_Binance.pickle\n",
      "reading /home/jovyan/work/data/XMR-USDT/1d/XMR-USDT_1d_Binance.pickle\n",
      "reading /home/jovyan/work/data/MATIC-USDT/1d/MATIC-USDT_1d_Binance.pickle\n",
      "reading /home/jovyan/work/data/SOL-USDT/1d/SOL-USDT_1d_Binance.pickle\n",
      "reading /home/jovyan/work/data/ADA-USDT/1d/ADA-USDT_1d_Binance.pickle\n",
      "reading /home/jovyan/work/data/AVAX-USDT/1d/AVAX-USDT_1d_Binance.pickle\n",
      "reading /home/jovyan/work/data/RUNE-USDT/1d/RUNE-USDT_1d_Binance.pickle\n",
      "reading /home/jovyan/work/data/ENJ-USDT/1d/ENJ-USDT_1d_Binance.pickle\n",
      "reading /home/jovyan/work/data/XTZ-USDT/1d/XTZ-USDT_1d_Binance.pickle\n",
      "reading /home/jovyan/work/data/ENS-USDT/1d/ENS-USDT_1d_Binance.pickle\n",
      "reading /home/jovyan/work/data/FIL-USDT/1d/FIL-USDT_1d_Binance.pickle\n"
     ]
    }
   ],
   "source": [
    "for symbol in symbols:\n",
    "    data = load_candles(symbol['exchange'], symbol['symbol'], timeframe=timeframe, start_date=start_date, end_date=end_date, )\n",
    "\n",
    "    data[\"open_low_var\"] = ((data[\"Open\"] - data[\"Low\"]) / data[\"Open\"]) * 100\n",
    "    open_low_var = data[\"open_low_var\"].mean()\n",
    "\n",
    "    data[\"dema\"] = ta.dema(close = data.Close, length=length)\n",
    "    data[\"stdev\"] = ta.stdev(close = data.Close, length=length)\n",
    "\n",
    "    data[\"dema_low\"] = ta.dema(close = data.Low, length=length)\n",
    "    data[\"stdev_low\"] = ta.stdev(close = data.Low, length=length)\n",
    "\n",
    "    data[\"upper\"] = data[\"dema\"] + (multiplier * data[\"stdev\"])\n",
    "    data[\"lower\"] = data[\"dema\"] - (multiplier * data[\"stdev\"])\n",
    "\n",
    "    data[\"lower_low\"] = data[\"dema_low\"] - (multiplier * data[\"stdev_low\"])\n",
    "\n",
    "    data[\"lower_open_low\"] = data[\"lower\"] - data[\"lower\"] * ( open_low_var / 100 )\n",
    "\n",
    "    apdict = [mpf.make_addplot(data['dema'],label=\"dema\"),\n",
    "              mpf.make_addplot(data['upper'],label=\"upper\"),\n",
    "              mpf.make_addplot(data['lower'],label=\"lower\"),\n",
    "              #mpf.make_addplot(data['lower_low'],label=\"lower_low\"),\n",
    "              mpf.make_addplot(data['lower_open_low'],label=\"lower_open_low\"),]\n",
    "\n",
    "    mpf.plot(data,type='candle', volume=True, show_nontrading=True,\n",
    "             addplot=apdict,figratio=(30,20),figscale=2,\n",
    "             savefig=f\"_fv_{experiment_nickname}_{symbol['symbol'].replace('/','-')}_{timeframe}_plot.png\")"
   ]
  },
  {
   "cell_type": "code",
   "execution_count": null,
   "id": "12587d36-8460-4204-a4da-6f92bbd08e69",
   "metadata": {},
   "outputs": [],
   "source": []
  }
 ],
 "metadata": {
  "kernelspec": {
   "display_name": "Python 3 (ipykernel)",
   "language": "python",
   "name": "python3"
  },
  "language_info": {
   "codemirror_mode": {
    "name": "ipython",
    "version": 3
   },
   "file_extension": ".py",
   "mimetype": "text/x-python",
   "name": "python",
   "nbconvert_exporter": "python",
   "pygments_lexer": "ipython3",
   "version": "3.10.6"
  }
 },
 "nbformat": 4,
 "nbformat_minor": 5
}

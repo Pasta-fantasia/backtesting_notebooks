{
 "cells": [
  {
   "cell_type": "code",
   "execution_count": 1,
   "id": "94ed8de2-dee7-406c-ac09-5a046fedb450",
   "metadata": {},
   "outputs": [],
   "source": [
    "import warnings\n",
    "warnings.simplefilter(action='ignore', category=FutureWarning)\n",
    "warnings.filterwarnings('ignore')"
   ]
  },
  {
   "cell_type": "code",
   "execution_count": 2,
   "id": "e81f7494-7265-45c0-b58b-48fdd4934509",
   "metadata": {},
   "outputs": [],
   "source": [
    "import time\n",
    "import os\n",
    "\n",
    "from datetime import date\n",
    "from datetime import timedelta\n",
    "from datetime import datetime\n",
    "\n",
    "import pickle\n",
    "\n",
    "import json\n",
    "\n",
    "import pandas as pd\n",
    "import numpy as np\n",
    "import random \n",
    "\n",
    "\n",
    "import pandas_ta as ta\n",
    "\n",
    "import mplfinance as mpf "
   ]
  },
  {
   "cell_type": "code",
   "execution_count": 3,
   "id": "dbd49ef7-fa0d-4b35-9a13-412b87444f3a",
   "metadata": {},
   "outputs": [],
   "source": [
    "from handle_data.read_data import load_candles"
   ]
  },
  {
   "cell_type": "code",
   "execution_count": 4,
   "id": "7502375d-5ae9-4f29-8af3-254801550720",
   "metadata": {},
   "outputs": [],
   "source": [
    "pd.set_option('display.max_colwidth', None)\n",
    "pd.set_option('display.max_rows', 500)\n",
    "pd.set_option('display.max_columns', 500)\n",
    "#pd.set_option('display.width', 1000)"
   ]
  },
  {
   "cell_type": "code",
   "execution_count": 5,
   "id": "30ee520a-eae6-46c3-a9ce-213ebf28f4c3",
   "metadata": {},
   "outputs": [],
   "source": [
    "symbol = \"BTC/USDT\"\n",
    "#symbol = \"ETH/USDT\"\n",
    "timeframe='1h'\n",
    "exchange='Binance'"
   ]
  },
  {
   "cell_type": "code",
   "execution_count": 6,
   "id": "aa987bb1-3d61-4c6e-9756-46386ce0f516",
   "metadata": {},
   "outputs": [
    {
     "name": "stdout",
     "output_type": "stream",
     "text": [
      "start_date: 2019-12-13\n",
      "end_date: None\n"
     ]
    }
   ],
   "source": [
    "history_days = 50 * 30\n",
    "#history_days = 150\n",
    "\n",
    "start_date = (date.today() - timedelta(days=history_days)).strftime('%Y-%m-%d')\n",
    "end_date=None\n",
    "\n",
    "#start_date =\"2024-01-15\"\n",
    "#end_date = \"2024-01-17\"\n",
    "\n",
    "#start_date = \"2019-11-01\"\n",
    "\n",
    "print(\"start_date:\",start_date)\n",
    "print(\"end_date:\",end_date)"
   ]
  },
  {
   "cell_type": "code",
   "execution_count": 7,
   "id": "66a55747-668a-4719-a9a4-7a290ba0dbec",
   "metadata": {},
   "outputs": [
    {
     "name": "stdout",
     "output_type": "stream",
     "text": [
      "reading /home/jovyan/work/data/BTC-USDT/1h/BTC-USDT_1h_Binance.pickle\n"
     ]
    }
   ],
   "source": [
    "data = load_candles(exchange, symbol, timeframe=timeframe, start_date=start_date, end_date=end_date, )"
   ]
  },
  {
   "cell_type": "code",
   "execution_count": 8,
   "id": "28b0320a-73b5-466d-a24a-4d11f4c445fd",
   "metadata": {},
   "outputs": [],
   "source": [
    "#mpf.plot(data, type='candle', volume=True,) "
   ]
  },
  {
   "cell_type": "code",
   "execution_count": 9,
   "id": "0c250662-d45a-43d9-b393-c4e89aaad4ed",
   "metadata": {},
   "outputs": [],
   "source": [
    "#data"
   ]
  },
  {
   "cell_type": "code",
   "execution_count": 10,
   "id": "187a8527-7e26-44d7-b140-dfb56f428143",
   "metadata": {},
   "outputs": [
    {
     "data": {
      "text/html": [
       "<div>\n",
       "<style scoped>\n",
       "    .dataframe tbody tr th:only-of-type {\n",
       "        vertical-align: middle;\n",
       "    }\n",
       "\n",
       "    .dataframe tbody tr th {\n",
       "        vertical-align: top;\n",
       "    }\n",
       "\n",
       "    .dataframe thead th {\n",
       "        text-align: right;\n",
       "    }\n",
       "</style>\n",
       "<table border=\"1\" class=\"dataframe\">\n",
       "  <thead>\n",
       "    <tr style=\"text-align: right;\">\n",
       "      <th></th>\n",
       "      <th>Open</th>\n",
       "      <th>High</th>\n",
       "      <th>Low</th>\n",
       "      <th>Close</th>\n",
       "      <th>Volume</th>\n",
       "      <th>hour</th>\n",
       "      <th>var</th>\n",
       "    </tr>\n",
       "    <tr>\n",
       "      <th>Open time</th>\n",
       "      <th></th>\n",
       "      <th></th>\n",
       "      <th></th>\n",
       "      <th></th>\n",
       "      <th></th>\n",
       "      <th></th>\n",
       "      <th></th>\n",
       "    </tr>\n",
       "  </thead>\n",
       "  <tbody>\n",
       "    <tr>\n",
       "      <th>2019-12-13 00:00:00</th>\n",
       "      <td>7197.76</td>\n",
       "      <td>7216.93</td>\n",
       "      <td>7196.02</td>\n",
       "      <td>7197.66</td>\n",
       "      <td>776.188121</td>\n",
       "      <td>0</td>\n",
       "      <td>0.290507</td>\n",
       "    </tr>\n",
       "    <tr>\n",
       "      <th>2019-12-13 01:00:00</th>\n",
       "      <td>7197.66</td>\n",
       "      <td>7211.08</td>\n",
       "      <td>7190.76</td>\n",
       "      <td>7204.94</td>\n",
       "      <td>686.628995</td>\n",
       "      <td>1</td>\n",
       "      <td>0.282314</td>\n",
       "    </tr>\n",
       "    <tr>\n",
       "      <th>2019-12-13 02:00:00</th>\n",
       "      <td>7204.16</td>\n",
       "      <td>7218.98</td>\n",
       "      <td>7199.57</td>\n",
       "      <td>7212.72</td>\n",
       "      <td>724.867968</td>\n",
       "      <td>2</td>\n",
       "      <td>0.269428</td>\n",
       "    </tr>\n",
       "    <tr>\n",
       "      <th>2019-12-13 03:00:00</th>\n",
       "      <td>7213.37</td>\n",
       "      <td>7236.50</td>\n",
       "      <td>7208.42</td>\n",
       "      <td>7229.10</td>\n",
       "      <td>1125.165502</td>\n",
       "      <td>3</td>\n",
       "      <td>0.389277</td>\n",
       "    </tr>\n",
       "    <tr>\n",
       "      <th>2019-12-13 04:00:00</th>\n",
       "      <td>7229.10</td>\n",
       "      <td>7247.62</td>\n",
       "      <td>7225.05</td>\n",
       "      <td>7227.43</td>\n",
       "      <td>1273.970481</td>\n",
       "      <td>4</td>\n",
       "      <td>0.312210</td>\n",
       "    </tr>\n",
       "    <tr>\n",
       "      <th>...</th>\n",
       "      <td>...</td>\n",
       "      <td>...</td>\n",
       "      <td>...</td>\n",
       "      <td>...</td>\n",
       "      <td>...</td>\n",
       "      <td>...</td>\n",
       "      <td>...</td>\n",
       "    </tr>\n",
       "    <tr>\n",
       "      <th>2024-01-20 05:00:00</th>\n",
       "      <td>41607.19</td>\n",
       "      <td>41646.46</td>\n",
       "      <td>41564.81</td>\n",
       "      <td>41627.63</td>\n",
       "      <td>453.583649</td>\n",
       "      <td>5</td>\n",
       "      <td>0.196240</td>\n",
       "    </tr>\n",
       "    <tr>\n",
       "      <th>2024-01-20 06:00:00</th>\n",
       "      <td>41627.62</td>\n",
       "      <td>41698.71</td>\n",
       "      <td>41615.92</td>\n",
       "      <td>41672.02</td>\n",
       "      <td>582.853760</td>\n",
       "      <td>6</td>\n",
       "      <td>0.198882</td>\n",
       "    </tr>\n",
       "    <tr>\n",
       "      <th>2024-01-20 07:00:00</th>\n",
       "      <td>41672.02</td>\n",
       "      <td>41774.00</td>\n",
       "      <td>41644.72</td>\n",
       "      <td>41650.95</td>\n",
       "      <td>638.343506</td>\n",
       "      <td>7</td>\n",
       "      <td>0.310232</td>\n",
       "    </tr>\n",
       "    <tr>\n",
       "      <th>2024-01-20 08:00:00</th>\n",
       "      <td>41650.95</td>\n",
       "      <td>41668.66</td>\n",
       "      <td>41522.38</td>\n",
       "      <td>41590.00</td>\n",
       "      <td>1054.682373</td>\n",
       "      <td>8</td>\n",
       "      <td>0.351204</td>\n",
       "    </tr>\n",
       "    <tr>\n",
       "      <th>2024-01-20 09:00:00</th>\n",
       "      <td>41590.01</td>\n",
       "      <td>41643.06</td>\n",
       "      <td>41474.00</td>\n",
       "      <td>41512.96</td>\n",
       "      <td>466.573914</td>\n",
       "      <td>9</td>\n",
       "      <td>0.406492</td>\n",
       "    </tr>\n",
       "  </tbody>\n",
       "</table>\n",
       "<p>35954 rows × 7 columns</p>\n",
       "</div>"
      ],
      "text/plain": [
       "                         Open      High       Low     Close       Volume  \\\n",
       "Open time                                                                  \n",
       "2019-12-13 00:00:00   7197.76   7216.93   7196.02   7197.66   776.188121   \n",
       "2019-12-13 01:00:00   7197.66   7211.08   7190.76   7204.94   686.628995   \n",
       "2019-12-13 02:00:00   7204.16   7218.98   7199.57   7212.72   724.867968   \n",
       "2019-12-13 03:00:00   7213.37   7236.50   7208.42   7229.10  1125.165502   \n",
       "2019-12-13 04:00:00   7229.10   7247.62   7225.05   7227.43  1273.970481   \n",
       "...                       ...       ...       ...       ...          ...   \n",
       "2024-01-20 05:00:00  41607.19  41646.46  41564.81  41627.63   453.583649   \n",
       "2024-01-20 06:00:00  41627.62  41698.71  41615.92  41672.02   582.853760   \n",
       "2024-01-20 07:00:00  41672.02  41774.00  41644.72  41650.95   638.343506   \n",
       "2024-01-20 08:00:00  41650.95  41668.66  41522.38  41590.00  1054.682373   \n",
       "2024-01-20 09:00:00  41590.01  41643.06  41474.00  41512.96   466.573914   \n",
       "\n",
       "                     hour       var  \n",
       "Open time                            \n",
       "2019-12-13 00:00:00     0  0.290507  \n",
       "2019-12-13 01:00:00     1  0.282314  \n",
       "2019-12-13 02:00:00     2  0.269428  \n",
       "2019-12-13 03:00:00     3  0.389277  \n",
       "2019-12-13 04:00:00     4  0.312210  \n",
       "...                   ...       ...  \n",
       "2024-01-20 05:00:00     5  0.196240  \n",
       "2024-01-20 06:00:00     6  0.198882  \n",
       "2024-01-20 07:00:00     7  0.310232  \n",
       "2024-01-20 08:00:00     8  0.351204  \n",
       "2024-01-20 09:00:00     9  0.406492  \n",
       "\n",
       "[35954 rows x 7 columns]"
      ]
     },
     "execution_count": 10,
     "metadata": {},
     "output_type": "execute_result"
    }
   ],
   "source": [
    "data['hour'] = data.index.hour\n",
    "data['var'] = ((data['High'] - data['Low']) /  data['Open']) * 100\n",
    "data"
   ]
  },
  {
   "cell_type": "code",
   "execution_count": 11,
   "id": "9f49664b-abdf-46c6-afe9-cb6a9cfefc67",
   "metadata": {},
   "outputs": [
    {
     "data": {
      "text/plain": [
       "<Axes: xlabel='hour'>"
      ]
     },
     "execution_count": 11,
     "metadata": {},
     "output_type": "execute_result"
    },
    {
     "data": {
      "image/png": "[encoded data removed]",
      "text/plain": [
       "<Figure size 640x480 with 1 Axes>"
      ]
     },
     "metadata": {},
     "output_type": "display_data"
    }
   ],
   "source": [
    "data.groupby(['hour'])['Volume'].sum().plot()"
   ]
  },
  {
   "cell_type": "code",
   "execution_count": 12,
   "id": "f38e38fc-bfde-4f1e-912c-4edf349a10f9",
   "metadata": {},
   "outputs": [
    {
     "data": {
      "text/plain": [
       "<Axes: xlabel='hour'>"
      ]
     },
     "execution_count": 12,
     "metadata": {},
     "output_type": "execute_result"
    },
    {
     "data": {
      "image/png": "[encoded data removed]",
      "text/plain": [
       "<Figure size 640x480 with 1 Axes>"
      ]
     },
     "metadata": {},
     "output_type": "display_data"
    }
   ],
   "source": [
    "data.groupby(['hour'])['var'].mean().plot()"
   ]
  },
  {
   "cell_type": "code",
   "execution_count": 13,
   "id": "42b5acba-8687-4270-9481-2292d5f31919",
   "metadata": {},
   "outputs": [
    {
     "data": {
      "text/plain": [
       "hour\n",
       "0     1.118267\n",
       "1     0.923868\n",
       "2     0.848346\n",
       "3     0.785988\n",
       "4     0.772037\n",
       "5     0.766871\n",
       "6     0.791700\n",
       "7     0.817553\n",
       "8     0.917248\n",
       "9     0.861919\n",
       "10    0.897821\n",
       "11    0.898318\n",
       "12    1.085916\n",
       "13    1.127423\n",
       "14    1.190715\n",
       "15    1.118103\n",
       "16    1.146328\n",
       "17    0.966363\n",
       "18    0.978809\n",
       "19    0.962947\n",
       "20    1.021642\n",
       "21    0.975993\n",
       "22    0.971131\n",
       "23    0.927460\n",
       "Name: var, dtype: float64"
      ]
     },
     "execution_count": 13,
     "metadata": {},
     "output_type": "execute_result"
    }
   ],
   "source": [
    "data.groupby(['hour'])['var'].mean()"
   ]
  }
 ],
 "metadata": {
  "kernelspec": {
   "display_name": "Python 3 (ipykernel)",
   "language": "python",
   "name": "python3"
  },
  "language_info": {
   "codemirror_mode": {
    "name": "ipython",
    "version": 3
   },
   "file_extension": ".py",
   "mimetype": "text/x-python",
   "name": "python",
   "nbconvert_exporter": "python",
   "pygments_lexer": "ipython3",
   "version": "3.10.6"
  }
 },
 "nbformat": 4,
 "nbformat_minor": 5
}

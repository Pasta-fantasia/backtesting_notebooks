{
 "cells": [
  {
   "cell_type": "markdown",
   "id": "64f0e7bc-55d5-4791-ac06-9d3a6ac6dac3",
   "metadata": {},
   "source": [
    "# imports ..."
   ]
  },
  {
   "cell_type": "code",
   "execution_count": null,
   "id": "eebf55c3-e284-48d7-b686-f1cdf0ced00a",
   "metadata": {},
   "outputs": [],
   "source": [
    "import warnings\n",
    "warnings.simplefilter(action='ignore', category=FutureWarning)\n",
    "warnings.filterwarnings('ignore')"
   ]
  },
  {
   "cell_type": "code",
   "execution_count": null,
   "id": "592a2af3-5918-4bb8-8f71-3a07e39d83b7",
   "metadata": {},
   "outputs": [],
   "source": [
    "import time\n",
    "import os\n",
    "\n",
    "from datetime import date\n",
    "from datetime import timedelta\n",
    "from datetime import datetime\n",
    "\n",
    "import pickle\n",
    "\n",
    "import json\n",
    "\n",
    "import pandas as pd\n",
    "import numpy as np\n",
    "import random \n",
    "\n",
    "\n",
    "\n",
    "from backtesting import Strategy\n",
    "from backtesting import Backtest\n",
    "\n",
    "import pandas_ta as ta\n",
    "import jinja2"
   ]
  },
  {
   "cell_type": "code",
   "execution_count": null,
   "id": "7454b74b-c484-46eb-94fc-8ce18f6a3919",
   "metadata": {},
   "outputs": [],
   "source": [
    "pd.set_option('display.max_colwidth', None)\n",
    "pd.set_option('display.max_rows', 500)\n",
    "pd.set_option('display.max_columns', 500)\n",
    "#pd.set_option('display.width', 1000)"
   ]
  },
  {
   "cell_type": "code",
   "execution_count": null,
   "id": "52d805eb-bcd4-4a96-b2bb-cb85af95a36d",
   "metadata": {},
   "outputs": [],
   "source": [
    "from handle_data.read_data import load_candles\n",
    "from backtesting_sampler.sampler import process_heatmap"
   ]
  },
  {
   "cell_type": "markdown",
   "id": "8e33f635-2647-4522-8686-3a8a2ec336c2",
   "metadata": {},
   "source": [
    "# Configuration"
   ]
  },
  {
   "cell_type": "code",
   "execution_count": null,
   "id": "6449c640-f1ca-4824-a847-073b424fb396",
   "metadata": {},
   "outputs": [],
   "source": [
    "# %%script false --no-raise-error\n",
    "\n",
    "if True:\n",
    "    symbol = \"BTC/USDT\"\n",
    "    asset_factor = 1_000_000\n",
    "    total_cash = 1000\n",
    "    dca_budget = [50,100,200,400,500,1000]\n",
    "\n",
    "if False:\n",
    "    symbol = \"ETH/USDT\"\n",
    "    asset_factor = 10_000\n",
    "    total_cash = 1000\n",
    "    dca_budget = [50,100,200,400,500,1000]\n",
    "\n",
    "\n",
    "timeframe='1d'\n",
    "exchange='Binance'\n",
    "\n",
    "experiment_nickname = \"Up_and_down\""
   ]
  },
  {
   "cell_type": "code",
   "execution_count": null,
   "id": "444c796d-6eb1-4a74-85d2-d0e7d1ef8043",
   "metadata": {},
   "outputs": [],
   "source": [
    "history_days = 21\n",
    "start_date = (date.today() - timedelta(days=history_days)).strftime('%Y-%m-%d')\n",
    "end_date=None\n",
    "\n",
    "if experiment_nickname == \"Up_and_down\":\n",
    "    start_date = \"2019-11-01\"\n",
    "    end_date=\"2022-01-23\"\n",
    "elif experiment_nickname == \"LongTerm\":\n",
    "    start_date = \"2017-01-01\"\n",
    "    end_date=None\n",
    "elif experiment_nickname == \"Up\":\n",
    "    start_date = \"2023-01-01\"\n",
    "    end_date=None\n",
    "elif experiment_nickname == \"Bear\":\n",
    "    start_date = \"2021-11-12\"\n",
    "    end_date=\"2022-11-12\"\n",
    "elif experiment_nickname == \"Range\":\n",
    "    start_date = \"2022-06-16\"\n",
    "    end_date=\"2023-03-10\"\n",
    "\n",
    "    \n",
    "if not end_date:\n",
    "    end_date=date.today().strftime('%Y-%m-%d')\n",
    "    \n",
    "print(\"start_date:\",start_date)\n",
    "print(\"end_date:\",end_date)"
   ]
  },
  {
   "cell_type": "code",
   "execution_count": null,
   "id": "f2f167df-f37a-4708-a90c-053b37c45381",
   "metadata": {},
   "outputs": [],
   "source": [
    "timestamp = datetime.now().strftime('%Y-%m-%d_%H%M')\n",
    "expariment_date = datetime.now().strftime('%Y-%m-%d')\n",
    "base_experiment_name=(exchange + '_' + symbol + '_' + timeframe + '_' + start_date + '_' + end_date + '_' + timestamp).replace('/', '-')"
   ]
  },
  {
   "cell_type": "code",
   "execution_count": null,
   "id": "2620c3fd-39fe-4306-aff3-6f723015d0c2",
   "metadata": {},
   "outputs": [],
   "source": [
    "data = load_candles(exchange, symbol, timeframe=timeframe, factor=asset_factor, start_date=start_date, end_date=end_date)"
   ]
  },
  {
   "cell_type": "markdown",
   "id": "7974520c-efaf-4426-b7e4-779fc963c51e",
   "metadata": {},
   "source": [
    "# Class"
   ]
  },
  {
   "cell_type": "code",
   "execution_count": null,
   "id": "723f0c00-9dcb-4f96-ae48-fb27176f3857",
   "metadata": {},
   "outputs": [],
   "source": [
    "class DCA_Conditional_Buy_LR_with_TrailingStop(Strategy):  \n",
    "    # DCA + Moving Stop Loss\n",
    "    \n",
    "    band_length = 13\n",
    "    band_mult = 1\n",
    "    band_low_pct = 1\n",
    "    \n",
    "    intial_sl_factor = 0.0\n",
    "    minimal_benefit_to_start_trailing = 1.003\n",
    "    \n",
    "    sleep_by = 0\n",
    "\n",
    "    reinvest = 2 # 0 = use only initial, 1 = reinvest all, 2 = use dca_budget reinvesting all\n",
    "    stop_loose_changes = 0\n",
    "    i_cash = 1_000\n",
    "    \n",
    "    buy_all_days = 0\n",
    "    dca_budget = 100\n",
    "    lr_buy_longitude = 3\n",
    "    \n",
    "    \n",
    "    def lb_close(self,data): #lower_band_stdev_formula\n",
    "        dema = ta.dema(close = data.Close.s, length=self.band_length).to_numpy()\n",
    "        stdev = ta.stdev(close = data.Close.s, length=self.band_length).to_numpy()\n",
    "        lower_band = dema - ( self.band_mult * stdev )\n",
    "        return lower_band\n",
    "    \n",
    "    \n",
    "    def lb_low(self,data): # lower_band_stdev_formula_on_low\n",
    "        dema = ta.dema(close = data.Close.s, length=self.band_length).to_numpy()\n",
    "        stdev = ta.stdev(close = data.Close.s, length=self.band_length).to_numpy()\n",
    "        lower_band = (dema - ( self.band_mult * stdev )) * ( 1 - (self.band_low_pct/100) )\n",
    "        return lower_band\n",
    "\n",
    "    \n",
    "    def LR(self,data):\n",
    "        # https://greyhoundanalytics.com/blog/custom-indicators-in-backtestingpy/\n",
    "        linreg = ta.linreg(close = data.Close.s, length=self.lr_buy_longitude, angle=True )\n",
    "        return linreg.to_numpy()\n",
    "    \n",
    "\n",
    "    \n",
    "    def calculate_size(self):\n",
    "        if self.reinvest==0:\n",
    "            if self.equity < self.i_cash:\n",
    "                cash = self.equity\n",
    "            else:\n",
    "                cash = self.i_cash\n",
    "            size = int((cash / self.data.Close[-1]) * 0.99 )\n",
    "            #print(f\"buy with limit {size} = {self.i_cash} / {self.data.Close[-1]}\")\n",
    "        elif self.reinvest==1:\n",
    "            size = int( (self.equity / self.data.Close[-1]) * 0.99 )\n",
    "            #print(f\"buy no limit {size} = {self.equity} / {self.data.Close[-1]} \")\n",
    "        elif self.reinvest==2:\n",
    "            if self.equity < self.dca_budget:\n",
    "                cash = self.equity\n",
    "            else:\n",
    "                cash = self.dca_budget\n",
    "            size = int( ( cash / self.data.Close[-1]) * 0.99 )\n",
    "\n",
    "        return size\n",
    "    \n",
    "\n",
    "    \n",
    "    def init(self):\n",
    "        self.day_of_week = self.I(lambda x: x,self.data.Close.s.index.dayofweek,plot = False,)\n",
    "        self.lr_buy = self.I(self.LR, self.data,plot = False)\n",
    "        self.lower_band = self.I(self.lb_close, self.data)\n",
    "        self.lb_low = self.I(self.lb_low, self.data)\n",
    "\n",
    "        self.current_stop_loss = 0 \n",
    "        self.i_cash = self.equity\n",
    "        self.dca_bought = False\n",
    "        \n",
    "    def do_buy(self,sl):\n",
    "        self.current_stop_loss = sl * self.intial_sl_factor\n",
    "        size=self.calculate_size()\n",
    "        if size>0:\n",
    "            self.buy(size=size,sl=self.current_stop_loss) \n",
    "        \n",
    "    def next(self):\n",
    "\n",
    "        new_stop = self.lower_band[-1]\n",
    "        new_stop_price = self.lb_low[-1]\n",
    "        \n",
    "        if self.reinvest in [0,1]:\n",
    "            if not self.position:\n",
    "                if not self.should_sleep(): \n",
    "                    self.do_buy(new_stop)\n",
    "                    self.sleep_by = random.random() * 7 * 24 * 60 \n",
    "        else:\n",
    "            if self.day_of_week[-1] == 1 or self.buy_all_days: \n",
    "                if self.dca_bought == False and self.lr_buy[-1]>0:\n",
    "                    self.do_buy(new_stop)\n",
    "                    self.dca_bought == True\n",
    "            else:\n",
    "                self.dca_bought == False\n",
    "        \n",
    "         \n",
    "        if new_stop > self.current_stop_loss:\n",
    "            self.current_stop_loss = new_stop\n",
    "            for trade in self.trades:\n",
    "                if new_stop_price > trade.entry_price * self.minimal_benefit_to_start_trailing:\n",
    "                    old_stop = trade.sl\n",
    "                    if self.data.Close[-1] > new_stop:\n",
    "                        trade.sl = new_stop\n",
    "                        #print(f\"I'm recreating the stop loss {old_stop}, new: {new_stop}. Entry price {self.trades[0].entry_price}\")\n",
    "            else:\n",
    "                #print(f\"ERROR, I'm trying to create the stop loss {old_stop}, new: {new_stop}. Entry price {self.trades[0].entry_price}\")\n",
    "                pass"
   ]
  },
  {
   "cell_type": "markdown",
   "id": "314acc42-4aba-4468-be1c-20a26ead81c7",
   "metadata": {},
   "source": [
    "# Optimization"
   ]
  },
  {
   "cell_type": "code",
   "execution_count": null,
   "id": "651d31b1-3bb8-4c2a-a3c6-06bf605fd9c8",
   "metadata": {},
   "outputs": [],
   "source": [
    "start_time = time.time()"
   ]
  },
  {
   "cell_type": "code",
   "execution_count": null,
   "id": "d9544a63-2db5-436d-8f48-34269fb8e82e",
   "metadata": {},
   "outputs": [],
   "source": [
    "fb = [1, 1, 2, 3, 5, 8, 13, 21, 34, 55, 89, 144, 233, 377, 610, 987]"
   ]
  },
  {
   "cell_type": "code",
   "execution_count": null,
   "id": "4836f45b-9158-4b10-9184-260896e86208",
   "metadata": {},
   "outputs": [],
   "source": [
    "data[\"open_low_var\"] = ((data[\"Open\"] - data[\"Low\"]) / data[\"Open\"]) * 100\n",
    "open_low_var = data[\"open_low_var\"].mean()\n",
    "open_low_var"
   ]
  },
  {
   "cell_type": "code",
   "execution_count": null,
   "id": "5f44dbfb-d394-44d3-8623-0b33936bac10",
   "metadata": {},
   "outputs": [],
   "source": [
    "bt = Backtest(data, DCA_Conditional_Buy_LR_with_TrailingStop, cash=total_cash, commission=.001)\n",
    "optimize = True\n",
    "heatmap = None\n",
    "\n",
    "if optimize:\n",
    "     stats, heatmap = bt.optimize(return_heatmap= True,maximize=\"Return [%]\",\n",
    "                        band_length=[3,5,9,11,13,21,34],\n",
    "                        band_mult=[1,2],\n",
    "                        band_low_pct=open_low_var,\n",
    "                        #sl_activation_margin=[1.003, 1.004, 1.005, 1.006, 1.007, 1.008, 1.009, 1.01, 1.012 ],\n",
    "                        minimal_benefit_to_start_trailing=[1.003],\n",
    "                        reinvest = [2],\n",
    "                        dca_budget = dca_budget,\n",
    "                        buy_all_days=[0,1], # daily or weekly\n",
    "                        lr_buy_longitude=[*range(2, 13, 1)],\n",
    "\n",
    "    )\n",
    "else:\n",
    "    # fast run\n",
    "    stats = bt.run(band_lenght=11,band_mult=2,minimal_benefit_to_start_trailing=1.003,reinvest=2,dca_budget=200,buy_all_days=1,lr_buy_longitude=6)\n",
    "\n"
   ]
  },
  {
   "cell_type": "code",
   "execution_count": null,
   "id": "4bf3c8af-2c22-4745-a42c-f2f08d441a22",
   "metadata": {},
   "outputs": [],
   "source": [
    "end_time = time.time()\n",
    "duration = (end_time - start_time)\n",
    "print(\"--- %s seconds ---\" % duration )"
   ]
  },
  {
   "cell_type": "markdown",
   "id": "fcb70b95-8f41-4e54-a6d5-996948f5a251",
   "metadata": {},
   "source": [
    "# Results"
   ]
  },
  {
   "cell_type": "code",
   "execution_count": null,
   "id": "fb2731b4-a869-463d-84ff-d7ca393e7ca3",
   "metadata": {},
   "outputs": [],
   "source": [
    "stats._strategy"
   ]
  },
  {
   "cell_type": "code",
   "execution_count": null,
   "id": "58cf3eb3-953f-417d-9cda-90b1bc683c8d",
   "metadata": {},
   "outputs": [],
   "source": [
    "stats"
   ]
  },
  {
   "cell_type": "code",
   "execution_count": null,
   "id": "fd0d1e83-e2ab-4ab5-873d-a70e91bfd2f1",
   "metadata": {},
   "outputs": [],
   "source": [
    "#bt.plot()"
   ]
  },
  {
   "cell_type": "code",
   "execution_count": null,
   "id": "057493c7-d81f-47ea-95bb-bfd13904b150",
   "metadata": {},
   "outputs": [],
   "source": [
    "#from backtesting.lib import plot_heatmaps\n",
    "#plot_heatmaps(heatmap)"
   ]
  },
  {
   "cell_type": "code",
   "execution_count": null,
   "id": "d68db302-64d0-4048-a74d-76d2232ee5da",
   "metadata": {},
   "outputs": [],
   "source": [
    "if not(heatmap is None):\n",
    "    heatmap_df = process_heatmap(heatmap)\n",
    "else:\n",
    "    heatmap_df = pd.DataFrame()\n",
    "\n",
    "heatmap_df"
   ]
  },
  {
   "cell_type": "markdown",
   "id": "8bc92648-e897-425f-b812-dcf75a5a4cb1",
   "metadata": {},
   "source": [
    "# Write results"
   ]
  },
  {
   "cell_type": "code",
   "execution_count": null,
   "id": "96d741c5-108e-43de-be4d-18bbb3068c04",
   "metadata": {},
   "outputs": [],
   "source": [
    "base_results_dir = 'results'"
   ]
  },
  {
   "cell_type": "code",
   "execution_count": null,
   "id": "164cf63c-0097-49d1-993f-3bb7aeaae7d3",
   "metadata": {},
   "outputs": [],
   "source": [
    "srt_strategy_configuration = str(stats._strategy)\n",
    "str_strategy_name = srt_strategy_configuration[:srt_strategy_configuration.find(\"(\")]\n",
    "parameters = srt_strategy_configuration[srt_strategy_configuration.find(\"(\") + 1:-1]"
   ]
  },
  {
   "cell_type": "code",
   "execution_count": null,
   "id": "c1703dba-14cd-48ff-be5f-4bd6f5d8797b",
   "metadata": {},
   "outputs": [],
   "source": [
    "directory = base_results_dir + '/' + str_strategy_name + '/' + expariment_date + '/' + experiment_nickname + '/' + base_experiment_name\n",
    "directory"
   ]
  },
  {
   "cell_type": "code",
   "execution_count": null,
   "id": "033b0cf0-16c2-42de-b24b-ea6c9b435ad8",
   "metadata": {},
   "outputs": [],
   "source": [
    "if not os.path.exists(directory):\n",
    "    os.makedirs(directory)"
   ]
  },
  {
   "cell_type": "code",
   "execution_count": null,
   "id": "81ef270c-efe0-4e89-a2fa-9d663a736add",
   "metadata": {},
   "outputs": [],
   "source": [
    "#bt.plot(filename=directory+'/bt_interactive_plot.html')"
   ]
  },
  {
   "cell_type": "code",
   "execution_count": null,
   "id": "dc0c9549-1311-41a3-960c-71bf8b3b1850",
   "metadata": {},
   "outputs": [],
   "source": [
    "file_name = directory + \"/heatmap_df\"   \n",
    "\n",
    "with pd.ExcelWriter(file_name + \".xlsx\", engine='xlsxwriter') as writer:\n",
    "    heatmap_df.to_excel(writer, index=False)\n",
    "heatmap_df.to_markdown(file_name + \".md\")\n",
    "\n",
    "file_name = directory + \"/trades\"   \n",
    "\n",
    "with pd.ExcelWriter(file_name + \".xlsx\", engine='xlsxwriter') as writer:\n",
    "    stats._trades.to_excel(writer, index=False)\n",
    "stats._trades.to_markdown(file_name + \".md\")\n",
    "\n",
    "file_name = directory + \"/equity_curve\"   \n",
    "\n",
    "with pd.ExcelWriter(file_name + \".xlsx\", engine='xlsxwriter') as writer:\n",
    "    stats._equity_curve.to_excel(writer, index=False)\n",
    "stats._equity_curve.to_markdown(file_name + \".md\")   "
   ]
  },
  {
   "cell_type": "code",
   "execution_count": null,
   "id": "91928a7e-1f69-4ed9-ac19-94887e88b562",
   "metadata": {},
   "outputs": [],
   "source": [
    "str_stats = str(stats)"
   ]
  },
  {
   "cell_type": "code",
   "execution_count": null,
   "id": "8e010852-281c-47a0-876c-66e70bd8bfa4",
   "metadata": {},
   "outputs": [],
   "source": [
    "heatmap_md = heatmap_df[0:10].to_markdown()"
   ]
  },
  {
   "cell_type": "code",
   "execution_count": null,
   "id": "3f07fec7-31cd-46ad-bffb-8a0e79e5e1a9",
   "metadata": {},
   "outputs": [],
   "source": [
    "strat_return = stats['Return [%]']\n",
    "buy_and_hold = stats['Buy & Hold Return [%]']\n",
    "equity_init = stats._equity_curve[0:1]['Equity'].iloc[0]\n",
    "equity_final = stats['Equity Final [$]']"
   ]
  },
  {
   "cell_type": "code",
   "execution_count": null,
   "id": "8b8c260c-e498-4d10-8b09-a7144101a01d",
   "metadata": {},
   "outputs": [],
   "source": [
    "jinja2_templates_dir = 'templates'\n",
    "jinja2_template_file = 'single_result.md'\n",
    "\n",
    "# write results\n",
    "filename = f\"{directory}/index.md\"\n",
    "environment = jinja2.Environment(loader=jinja2.FileSystemLoader(jinja2_templates_dir))\n",
    "template = environment.get_template(jinja2_template_file)\n",
    "rendered = template.render(str_strategy_name=str_strategy_name, experiment_nickname= experiment_nickname,\n",
    "                           timestamp=timestamp,\n",
    "                           symbol=symbol, exchange=exchange, \n",
    "                           start_date=start_date, end_date=end_date, timeframe=timeframe,\n",
    "                           str_stats=str_stats, \n",
    "                           heatmap_md=heatmap_md, parameters=parameters.split(','), \n",
    "                           strat_return=strat_return, buy_and_hold=buy_and_hold, \n",
    "                           equity_init=equity_init,\n",
    "                           equity_final=equity_final,duration=duration)\n",
    "\n",
    "with open(filename, mode=\"w\", encoding=\"utf-8\") as message:\n",
    "    message.write(rendered)\n",
    "    print(f\"Wrote: {filename}\")"
   ]
  }
 ],
 "metadata": {
  "kernelspec": {
   "display_name": "Python 3 (ipykernel)",
   "language": "python",
   "name": "python3"
  },
  "language_info": {
   "codemirror_mode": {
    "name": "ipython",
    "version": 3
   },
   "file_extension": ".py",
   "mimetype": "text/x-python",
   "name": "python",
   "nbconvert_exporter": "python",
   "pygments_lexer": "ipython3",
   "version": "3.10.6"
  }
 },
 "nbformat": 4,
 "nbformat_minor": 5
}

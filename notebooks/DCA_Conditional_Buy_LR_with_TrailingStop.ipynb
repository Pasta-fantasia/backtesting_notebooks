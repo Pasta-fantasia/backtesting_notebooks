{
 "cells": [
  {
   "cell_type": "markdown",
   "id": "64f0e7bc-55d5-4791-ac06-9d3a6ac6dac3",
   "metadata": {},
   "source": [
    "# imports ..."
   ]
  },
  {
   "cell_type": "code",
   "execution_count": 1,
   "id": "eebf55c3-e284-48d7-b686-f1cdf0ced00a",
   "metadata": {},
   "outputs": [],
   "source": [
    "import warnings\n",
    "warnings.simplefilter(action='ignore', category=FutureWarning)\n",
    "warnings.filterwarnings('ignore')"
   ]
  },
  {
   "cell_type": "code",
   "execution_count": 2,
   "id": "592a2af3-5918-4bb8-8f71-3a07e39d83b7",
   "metadata": {},
   "outputs": [
    {
     "data": {
      "text/html": [
       "<style>\n",
       "        .bk-notebook-logo {\n",
       "            display: block;\n",
       "            width: 20px;\n",
       "            height: 20px;\n",
       "            background-image: url(data:image/png;base64,iVBORw0KGgoAAAANSUhEUgAAABQAAAAUCAYAAACNiR0NAAAABHNCSVQICAgIfAhkiAAAAAlwSFlzAAALEgAACxIB0t1+/AAAABx0RVh0U29mdHdhcmUAQWRvYmUgRmlyZXdvcmtzIENTNui8sowAAAOkSURBVDiNjZRtaJVlGMd/1/08zzln5zjP1LWcU9N0NkN8m2CYjpgQYQXqSs0I84OLIC0hkEKoPtiH3gmKoiJDU7QpLgoLjLIQCpEsNJ1vqUOdO7ppbuec5+V+rj4ctwzd8IIbbi6u+8f1539dt3A78eXC7QizUF7gyV1fD1Yqg4JWz84yffhm0qkFqBogB9rM8tZdtwVsPUhWhGcFJngGeWrPzHm5oaMmkfEg1usvLFyc8jLRqDOMru7AyC8saQr7GG7f5fvDeH7Ej8CM66nIF+8yngt6HWaKh7k49Soy9nXurCi1o3qUbS3zWfrYeQDTB/Qj6kX6Ybhw4B+bOYoLKCC9H3Nu/leUTZ1JdRWkkn2ldcCamzrcf47KKXdAJllSlxAOkRgyHsGC/zRday5Qld9DyoM4/q/rUoy/CXh3jzOu3bHUVZeU+DEn8FInkPBFlu3+nW3Nw0mk6vCDiWg8CeJaxEwuHS3+z5RgY+YBR6V1Z1nxSOfoaPa4LASWxxdNp+VWTk7+4vzaou8v8PN+xo+KY2xsw6une2frhw05CTYOmQvsEhjhWjn0bmXPjpE1+kplmmkP3suftwTubK9Vq22qKmrBhpY4jvd5afdRA3wGjFAgcnTK2s4hY0/GPNIb0nErGMCRxWOOX64Z8RAC4oCXdklmEvcL8o0BfkNK4lUg9HTl+oPlQxdNo3Mg4Nv175e/1LDGzZen30MEjRUtmXSfiTVu1kK8W4txyV6BMKlbgk3lMwYCiusNy9fVfvvwMxv8Ynl6vxoByANLTWplvuj/nF9m2+PDtt1eiHPBr1oIfhCChQMBw6Aw0UulqTKZdfVvfG7VcfIqLG9bcldL/+pdWTLxLUy8Qq38heUIjh4XlzZxzQm19lLFlr8vdQ97rjZVOLf8nclzckbcD4wxXMidpX30sFd37Fv/GtwwhzhxGVAprjbg0gCAEeIgwCZyTV2Z1REEW8O4py0wsjeloKoMr6iCY6dP92H6Vw/oTyICIthibxjm/DfN9lVz8IqtqKYLUXfoKVMVQVVJOElGjrnnUt9T9wbgp8AyYKaGlqingHZU/uG2NTZSVqwHQTWkx9hxjkpWDaCg6Ckj5qebgBVbT3V3NNXMSiWSDdGV3hrtzla7J+duwPOToIg42ChPQOQjspnSlp1V+Gjdged7+8UN5CRAV7a5EdFNwCjEaBR27b3W890TE7g24NAP/mMDXRWrGoFPQI9ls/MWO2dWFAar/xcOIImbbpA3zgAAAABJRU5ErkJggg==);\n",
       "        }\n",
       "    </style>\n",
       "    <div>\n",
       "        <a href=\"https://bokeh.org\" target=\"_blank\" class=\"bk-notebook-logo\"></a>\n",
       "        <span id=\"b856f00e-a2da-4844-afac-83fc5036add8\">Loading BokehJS ...</span>\n",
       "    </div>\n"
      ]
     },
     "metadata": {},
     "output_type": "display_data"
    },
    {
     "data": {
      "application/javascript": [
       "(function(root) {\n",
       "  function now() {\n",
       "    return new Date();\n",
       "  }\n",
       "\n",
       "  const force = true;\n",
       "\n",
       "  if (typeof root._bokeh_onload_callbacks === \"undefined\" || force === true) {\n",
       "    root._bokeh_onload_callbacks = [];\n",
       "    root._bokeh_is_loading = undefined;\n",
       "  }\n",
       "\n",
       "const JS_MIME_TYPE = 'application/javascript';\n",
       "  const HTML_MIME_TYPE = 'text/html';\n",
       "  const EXEC_MIME_TYPE = 'application/vnd.bokehjs_exec.v0+json';\n",
       "  const CLASS_NAME = 'output_bokeh rendered_html';\n",
       "\n",
       "  /**\n",
       "   * Render data to the DOM node\n",
       "   */\n",
       "  function render(props, node) {\n",
       "    const script = document.createElement(\"script\");\n",
       "    node.appendChild(script);\n",
       "  }\n",
       "\n",
       "  /**\n",
       "   * Handle when an output is cleared or removed\n",
       "   */\n",
       "  function handleClearOutput(event, handle) {\n",
       "    const cell = handle.cell;\n",
       "\n",
       "    const id = cell.output_area._bokeh_element_id;\n",
       "    const server_id = cell.output_area._bokeh_server_id;\n",
       "    // Clean up Bokeh references\n",
       "    if (id != null && id in Bokeh.index) {\n",
       "      Bokeh.index[id].model.document.clear();\n",
       "      delete Bokeh.index[id];\n",
       "    }\n",
       "\n",
       "    if (server_id !== undefined) {\n",
       "      // Clean up Bokeh references\n",
       "      const cmd_clean = \"from bokeh.io.state import curstate; print(curstate().uuid_to_server['\" + server_id + \"'].get_sessions()[0].document.roots[0]._id)\";\n",
       "      cell.notebook.kernel.execute(cmd_clean, {\n",
       "        iopub: {\n",
       "          output: function(msg) {\n",
       "            const id = msg.content.text.trim();\n",
       "            if (id in Bokeh.index) {\n",
       "              Bokeh.index[id].model.document.clear();\n",
       "              delete Bokeh.index[id];\n",
       "            }\n",
       "          }\n",
       "        }\n",
       "      });\n",
       "      // Destroy server and session\n",
       "      const cmd_destroy = \"import bokeh.io.notebook as ion; ion.destroy_server('\" + server_id + \"')\";\n",
       "      cell.notebook.kernel.execute(cmd_destroy);\n",
       "    }\n",
       "  }\n",
       "\n",
       "  /**\n",
       "   * Handle when a new output is added\n",
       "   */\n",
       "  function handleAddOutput(event, handle) {\n",
       "    const output_area = handle.output_area;\n",
       "    const output = handle.output;\n",
       "\n",
       "    // limit handleAddOutput to display_data with EXEC_MIME_TYPE content only\n",
       "    if ((output.output_type != \"display_data\") || (!Object.prototype.hasOwnProperty.call(output.data, EXEC_MIME_TYPE))) {\n",
       "      return\n",
       "    }\n",
       "\n",
       "    const toinsert = output_area.element.find(\".\" + CLASS_NAME.split(' ')[0]);\n",
       "\n",
       "    if (output.metadata[EXEC_MIME_TYPE][\"id\"] !== undefined) {\n",
       "      toinsert[toinsert.length - 1].firstChild.textContent = output.data[JS_MIME_TYPE];\n",
       "      // store reference to embed id on output_area\n",
       "      output_area._bokeh_element_id = output.metadata[EXEC_MIME_TYPE][\"id\"];\n",
       "    }\n",
       "    if (output.metadata[EXEC_MIME_TYPE][\"server_id\"] !== undefined) {\n",
       "      const bk_div = document.createElement(\"div\");\n",
       "      bk_div.innerHTML = output.data[HTML_MIME_TYPE];\n",
       "      const script_attrs = bk_div.children[0].attributes;\n",
       "      for (let i = 0; i < script_attrs.length; i++) {\n",
       "        toinsert[toinsert.length - 1].firstChild.setAttribute(script_attrs[i].name, script_attrs[i].value);\n",
       "        toinsert[toinsert.length - 1].firstChild.textContent = bk_div.children[0].textContent\n",
       "      }\n",
       "      // store reference to server id on output_area\n",
       "      output_area._bokeh_server_id = output.metadata[EXEC_MIME_TYPE][\"server_id\"];\n",
       "    }\n",
       "  }\n",
       "\n",
       "  function register_renderer(events, OutputArea) {\n",
       "\n",
       "    function append_mime(data, metadata, element) {\n",
       "      // create a DOM node to render to\n",
       "      const toinsert = this.create_output_subarea(\n",
       "        metadata,\n",
       "        CLASS_NAME,\n",
       "        EXEC_MIME_TYPE\n",
       "      );\n",
       "      this.keyboard_manager.register_events(toinsert);\n",
       "      // Render to node\n",
       "      const props = {data: data, metadata: metadata[EXEC_MIME_TYPE]};\n",
       "      render(props, toinsert[toinsert.length - 1]);\n",
       "      element.append(toinsert);\n",
       "      return toinsert\n",
       "    }\n",
       "\n",
       "    /* Handle when an output is cleared or removed */\n",
       "    events.on('clear_output.CodeCell', handleClearOutput);\n",
       "    events.on('delete.Cell', handleClearOutput);\n",
       "\n",
       "    /* Handle when a new output is added */\n",
       "    events.on('output_added.OutputArea', handleAddOutput);\n",
       "\n",
       "    /**\n",
       "     * Register the mime type and append_mime function with output_area\n",
       "     */\n",
       "    OutputArea.prototype.register_mime_type(EXEC_MIME_TYPE, append_mime, {\n",
       "      /* Is output safe? */\n",
       "      safe: true,\n",
       "      /* Index of renderer in `output_area.display_order` */\n",
       "      index: 0\n",
       "    });\n",
       "  }\n",
       "\n",
       "  // register the mime type if in Jupyter Notebook environment and previously unregistered\n",
       "  if (root.Jupyter !== undefined) {\n",
       "    const events = require('base/js/events');\n",
       "    const OutputArea = require('notebook/js/outputarea').OutputArea;\n",
       "\n",
       "    if (OutputArea.prototype.mime_types().indexOf(EXEC_MIME_TYPE) == -1) {\n",
       "      register_renderer(events, OutputArea);\n",
       "    }\n",
       "  }\n",
       "  if (typeof (root._bokeh_timeout) === \"undefined\" || force === true) {\n",
       "    root._bokeh_timeout = Date.now() + 5000;\n",
       "    root._bokeh_failed_load = false;\n",
       "  }\n",
       "\n",
       "  const NB_LOAD_WARNING = {'data': {'text/html':\n",
       "     \"<div style='background-color: #fdd'>\\n\"+\n",
       "     \"<p>\\n\"+\n",
       "     \"BokehJS does not appear to have successfully loaded. If loading BokehJS from CDN, this \\n\"+\n",
       "     \"may be due to a slow or bad network connection. Possible fixes:\\n\"+\n",
       "     \"</p>\\n\"+\n",
       "     \"<ul>\\n\"+\n",
       "     \"<li>re-rerun `output_notebook()` to attempt to load from CDN again, or</li>\\n\"+\n",
       "     \"<li>use INLINE resources instead, as so:</li>\\n\"+\n",
       "     \"</ul>\\n\"+\n",
       "     \"<code>\\n\"+\n",
       "     \"from bokeh.resources import INLINE\\n\"+\n",
       "     \"output_notebook(resources=INLINE)\\n\"+\n",
       "     \"</code>\\n\"+\n",
       "     \"</div>\"}};\n",
       "\n",
       "  function display_loaded() {\n",
       "    const el = document.getElementById(\"b856f00e-a2da-4844-afac-83fc5036add8\");\n",
       "    if (el != null) {\n",
       "      el.textContent = \"BokehJS is loading...\";\n",
       "    }\n",
       "    if (root.Bokeh !== undefined) {\n",
       "      if (el != null) {\n",
       "        el.textContent = \"BokehJS \" + root.Bokeh.version + \" successfully loaded.\";\n",
       "      }\n",
       "    } else if (Date.now() < root._bokeh_timeout) {\n",
       "      setTimeout(display_loaded, 100)\n",
       "    }\n",
       "  }\n",
       "\n",
       "  function run_callbacks() {\n",
       "    try {\n",
       "      root._bokeh_onload_callbacks.forEach(function(callback) {\n",
       "        if (callback != null)\n",
       "          callback();\n",
       "      });\n",
       "    } finally {\n",
       "      delete root._bokeh_onload_callbacks\n",
       "    }\n",
       "    console.debug(\"Bokeh: all callbacks have finished\");\n",
       "  }\n",
       "\n",
       "  function load_libs(css_urls, js_urls, callback) {\n",
       "    if (css_urls == null) css_urls = [];\n",
       "    if (js_urls == null) js_urls = [];\n",
       "\n",
       "    root._bokeh_onload_callbacks.push(callback);\n",
       "    if (root._bokeh_is_loading > 0) {\n",
       "      console.debug(\"Bokeh: BokehJS is being loaded, scheduling callback at\", now());\n",
       "      return null;\n",
       "    }\n",
       "    if (js_urls == null || js_urls.length === 0) {\n",
       "      run_callbacks();\n",
       "      return null;\n",
       "    }\n",
       "    console.debug(\"Bokeh: BokehJS not loaded, scheduling load and callback at\", now());\n",
       "    root._bokeh_is_loading = css_urls.length + js_urls.length;\n",
       "\n",
       "    function on_load() {\n",
       "      root._bokeh_is_loading--;\n",
       "      if (root._bokeh_is_loading === 0) {\n",
       "        console.debug(\"Bokeh: all BokehJS libraries/stylesheets loaded\");\n",
       "        run_callbacks()\n",
       "      }\n",
       "    }\n",
       "\n",
       "    function on_error(url) {\n",
       "      console.error(\"failed to load \" + url);\n",
       "    }\n",
       "\n",
       "    for (let i = 0; i < css_urls.length; i++) {\n",
       "      const url = css_urls[i];\n",
       "      const element = document.createElement(\"link\");\n",
       "      element.onload = on_load;\n",
       "      element.onerror = on_error.bind(null, url);\n",
       "      element.rel = \"stylesheet\";\n",
       "      element.type = \"text/css\";\n",
       "      element.href = url;\n",
       "      console.debug(\"Bokeh: injecting link tag for BokehJS stylesheet: \", url);\n",
       "      document.body.appendChild(element);\n",
       "    }\n",
       "\n",
       "    for (let i = 0; i < js_urls.length; i++) {\n",
       "      const url = js_urls[i];\n",
       "      const element = document.createElement('script');\n",
       "      element.onload = on_load;\n",
       "      element.onerror = on_error.bind(null, url);\n",
       "      element.async = false;\n",
       "      element.src = url;\n",
       "      console.debug(\"Bokeh: injecting script tag for BokehJS library: \", url);\n",
       "      document.head.appendChild(element);\n",
       "    }\n",
       "  };\n",
       "\n",
       "  function inject_raw_css(css) {\n",
       "    const element = document.createElement(\"style\");\n",
       "    element.appendChild(document.createTextNode(css));\n",
       "    document.body.appendChild(element);\n",
       "  }\n",
       "\n",
       "  const js_urls = [\"https://cdn.bokeh.org/bokeh/release/bokeh-3.2.0.min.js\", \"https://cdn.bokeh.org/bokeh/release/bokeh-gl-3.2.0.min.js\", \"https://cdn.bokeh.org/bokeh/release/bokeh-widgets-3.2.0.min.js\", \"https://cdn.bokeh.org/bokeh/release/bokeh-tables-3.2.0.min.js\", \"https://cdn.bokeh.org/bokeh/release/bokeh-mathjax-3.2.0.min.js\"];\n",
       "  const css_urls = [];\n",
       "\n",
       "  const inline_js = [    function(Bokeh) {\n",
       "      Bokeh.set_log_level(\"info\");\n",
       "    },\n",
       "function(Bokeh) {\n",
       "    }\n",
       "  ];\n",
       "\n",
       "  function run_inline_js() {\n",
       "    if (root.Bokeh !== undefined || force === true) {\n",
       "          for (let i = 0; i < inline_js.length; i++) {\n",
       "      inline_js[i].call(root, root.Bokeh);\n",
       "    }\n",
       "if (force === true) {\n",
       "        display_loaded();\n",
       "      }} else if (Date.now() < root._bokeh_timeout) {\n",
       "      setTimeout(run_inline_js, 100);\n",
       "    } else if (!root._bokeh_failed_load) {\n",
       "      console.log(\"Bokeh: BokehJS failed to load within specified timeout.\");\n",
       "      root._bokeh_failed_load = true;\n",
       "    } else if (force !== true) {\n",
       "      const cell = $(document.getElementById(\"b856f00e-a2da-4844-afac-83fc5036add8\")).parents('.cell').data().cell;\n",
       "      cell.output_area.append_execute_result(NB_LOAD_WARNING)\n",
       "    }\n",
       "  }\n",
       "\n",
       "  if (root._bokeh_is_loading === 0) {\n",
       "    console.debug(\"Bokeh: BokehJS loaded, going straight to plotting\");\n",
       "    run_inline_js();\n",
       "  } else {\n",
       "    load_libs(css_urls, js_urls, function() {\n",
       "      console.debug(\"Bokeh: BokehJS plotting callback run at\", now());\n",
       "      run_inline_js();\n",
       "    });\n",
       "  }\n",
       "}(window));"
      ],
      "application/vnd.bokehjs_load.v0+json": "(function(root) {\n  function now() {\n    return new Date();\n  }\n\n  const force = true;\n\n  if (typeof root._bokeh_onload_callbacks === \"undefined\" || force === true) {\n    root._bokeh_onload_callbacks = [];\n    root._bokeh_is_loading = undefined;\n  }\n\n\n  if (typeof (root._bokeh_timeout) === \"undefined\" || force === true) {\n    root._bokeh_timeout = Date.now() + 5000;\n    root._bokeh_failed_load = false;\n  }\n\n  const NB_LOAD_WARNING = {'data': {'text/html':\n     \"<div style='background-color: #fdd'>\\n\"+\n     \"<p>\\n\"+\n     \"BokehJS does not appear to have successfully loaded. If loading BokehJS from CDN, this \\n\"+\n     \"may be due to a slow or bad network connection. Possible fixes:\\n\"+\n     \"</p>\\n\"+\n     \"<ul>\\n\"+\n     \"<li>re-rerun `output_notebook()` to attempt to load from CDN again, or</li>\\n\"+\n     \"<li>use INLINE resources instead, as so:</li>\\n\"+\n     \"</ul>\\n\"+\n     \"<code>\\n\"+\n     \"from bokeh.resources import INLINE\\n\"+\n     \"output_notebook(resources=INLINE)\\n\"+\n     \"</code>\\n\"+\n     \"</div>\"}};\n\n  function display_loaded() {\n    const el = document.getElementById(\"b856f00e-a2da-4844-afac-83fc5036add8\");\n    if (el != null) {\n      el.textContent = \"BokehJS is loading...\";\n    }\n    if (root.Bokeh !== undefined) {\n      if (el != null) {\n        el.textContent = \"BokehJS \" + root.Bokeh.version + \" successfully loaded.\";\n      }\n    } else if (Date.now() < root._bokeh_timeout) {\n      setTimeout(display_loaded, 100)\n    }\n  }\n\n  function run_callbacks() {\n    try {\n      root._bokeh_onload_callbacks.forEach(function(callback) {\n        if (callback != null)\n          callback();\n      });\n    } finally {\n      delete root._bokeh_onload_callbacks\n    }\n    console.debug(\"Bokeh: all callbacks have finished\");\n  }\n\n  function load_libs(css_urls, js_urls, callback) {\n    if (css_urls == null) css_urls = [];\n    if (js_urls == null) js_urls = [];\n\n    root._bokeh_onload_callbacks.push(callback);\n    if (root._bokeh_is_loading > 0) {\n      console.debug(\"Bokeh: BokehJS is being loaded, scheduling callback at\", now());\n      return null;\n    }\n    if (js_urls == null || js_urls.length === 0) {\n      run_callbacks();\n      return null;\n    }\n    console.debug(\"Bokeh: BokehJS not loaded, scheduling load and callback at\", now());\n    root._bokeh_is_loading = css_urls.length + js_urls.length;\n\n    function on_load() {\n      root._bokeh_is_loading--;\n      if (root._bokeh_is_loading === 0) {\n        console.debug(\"Bokeh: all BokehJS libraries/stylesheets loaded\");\n        run_callbacks()\n      }\n    }\n\n    function on_error(url) {\n      console.error(\"failed to load \" + url);\n    }\n\n    for (let i = 0; i < css_urls.length; i++) {\n      const url = css_urls[i];\n      const element = document.createElement(\"link\");\n      element.onload = on_load;\n      element.onerror = on_error.bind(null, url);\n      element.rel = \"stylesheet\";\n      element.type = \"text/css\";\n      element.href = url;\n      console.debug(\"Bokeh: injecting link tag for BokehJS stylesheet: \", url);\n      document.body.appendChild(element);\n    }\n\n    for (let i = 0; i < js_urls.length; i++) {\n      const url = js_urls[i];\n      const element = document.createElement('script');\n      element.onload = on_load;\n      element.onerror = on_error.bind(null, url);\n      element.async = false;\n      element.src = url;\n      console.debug(\"Bokeh: injecting script tag for BokehJS library: \", url);\n      document.head.appendChild(element);\n    }\n  };\n\n  function inject_raw_css(css) {\n    const element = document.createElement(\"style\");\n    element.appendChild(document.createTextNode(css));\n    document.body.appendChild(element);\n  }\n\n  const js_urls = [\"https://cdn.bokeh.org/bokeh/release/bokeh-3.2.0.min.js\", \"https://cdn.bokeh.org/bokeh/release/bokeh-gl-3.2.0.min.js\", \"https://cdn.bokeh.org/bokeh/release/bokeh-widgets-3.2.0.min.js\", \"https://cdn.bokeh.org/bokeh/release/bokeh-tables-3.2.0.min.js\", \"https://cdn.bokeh.org/bokeh/release/bokeh-mathjax-3.2.0.min.js\"];\n  const css_urls = [];\n\n  const inline_js = [    function(Bokeh) {\n      Bokeh.set_log_level(\"info\");\n    },\nfunction(Bokeh) {\n    }\n  ];\n\n  function run_inline_js() {\n    if (root.Bokeh !== undefined || force === true) {\n          for (let i = 0; i < inline_js.length; i++) {\n      inline_js[i].call(root, root.Bokeh);\n    }\nif (force === true) {\n        display_loaded();\n      }} else if (Date.now() < root._bokeh_timeout) {\n      setTimeout(run_inline_js, 100);\n    } else if (!root._bokeh_failed_load) {\n      console.log(\"Bokeh: BokehJS failed to load within specified timeout.\");\n      root._bokeh_failed_load = true;\n    } else if (force !== true) {\n      const cell = $(document.getElementById(\"b856f00e-a2da-4844-afac-83fc5036add8\")).parents('.cell').data().cell;\n      cell.output_area.append_execute_result(NB_LOAD_WARNING)\n    }\n  }\n\n  if (root._bokeh_is_loading === 0) {\n    console.debug(\"Bokeh: BokehJS loaded, going straight to plotting\");\n    run_inline_js();\n  } else {\n    load_libs(css_urls, js_urls, function() {\n      console.debug(\"Bokeh: BokehJS plotting callback run at\", now());\n      run_inline_js();\n    });\n  }\n}(window));"
     },
     "metadata": {},
     "output_type": "display_data"
    }
   ],
   "source": [
    "import time\n",
    "import os\n",
    "\n",
    "from datetime import date\n",
    "from datetime import timedelta\n",
    "from datetime import datetime\n",
    "\n",
    "import pickle\n",
    "\n",
    "import json\n",
    "\n",
    "import pandas as pd\n",
    "import numpy as np\n",
    "import random \n",
    "\n",
    "\n",
    "\n",
    "from backtesting import Strategy\n",
    "from backtesting import Backtest\n",
    "\n",
    "import pandas_ta as ta\n",
    "import jinja2"
   ]
  },
  {
   "cell_type": "code",
   "execution_count": 3,
   "id": "7454b74b-c484-46eb-94fc-8ce18f6a3919",
   "metadata": {},
   "outputs": [],
   "source": [
    "pd.set_option('display.max_colwidth', None)\n",
    "pd.set_option('display.max_rows', 500)\n",
    "pd.set_option('display.max_columns', 500)\n",
    "#pd.set_option('display.width', 1000)"
   ]
  },
  {
   "cell_type": "code",
   "execution_count": 4,
   "id": "52d805eb-bcd4-4a96-b2bb-cb85af95a36d",
   "metadata": {},
   "outputs": [],
   "source": [
    "from handle_data.read_data import load_candles\n",
    "from backtesting_sampler.sampler import process_heatmap"
   ]
  },
  {
   "cell_type": "markdown",
   "id": "8e33f635-2647-4522-8686-3a8a2ec336c2",
   "metadata": {},
   "source": [
    "# Configuration"
   ]
  },
  {
   "cell_type": "code",
   "execution_count": 5,
   "id": "6449c640-f1ca-4824-a847-073b424fb396",
   "metadata": {},
   "outputs": [],
   "source": [
    "# %%script false --no-raise-error\n",
    "\n",
    "if True:\n",
    "    symbol = \"BTC/USDT\"\n",
    "    asset_factor = 1_000_000\n",
    "    total_cash = 1000\n",
    "    dca_budget = [50,100,200,400,500,1000]\n",
    "\n",
    "if False:\n",
    "    symbol = \"ETH/USDT\"\n",
    "    asset_factor = 10_000\n",
    "    total_cash = 1000\n",
    "    dca_budget = [50,100,200,400,500,1000]\n",
    "\n",
    "\n",
    "timeframe='1d'\n",
    "exchange='Binance'\n",
    "\n",
    "experiment_nickname = \"Up_and_down\""
   ]
  },
  {
   "cell_type": "code",
   "execution_count": 6,
   "id": "444c796d-6eb1-4a74-85d2-d0e7d1ef8043",
   "metadata": {},
   "outputs": [
    {
     "name": "stdout",
     "output_type": "stream",
     "text": [
      "start_date: 2022-06-16\n",
      "end_date: 2023-03-10\n"
     ]
    }
   ],
   "source": [
    "history_days = 21\n",
    "start_date = (date.today() - timedelta(days=history_days)).strftime('%Y-%m-%d')\n",
    "end_date=None\n",
    "\n",
    "if experiment_nickname == \"Up_and_down\":\n",
    "    start_date = \"2019-11-01\"\n",
    "    end_date=\"2022-01-23\"\n",
    "elif experiment_nickname == \"LongTerm\":\n",
    "    start_date = \"2017-01-01\"\n",
    "    end_date=None\n",
    "elif experiment_nickname == \"Up\":\n",
    "    start_date = \"2023-01-01\"\n",
    "    end_date=None\n",
    "elif experiment_nickname == \"Bear\":\n",
    "    start_date = \"2021-11-12\"\n",
    "    end_date=\"2022-11-12\"\n",
    "elif experiment_nickname == \"Range\":\n",
    "    start_date = \"2022-06-16\"\n",
    "    end_date=\"2023-03-10\"\n",
    "\n",
    "    \n",
    "if not end_date:\n",
    "    end_date=date.today().strftime('%Y-%m-%d')\n",
    "    \n",
    "print(\"start_date:\",start_date)\n",
    "print(\"end_date:\",end_date)"
   ]
  },
  {
   "cell_type": "code",
   "execution_count": 7,
   "id": "f2f167df-f37a-4708-a90c-053b37c45381",
   "metadata": {},
   "outputs": [],
   "source": [
    "timestamp = datetime.now().strftime('%Y-%m-%d_%H%M')\n",
    "expariment_date = datetime.now().strftime('%Y-%m-%d')\n",
    "base_experiment_name=(exchange + '_' + symbol + '_' + timeframe + '_' + start_date + '_' + end_date + '_' + timestamp).replace('/', '-')"
   ]
  },
  {
   "cell_type": "code",
   "execution_count": 8,
   "id": "2620c3fd-39fe-4306-aff3-6f723015d0c2",
   "metadata": {},
   "outputs": [
    {
     "name": "stdout",
     "output_type": "stream",
     "text": [
      "reading /home/jovyan/work/data/ETH-USDT/1d/ETH-USDT_1d_Binance.pickle\n"
     ]
    }
   ],
   "source": [
    "data = load_candles(exchange, symbol, timeframe=timeframe, factor=asset_factor, start_date=start_date, end_date=end_date)"
   ]
  },
  {
   "cell_type": "markdown",
   "id": "7974520c-efaf-4426-b7e4-779fc963c51e",
   "metadata": {},
   "source": [
    "# Class"
   ]
  },
  {
   "cell_type": "code",
   "execution_count": 9,
   "id": "723f0c00-9dcb-4f96-ae48-fb27176f3857",
   "metadata": {},
   "outputs": [],
   "source": [
    "class DCA_Conditional_Buy_LR_with_TrailingStop(Strategy):  \n",
    "    # DCA + Moving Stop Loss\n",
    "    \n",
    "    band_length = 13\n",
    "    band_mult = 1\n",
    "    band_low_pct = 1\n",
    "    \n",
    "    intial_sl_factor = 0.0\n",
    "    minimal_benefit_to_start_trailing = 1.003\n",
    "    \n",
    "    sleep_by = 0\n",
    "\n",
    "    reinvest = 2 # 0 = use only initial, 1 = reinvest all, 2 = use dca_budget reinvesting all\n",
    "    stop_loose_changes = 0\n",
    "    i_cash = 1_000\n",
    "    \n",
    "    buy_all_days = 0\n",
    "    dca_budget = 100\n",
    "    lr_buy_longitude = 3\n",
    "    \n",
    "    \n",
    "    def lb_close(self,data): #lower_band_stdev_formula\n",
    "        dema = ta.dema(close = data.Close.s, length=self.band_length).to_numpy()\n",
    "        stdev = ta.stdev(close = data.Close.s, length=self.band_length).to_numpy()\n",
    "        lower_band = dema - ( self.band_mult * stdev )\n",
    "        return lower_band\n",
    "    \n",
    "    \n",
    "    def lb_low(self,data): # lower_band_stdev_formula_on_low\n",
    "        dema = ta.dema(close = data.Close.s, length=self.band_length).to_numpy()\n",
    "        stdev = ta.stdev(close = data.Close.s, length=self.band_length).to_numpy()\n",
    "        lower_band = (dema - ( self.band_mult * stdev )) * ( 1 - (self.band_low_pct/100) )\n",
    "        return lower_band\n",
    "\n",
    "    \n",
    "    def LR(self,data):\n",
    "        # https://greyhoundanalytics.com/blog/custom-indicators-in-backtestingpy/\n",
    "        linreg = ta.linreg(close = data.Close.s, length=self.lr_buy_longitude, angle=True )\n",
    "        return linreg.to_numpy()\n",
    "    \n",
    "\n",
    "    \n",
    "    def calculate_size(self):\n",
    "        if self.reinvest==0:\n",
    "            if self.equity < self.i_cash:\n",
    "                cash = self.equity\n",
    "            else:\n",
    "                cash = self.i_cash\n",
    "            size = int((cash / self.data.Close[-1]) * 0.99 )\n",
    "            #print(f\"buy with limit {size} = {self.i_cash} / {self.data.Close[-1]}\")\n",
    "        elif self.reinvest==1:\n",
    "            size = int( (self.equity / self.data.Close[-1]) * 0.99 )\n",
    "            #print(f\"buy no limit {size} = {self.equity} / {self.data.Close[-1]} \")\n",
    "        elif self.reinvest==2:\n",
    "            if self.equity < self.dca_budget:\n",
    "                cash = self.equity\n",
    "            else:\n",
    "                cash = self.dca_budget\n",
    "            size = int( ( cash / self.data.Close[-1]) * 0.99 )\n",
    "\n",
    "        return size\n",
    "    \n",
    "\n",
    "    \n",
    "    def init(self):\n",
    "        self.day_of_week = self.I(lambda x: x,self.data.Close.s.index.dayofweek,plot = False,)\n",
    "        self.lr_buy = self.I(self.LR, self.data,plot = False)\n",
    "        self.lower_band = self.I(self.lb_close, self.data)\n",
    "        self.lb_low = self.I(self.lb_low, self.data)\n",
    "\n",
    "        self.current_stop_loss = 0 \n",
    "        self.i_cash = self.equity\n",
    "        self.dca_bought = False\n",
    "        \n",
    "    def do_buy(self,sl):\n",
    "        self.current_stop_loss = sl * self.intial_sl_factor\n",
    "        size=self.calculate_size()\n",
    "        if size>0:\n",
    "            self.buy(size=size,sl=self.current_stop_loss) \n",
    "        \n",
    "    def next(self):\n",
    "\n",
    "        new_stop = self.lower_band[-1]\n",
    "        new_stop_price = self.lb_low[-1]\n",
    "        \n",
    "        if self.reinvest in [0,1]:\n",
    "            if not self.position:\n",
    "                if not self.should_sleep(): \n",
    "                    self.do_buy(new_stop)\n",
    "                    self.sleep_by = random.random() * 7 * 24 * 60 \n",
    "        else:\n",
    "            if self.day_of_week[-1] == 1 or self.buy_all_days: \n",
    "                if self.dca_bought == False and self.lr_buy[-1]>0:\n",
    "                    self.do_buy(new_stop)\n",
    "                    self.dca_bought == True\n",
    "            else:\n",
    "                self.dca_bought == False\n",
    "        \n",
    "         \n",
    "        if new_stop > self.current_stop_loss:\n",
    "            self.current_stop_loss = new_stop\n",
    "            for trade in self.trades:\n",
    "                if new_stop_price > trade.entry_price * self.minimal_benefit_to_start_trailing:\n",
    "                    old_stop = trade.sl\n",
    "                    if self.data.Close[-1] > new_stop:\n",
    "                        trade.sl = new_stop\n",
    "                        #print(f\"I'm recreating the stop loss {old_stop}, new: {new_stop}. Entry price {self.trades[0].entry_price}\")\n",
    "            else:\n",
    "                #print(f\"ERROR, I'm trying to create the stop loss {old_stop}, new: {new_stop}. Entry price {self.trades[0].entry_price}\")\n",
    "                pass"
   ]
  },
  {
   "cell_type": "markdown",
   "id": "314acc42-4aba-4468-be1c-20a26ead81c7",
   "metadata": {},
   "source": [
    "# Optimization"
   ]
  },
  {
   "cell_type": "code",
   "execution_count": 10,
   "id": "651d31b1-3bb8-4c2a-a3c6-06bf605fd9c8",
   "metadata": {},
   "outputs": [],
   "source": [
    "start_time = time.time()"
   ]
  },
  {
   "cell_type": "code",
   "execution_count": 11,
   "id": "d9544a63-2db5-436d-8f48-34269fb8e82e",
   "metadata": {},
   "outputs": [],
   "source": [
    "fb = [1, 1, 2, 3, 5, 8, 13, 21, 34, 55, 89, 144, 233, 377, 610, 987]"
   ]
  },
  {
   "cell_type": "code",
   "execution_count": 12,
   "id": "4836f45b-9158-4b10-9184-260896e86208",
   "metadata": {},
   "outputs": [
    {
     "data": {
      "text/plain": [
       "2.8878767"
      ]
     },
     "execution_count": 12,
     "metadata": {},
     "output_type": "execute_result"
    }
   ],
   "source": [
    "data[\"open_low_var\"] = ((data[\"Open\"] - data[\"Low\"]) / data[\"Open\"]) * 100\n",
    "open_low_var = data[\"open_low_var\"].mean()\n",
    "open_low_var"
   ]
  },
  {
   "cell_type": "code",
   "execution_count": 13,
   "id": "5f44dbfb-d394-44d3-8623-0b33936bac10",
   "metadata": {},
   "outputs": [
    {
     "data": {
      "application/vnd.jupyter.widget-view+json": {
       "model_id": "",
       "version_major": 2,
       "version_minor": 0
      },
      "text/plain": [
       "Backtest.optimize:   0%|          | 0/11 [00:00<?, ?it/s]"
      ]
     },
     "metadata": {},
     "output_type": "display_data"
    }
   ],
   "source": [
    "bt = Backtest(data, DCA_Conditional_Buy_LR_with_TrailingStop, cash=total_cash, commission=.001)\n",
    "optimize = True\n",
    "heatmap = None\n",
    "\n",
    "if optimize:\n",
    "     stats, heatmap = bt.optimize(return_heatmap= True,maximize=\"Return [%]\",\n",
    "                        band_length=[3,5,9,11,13,21,34],\n",
    "                        band_mult=[1,2],\n",
    "                        band_low_pct=open_low_var,\n",
    "                        #sl_activation_margin=[1.003, 1.004, 1.005, 1.006, 1.007, 1.008, 1.009, 1.01, 1.012 ],\n",
    "                        minimal_benefit_to_start_trailing=[1.003],\n",
    "                        reinvest = [2],\n",
    "                        dca_budget = dca_budget,\n",
    "                        buy_all_days=[0,1], # daily or weekly\n",
    "                        lr_buy_longitude=[*range(2, 13, 1)],\n",
    "\n",
    "    )\n",
    "else:\n",
    "    # fast run\n",
    "    stats = bt.run(band_lenght=11,band_mult=2,minimal_benefit_to_start_trailing=1.003,reinvest=2,dca_budget=200,buy_all_days=1,lr_buy_longitude=6)\n",
    "\n"
   ]
  },
  {
   "cell_type": "code",
   "execution_count": 14,
   "id": "4bf3c8af-2c22-4745-a42c-f2f08d441a22",
   "metadata": {},
   "outputs": [
    {
     "name": "stdout",
     "output_type": "stream",
     "text": [
      "--- 6.979151487350464 seconds ---\n"
     ]
    }
   ],
   "source": [
    "end_time = time.time()\n",
    "duration = (end_time - start_time)\n",
    "print(\"--- %s seconds ---\" % duration )"
   ]
  },
  {
   "cell_type": "markdown",
   "id": "fcb70b95-8f41-4e54-a6d5-996948f5a251",
   "metadata": {},
   "source": [
    "# Results"
   ]
  },
  {
   "cell_type": "code",
   "execution_count": 15,
   "id": "fb2731b4-a869-463d-84ff-d7ca393e7ca3",
   "metadata": {},
   "outputs": [
    {
     "data": {
      "text/plain": [
       "<Strategy DCA_Conditional_Buy_LR_with_TrailingStop(band_length=11,band_mult=1,band_low_pct=2.8878767,minimal_benefit_to_start_trailing=1.003,reinvest=2,dca_budget=1000,buy_all_days=0,lr_buy_longitude=6)>"
      ]
     },
     "execution_count": 15,
     "metadata": {},
     "output_type": "execute_result"
    }
   ],
   "source": [
    "stats._strategy"
   ]
  },
  {
   "cell_type": "code",
   "execution_count": 16,
   "id": "58cf3eb3-953f-417d-9cda-90b1bc683c8d",
   "metadata": {},
   "outputs": [
    {
     "data": {
      "text/plain": [
       "Start                     2022-06-16 00:00:00\n",
       "End                       2023-03-10 00:00:00\n",
       "Duration                    267 days 00:00:00\n",
       "Exposure Time [%]                        50.0\n",
       "Equity Final [$]                   1818.42143\n",
       "Equity Peak [$]                   1876.654019\n",
       "Return [%]                          81.842143\n",
       "Buy & Hold Return [%]               33.499289\n",
       "Return (Ann.) [%]                  125.781555\n",
       "Volatility (Ann.) [%]               95.885292\n",
       "Sharpe Ratio                         1.311792\n",
       "Sortino Ratio                        6.169422\n",
       "Calmar Ratio                         7.891028\n",
       "Max. Drawdown [%]                  -15.939818\n",
       "Avg. Drawdown [%]                   -5.238467\n",
       "Max. Drawdown Duration       68 days 00:00:00\n",
       "Avg. Drawdown Duration       17 days 00:00:00\n",
       "# Trades                                    6\n",
       "Win Rate [%]                            100.0\n",
       "Best Trade [%]                      27.513899\n",
       "Worst Trade [%]                      3.499545\n",
       "Avg. Trade [%]                      13.415768\n",
       "Max. Trade Duration          41 days 00:00:00\n",
       "Avg. Trade Duration          22 days 00:00:00\n",
       "Profit Factor                             NaN\n",
       "Expectancy [%]                      13.765177\n",
       "SQN                                  3.436623\n",
       "_strategy                 DCA_Conditional_...\n",
       "_equity_curve                             ...\n",
       "_trades                      Size  EntryBa...\n",
       "dtype: object"
      ]
     },
     "execution_count": 16,
     "metadata": {},
     "output_type": "execute_result"
    }
   ],
   "source": [
    "stats"
   ]
  },
  {
   "cell_type": "code",
   "execution_count": 17,
   "id": "fd0d1e83-e2ab-4ab5-873d-a70e91bfd2f1",
   "metadata": {},
   "outputs": [
    {
     "name": "stderr",
     "output_type": "stream",
     "text": [
      "BokehDeprecationWarning: Passing lists of formats for DatetimeTickFormatter scales was deprecated in Bokeh 3.0. Configure a single string format for each scale\n",
      "BokehDeprecationWarning: Passing lists of formats for DatetimeTickFormatter scales was deprecated in Bokeh 3.0. Configure a single string format for each scale\n"
     ]
    },
    {
     "data": {
      "text/html": [
       "\n",
       "  <div id=\"e3bf2eb1-c154-4d59-b075-ee2d56042cbc\" data-root-id=\"p1309\" style=\"display: contents;\"></div>\n"
      ]
     },
     "metadata": {},
     "output_type": "display_data"
    },
    {
     "data": {
      "application/javascript": [
       "(function(root) {\n",
       "  function embed_document(root) {\n",
       "  const docs_json = {\"0db5c639-6918-4d0f-b1ab-14caf80986c1\":{\"version\":\"3.2.0\",\"title\":\"Bokeh Application\",\"roots\":[{\"type\":\"object\",\"name\":\"GridPlot\",\"id\":\"p1309\",\"attributes\":{\"rows\":null,\"cols\":null,\"sizing_mode\":\"stretch_width\",\"toolbar\":{\"type\":\"object\",\"name\":\"Toolbar\",\"id\":\"p1308\",\"attributes\":{\"logo\":null,\"tools\":[{\"type\":\"object\",\"name\":\"ToolProxy\",\"id\":\"p1300\",\"attributes\":{\"tools\":[{\"type\":\"object\",\"name\":\"PanTool\",\"id\":\"p1063\",\"attributes\":{\"dimensions\":\"width\"}},{\"type\":\"object\",\"name\":\"PanTool\",\"id\":\"p1156\",\"attributes\":{\"dimensions\":\"width\"}},{\"type\":\"object\",\"name\":\"PanTool\",\"id\":\"p1023\",\"attributes\":{\"dimensions\":\"width\"}},{\"type\":\"object\",\"name\":\"PanTool\",\"id\":\"p1207\",\"attributes\":{\"dimensions\":\"width\"}}]}},{\"type\":\"object\",\"name\":\"ToolProxy\",\"id\":\"p1301\",\"attributes\":{\"tools\":[{\"type\":\"object\",\"name\":\"WheelZoomTool\",\"id\":\"p1064\",\"attributes\":{\"dimensions\":\"width\",\"maintain_focus\":false}},{\"type\":\"object\",\"name\":\"WheelZoomTool\",\"id\":\"p1157\",\"attributes\":{\"dimensions\":\"width\",\"maintain_focus\":false}},{\"type\":\"object\",\"name\":\"WheelZoomTool\",\"id\":\"p1024\",\"attributes\":{\"dimensions\":\"width\",\"maintain_focus\":false}},{\"type\":\"object\",\"name\":\"WheelZoomTool\",\"id\":\"p1208\",\"attributes\":{\"dimensions\":\"width\",\"maintain_focus\":false}}]}},{\"type\":\"object\",\"name\":\"ToolProxy\",\"id\":\"p1302\",\"attributes\":{\"tools\":[{\"type\":\"object\",\"name\":\"BoxZoomTool\",\"id\":\"p1065\",\"attributes\":{\"overlay\":{\"type\":\"object\",\"name\":\"BoxAnnotation\",\"id\":\"p1066\",\"attributes\":{\"syncable\":false,\"level\":\"overlay\",\"visible\":false,\"left_units\":\"canvas\",\"right_units\":\"canvas\",\"bottom_units\":\"canvas\",\"top_units\":\"canvas\",\"line_color\":\"black\",\"line_alpha\":1.0,\"line_width\":2,\"line_dash\":[4,4],\"fill_color\":\"lightgrey\",\"fill_alpha\":0.5}}}},{\"type\":\"object\",\"name\":\"BoxZoomTool\",\"id\":\"p1158\",\"attributes\":{\"overlay\":{\"type\":\"object\",\"name\":\"BoxAnnotation\",\"id\":\"p1159\",\"attributes\":{\"syncable\":false,\"level\":\"overlay\",\"visible\":false,\"left_units\":\"canvas\",\"right_units\":\"canvas\",\"bottom_units\":\"canvas\",\"top_units\":\"canvas\",\"line_color\":\"black\",\"line_alpha\":1.0,\"line_width\":2,\"line_dash\":[4,4],\"fill_color\":\"lightgrey\",\"fill_alpha\":0.5}}}},{\"type\":\"object\",\"name\":\"BoxZoomTool\",\"id\":\"p1025\",\"attributes\":{\"overlay\":{\"type\":\"object\",\"name\":\"BoxAnnotation\",\"id\":\"p1026\",\"attributes\":{\"syncable\":false,\"level\":\"overlay\",\"visible\":false,\"left_units\":\"canvas\",\"right_units\":\"canvas\",\"bottom_units\":\"canvas\",\"top_units\":\"canvas\",\"line_color\":\"black\",\"line_alpha\":1.0,\"line_width\":2,\"line_dash\":[4,4],\"fill_color\":\"lightgrey\",\"fill_alpha\":0.5}}}},{\"type\":\"object\",\"name\":\"BoxZoomTool\",\"id\":\"p1209\",\"attributes\":{\"overlay\":{\"type\":\"object\",\"name\":\"BoxAnnotation\",\"id\":\"p1210\",\"attributes\":{\"syncable\":false,\"level\":\"overlay\",\"visible\":false,\"left_units\":\"canvas\",\"right_units\":\"canvas\",\"bottom_units\":\"canvas\",\"top_units\":\"canvas\",\"line_color\":\"black\",\"line_alpha\":1.0,\"line_width\":2,\"line_dash\":[4,4],\"fill_color\":\"lightgrey\",\"fill_alpha\":0.5}}}}]}},{\"type\":\"object\",\"name\":\"ToolProxy\",\"id\":\"p1303\",\"attributes\":{\"tools\":[{\"type\":\"object\",\"name\":\"UndoTool\",\"id\":\"p1067\"},{\"type\":\"object\",\"name\":\"UndoTool\",\"id\":\"p1160\"},{\"type\":\"object\",\"name\":\"UndoTool\",\"id\":\"p1027\"},{\"type\":\"object\",\"name\":\"UndoTool\",\"id\":\"p1211\"}]}},{\"type\":\"object\",\"name\":\"ToolProxy\",\"id\":\"p1304\",\"attributes\":{\"tools\":[{\"type\":\"object\",\"name\":\"RedoTool\",\"id\":\"p1068\"},{\"type\":\"object\",\"name\":\"RedoTool\",\"id\":\"p1161\"},{\"type\":\"object\",\"name\":\"RedoTool\",\"id\":\"p1028\"},{\"type\":\"object\",\"name\":\"RedoTool\",\"id\":\"p1212\"}]}},{\"type\":\"object\",\"name\":\"ToolProxy\",\"id\":\"p1305\",\"attributes\":{\"tools\":[{\"type\":\"object\",\"name\":\"ResetTool\",\"id\":\"p1069\"},{\"type\":\"object\",\"name\":\"ResetTool\",\"id\":\"p1162\"},{\"type\":\"object\",\"name\":\"ResetTool\",\"id\":\"p1029\"},{\"type\":\"object\",\"name\":\"ResetTool\",\"id\":\"p1213\"}]}},{\"type\":\"object\",\"name\":\"SaveTool\",\"id\":\"p1306\"},{\"type\":\"object\",\"name\":\"HoverTool\",\"id\":\"p1092\",\"attributes\":{\"renderers\":[{\"type\":\"object\",\"name\":\"GlyphRenderer\",\"id\":\"p1089\",\"attributes\":{\"data_source\":{\"type\":\"object\",\"name\":\"ColumnDataSource\",\"id\":\"p1031\",\"attributes\":{\"selected\":{\"type\":\"object\",\"name\":\"Selection\",\"id\":\"p1032\",\"attributes\":{\"indices\":[],\"line_indices\":[]}},\"selection_policy\":{\"type\":\"object\",\"name\":\"UnionRenderers\",\"id\":\"p1033\"},\"data\":{\"type\":\"map\",\"entries\":[[\"index\",{\"type\":\"ndarray\",\"array\":{\"type\":\"bytes\",\"data\":\"AAAAAAEAAAACAAAAAwAAAAQAAAAFAAAABgAAAAcAAAAIAAAACQAAAAoAAAALAAAADAAAAA0AAAAOAAAADwAAABAAAAARAAAAEgAAABMAAAAUAAAAFQAAABYAAAAXAAAAGAAAABkAAAAaAAAAGwAAABwAAAAdAAAAHgAAAB8AAAAgAAAAIQAAACIAAAAjAAAAJAAAACUAAAAmAAAAJwAAACgAAAApAAAAKgAAACsAAAAsAAAALQAAAC4AAAAvAAAAMAAAADEAAAAyAAAAMwAAADQAAAA1AAAANgAAADcAAAA4AAAAOQAAADoAAAA7AAAAPAAAAD0AAAA+AAAAPwAAAEAAAABBAAAAQgAAAEMAAABEAAAARQAAAEYAAABHAAAASAAAAEkAAABKAAAASwAAAEwAAABNAAAATgAAAE8AAABQAAAAUQAAAFIAAABTAAAAVAAAAFUAAABWAAAAVwAAAFgAAABZAAAAWgAAAFsAAABcAAAAXQAAAF4AAABfAAAAYAAAAGEAAABiAAAAYwAAAGQAAABlAAAAZgAAAGcAAABoAAAAaQAAAGoAAABrAAAAbAAAAG0AAABuAAAAbwAAAHAAAABxAAAAcgAAAHMAAAB0AAAAdQAAAHYAAAB3AAAAeAAAAHkAAAB6AAAAewAAAHwAAAB9AAAAfgAAAH8AAACAAAAAgQAAAIIAAACDAAAAhAAAAIUAAACGAAAAhwAAAIgAAACJAAAAigAAAIsAAACMAAAAjQAAAI4AAACPAAAAkAAAAJEAAACSAAAAkwAAAJQAAACVAAAAlgAAAJcAAACYAAAAmQAAAJoAAACbAAAAnAAAAJ0AAACeAAAAnwAAAKAAAAChAAAAogAAAKMAAACkAAAApQAAAKYAAACnAAAAqAAAAKkAAACqAAAAqwAAAKwAAACtAAAArgAAAK8AAACwAAAAsQAAALIAAACzAAAAtAAAALUAAAC2AAAAtwAAALgAAAC5AAAAugAAALsAAAC8AAAAvQAAAL4AAAC/AAAAwAAAAMEAAADCAAAAwwAAAMQAAADFAAAAxgAAAMcAAADIAAAAyQAAAMoAAADLAAAAzAAAAM0AAADOAAAAzwAAANAAAADRAAAA0gAAANMAAADUAAAA1QAAANYAAADXAAAA2AAAANkAAADaAAAA2wAAANwAAADdAAAA3gAAAN8AAADgAAAA4QAAAOIAAADjAAAA5AAAAOUAAADmAAAA5wAAAOgAAADpAAAA6gAAAOsAAADsAAAA7QAAAO4AAADvAAAA8AAAAPEAAADyAAAA8wAAAPQAAAD1AAAA9gAAAPcAAAD4AAAA+QAAAPoAAAD7AAAA/AAAAP0AAAD+AAAA/wAAAAABAAABAQAAAgEAAAMBAAAEAQAABQEAAAYBAAAHAQAACAEAAAkBAAAKAQAACwEAAA==\"},\"shape\":[268],\"dtype\":\"int32\",\"order\":\"little\"}],[\"Open\",{\"type\":\"ndarray\",\"array\":{\"type\":\"bytes\",\"data\":\"N3L9PSzU2j1wmt498szLPXof5z1FEOc9fZPmPTMU1z3Fb+o9VOL6PdNs/j2yTvU93jn0PSxN6j2wUuE9S1jbPV8I2T0Ohto9KgLcPRO66z0k8Oc9cALzPR1w/T0jovg95j75PT1I7z1dieA9gLPUPaNa5D2VafQ99ij8PYjWCj7oEwk+weUhPkHvHT6e0Bs+elMhPi82HT4ylR4+v5ojPnKJEz7QYxQ+8X8nPkKXMD7PTDA+1sUtPunWKz7Q8CY+VAEnPhizJT74pyQ+b9kxPhAeLT65GS4+Tfg1PtVcLj59zj0+DYhAPiOHSD6THUs+QC1GPnV2Qj7HK0A+gNM7PgISPT74wiQ+rmIhPk+yJT46XSY+dokqPrqhKT5LlC0+CXAaPj+vGD6oGRI+P+cePjYeHD4QJB8+f2wiPttQIT6eex8+JLghPqipJT6DpB8+eekmPj52Jz6h8i8+fqs1PsfZND6cwS8+9DchPqzFJz6FzxY+1NQSPjxoFj5hpwg+feYMPhR4Bz5HI/89ndQHPs3oBz7G3wY+sJEEPuXSCD78/Ac+5e0IPk/GCD5WDwg+ylMGPnO8Aj5GfAc+6GoLPhx3Cj60cwo+/U0IPoW0Bj4PfQc+XRkEPlEVAz73jAQ+B8wDPq68BD6HjQI+9boFPpdVCD56NwY+3ZcDPs1VAz5uGAU+w4MGPmyxCz7ulQk+NXoVPqJeID6nCRs+qisfPojXJT6x3CI+IAshPqWiIT4cehs+gsYcPuxsKD5OmiY+vJYgPoqSID51rgg+z9bhPdkLBT6JBwQ+Dr4APscp+j00oP49aVQAPtAR+T2V2PU9HVb4Pftg+T2z7Ok9gcjiPVZj6T33lvI9mIX2PVad9T2v6PY9soH0Pcgo7z0cI/k9fo0EPhC0Aj7aqgQ+7Q3+PbQCAz6u9gA+oS4CPksl/D0nFwM+rFcBPpusAT7KVAE+HJoCPhg9Bz4E4gU+U7EBPvj27j1gIfM9a0ryPWYr7z06O/k9CJX4PZlj+T0W2vk9KfH5PYuN+T3chPs9HSD4PSO+8z262/U9g8H1Pan39D3c0/U9CqD4Pe29+D0ktQA+xSAAPnv1AT6TcAE+ghwEPn81Bz69xAg+SkYOPjv9ED6ZmhQ+9rUePmH6Hj6JeiE+OFAgPn7FGj7l1B4+X9UpPqiRJj4apiY+9YcmPtJUHz5NECU+WvMjPmOYIz6o+yA+nGsoPkFhID42ViI+ZRsoPmhBKD4uWCo+aqMqPoXPJj5iTSU+DR0rPsUAKT5sPh4+s+8aPtuKHT4ZHhs+OiMaPr5NHz4Ggys+u7YnPjdyLT7OOC0+YAEsPjRqLj7g9Sk+MUIoPmQDKT6DoyQ+9UgjPogTKD7pQyc+Z2AkPgGFKj6pvSg+MLYgPiZvID5DNiA+jlcgPpXxHz5s6hw+ey4TPg==\"},\"shape\":[268],\"dtype\":\"float32\",\"order\":\"little\"}],[\"High\",{\"type\":\"ndarray\",\"array\":{\"type\":\"bytes\",\"data\":\"yM0APmb35D3NyOA9DkntPbKd7z39h/Q9j+DmPUSL7D1nEP89ebEAPm8SAz6eu/09VIr9PaPp7D3CouI9+MLkPWL03D1c5N49mMDtPZme8D20yPY9dnAAPqK1Aj6KAv09g9j5PVXh7z107OA9RDXlPaXC+D1t3wM+vLQRPl8HDj64lCM+sAMnPtDtJT7NcyQ+EvcoPo17Iz6sbSo+ZNEkPp/mFD4CZCg+M8M2Pl7WND4yrDI+Ja4zPiqPLj7D0ys+DYwsPgtFKj5SYzI+XjEzPmghMT7HKTo+iGE3PiUGQT5d3EY+sS9JPhfZTj47308+sRNOPpMYRD5IpUg+M8FAPjY8PT5bryk+iZooPiLiJj4roSs+mnotPjJVMD6QvS4+eHwbPvW5Gj40vh8+vHckPpDdJT7TvCM+w/UoPssRIj6zKiI+ox0nPi7KLD5euik+O1kqPsDNMj6QMTc+kDE3PkaUNj63RjQ+YacoPhN+KT4h5Rc+3ScXPnh9Fj7VrQ4+Lc0NPnhFED6JPwo+lkMLPuArCj6n6Ag+T0IJPilcDz7c0go+ZXIKPlqdDD7ikQg+v/QGPoguCD7vPQw+ocALPni4DT52cQs+1PEIPvAWCD7eAgk+S+oEPtDSBT4jSAU+FokJPgVLBT4csQY+zxEJPqVkCT6dgAY+rDsGPm/VBT5AMAc+XXIMPnVZDD4oLRw+tVMjPoelIT4PRSE+H0wqPjHxJz6EgSc+uyklPl8PJj6DpB8+MQgsPp6yKj7t1Sc+zqkkPjrKIT7Z7Ag+cT0KPt0kBj4zUQQ+LXsCPgg4BD7KMgQ+bekBPhmK+z0kufw9ke38Pc5N+z1P5+o9ObrqPUa28z0SY/k971n3PSwQ/T25ifo9PZv1PfeR+z3WHgY+GRwFPszUBD6mCgY+6c4DPq2kBT4SiQI+F/ACPjVcBD6kxgQ+EXEDPvOOAz6Z9QI+OiMKPr6ECj7AQgY+AhQDPtm38z1yqvU9arz0PRAA/D3fjPo9VIr9PcJP/D0Lfvs9SOH6PZIg/D37qvw94/34PQQb9z1IM/Y9G373PWi39j0PvPo9X9X5PXJQAj7VBAE+7LsCPtwoAj7dtQQ+ArgJPuIACj67Jw8+T0ATPuLpFT6E1iM+Dm0gPgFNJD74wiQ+L90kPpgyID5t/yo+y/QrPuFhKj6xwyg+4xUoPtUJKD7sMyc+i/0lPhWKJD7n+yk+A7UoPtVeJD5Nuyg+T5UvPlafKz4DmS0+7WUrPijWKT523Ss+sd0tPoGXKT6oOx8+0gAePmqEHj7MRRw+ZaogPjEILD7pejI+MlUwPq1sLz6FzTA+4x0wPjbJLz4Ysio++u0rPhB2Kj5ywiQ+yhYpPr6EKj7AtCg+tfoqPhjQKz4Z4ig+AYohPqewIj49JiI+dEAiPvDbID5CWx4+zGUTPg==\"},\"shape\":[268],\"dtype\":\"float32\",\"order\":\"little\"}],[\"Low\",{\"type\":\"ndarray\",\"array\":{\"type\":\"bytes\",\"data\":\"glvXPW9E1z0ii7Q9Obm/PYen1z2ZK+M9Ur3VPdQT1j1n1ec9/KnxPXGn9D0+IPA95LfoPSG03j3xY8w9BKbTPQOY0j3ZJtU9fxfWPTZv3D12n+M9IjjuPW1b9D1ot/Y9aCLsPQuV3z0Rp9M9JxjOPXGR2z0J4fE9wvbzPdgRBz5G0Ag+++QYPjP8Fz5Z3hU+6j8bPgdfGD7QRh4+3gATPi/fCj40fhE+niYjPlt5KT70UCs+MZkqPnl3JD6Xqx8+S8kiPvrUIT7kaiQ+FJIsPp/NKj7Jcy0+ycsqPn+nKT4HeT0+3MA9PlRSRz6lLEM+fLk/Pki/PT4tPTo++n46PisVJD4ZBhw+zvsfPvCpHD4IISA+BFgkPjtWKT7hQBg+3jkUPk7RET75nhE+zeUWPjYeHD5c6Bo+NloePjscHT56wx0+SmQfPmQ7Hz7CpBg+i1UjPtf2Jj6Osi4+ZCMwPvtcLT6fzB8+tvYePphMFT7d7A8+PEsQPoC8Bz5vEgM+52sGPiPb+T0zZ/09gT4BPqPJBT4n+QE+EtoCPgaBBT7jUwA+x/EDPq58Bj76ZAU+SgwCPtZVAT7iBwc+wckGPqG6CT4u4wY+vHoFPgndBT4m5AM+6L0BPuqVAj5GtvM9TWsDPpFlAT62hgI+bawEPpjCAz6PGgM+uhUCPnhFAD7SiQQ+ChAFPlOYBz6msgg+6j0VPnztGT6YiBc++3oePpNwIT6GQB4+Mh8gPmrWGT5GJxs+F4IcPo4IJj6MMSA+CTYePraE/D3k29s9AmbePZ8E9j2Nr/09KuX1PfHY7z2qufw9IhzzPQnh8T2Sl/U9Z0j1PXv35z2GIt099ijcPZT25j1xyfE9nNzvPVT79D1/b/M9mbrrPbU27T3sUfg9wk4BPoKPAT6hL/099Pj9PURO/z2BRf49znL5PYVE+j0AAAA+qPsAPluZAD5J9f09sYUAPu84BT4C8wA+CpzsPRP27T14ru893J/rPfw07j3lYPY9KC/yPdnO9z28xPg9AF30PWgm+D334PU9kOHxPe4M8z2b4vE9Tg30PSfU8z2PU/Q9CcX2Pe5c+D0Kh/49/yH9PTkoAT6wywA+CaEDPiDXBj5GRgc+63ULPil3Dz5WZBQ+0T0bPjvIGz5T0B0+Cr4ZPnaJGj4h5x0++X8lPuY/JD5tVSI+Gy8dPnZxGz5ihyE+6PoePlhVHz5mZCA+Gy8dPjLpHz4dQB8+5ZYmPsh+Jj72fSg+1sokPmBaJD5/LyU+y/UmPjsZHD51kxg+rBwaPjLkGD6fsxU+C9MXPgb1HT79Sic+1/YmPioCLD7cnCo+cQQpPqCOJz7NVSM+tMgmPnVYIT54eB8+LZYiPsGoJD58fyM++FMjPtXNJT5CJR4+QKEePkYIHz62LB8+/UwdPoYEHD7gLRA+hh8MPg==\"},\"shape\":[268],\"dtype\":\"float32\",\"order\":\"little\"}],[\"Close\",{\"type\":\"ndarray\",\"array\":{\"type\":\"bytes\",\"data\":\"LNTaPfWa3j15zcs9eh/nPUUQ5z33kuY9MxTXPUtw6j1U4vo9cW/+PbJO9T3eOfQ9LE3qPbBS4T3FV9s9XwjZPQ6G2j0qAtw9jLnrPZ7v5z1wAvM9HXD9Paqi+D3mPvk9tkfvPfCK4D2As9Q9HVrkPZVp9D32KPw9y9YKPugTCT4E5iE+/u4dPk7PGz56UyE+LzYdPnWVHj6/miM+cokTPtBjFD7xfyc+QpcwPs9MMD7WxS0+6dYrPtDwJj5UASc+GLMlPrWnJD5v2TE+EB4tPnYZLj5N+DU+1VwuPjnOPT4NiEA+I4dIPpMdSz7+LEY+uHZCPscrQD7D0zs+AhI9PjvDJD7yYiE+T7IlPn1dJj66iSo+uqEpPkuULT4JcBo+P68YPqgZEj6C5x4+Nh4cPswjHz48bCI+21AhPuF7Hz7htyE+qKklPoOkHz556SY+PnYnPl7yLz5+qzU+g9k0PpzBLz70NyE+acUnPkLPFj7U1BI+f2gWPmGnCD595gw+0XcHPsEi/z1a1Ac+EOkHPsbfBj7zkQQ+5dIIPj/9Bz7l7Qg+k8YIPpkPCD7KUwY+c7wCPgJ8Bz6lags+HHcKPnFzCj79TQg+hbQGPg99Bz5dGQQ+URUDPveMBD4HzAM+8bwEPkSNAj6yugU+2lUIPno3Bj7dlwM+zVUDPisYBT5/gwY+r7ELPu6VCT41ehU+X14gPuoJGz7tKx8+iNclPm7cIj4gCyE+6KIhPl96Gz6Cxhw+7GwoPk6aJj7IlyA+zZIgPjKuCD7P1uE92QsFPrQFBD4OvgA+QSn6Pa6f/j2sVAA+VhL5PRvZ9T0dVvg9+2D5PbPs6T2ByOI93GPpPfeW8j0ehvY93Z31PSno9j2ygfQ9yCjvPRwj+T1+jQQ+U7QCPh2rBD50Dv499wIDPq72AD7kLgI+SyX8PScXAz5oVwE+m6wBPg1VAT7ZmQI+GD0HPsHhBT6WsQE+f/fuPWAh8z1rSvI9ZivvPbM6+T0Ilfg9EmP5PZza+T2i8Pk9BY35PVWE+z0dIPg9I77zPUDc9T0JwvU9qff0PWLU9T2QoPg9Z734PeG0AD6BIAA+vvUBPtZwAT7FHAQ+OzUHPnrECD4HRg4+f/0QPlaaFD6ztR4+YfoePol6IT56UCA+O8UaPuXUHj4b1Sk+65EmPl2mJj44iCY+0lQfPgoQJT6d8yM+ppgjPqj7ID5Zayg+/mAgPnlWIj6oGyg+aEEoPi5YKj4noyo+yM8mPqVNJT4NHSs+CQEpPmw+Hj727xo+HosdPlweGz73Iho+AU4fPgaDKz7+tic+yXMtPs44LT6jASw+NGouPp31KT7uQSg+qAMpPoOjJD71SCM+RBMoPulDJz4kYCQ+voQqPqm9KD4wtiA+424gPoY2ID6OVyA+2PEfPmzqHD57LhM+RBESPg==\"},\"shape\":[268],\"dtype\":\"float32\",\"order\":\"little\"}],[\"Volume\",{\"type\":\"ndarray\",\"array\":{\"type\":\"bytes\",\"data\":\"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\"},\"shape\":[268],\"dtype\":\"float64\",\"order\":\"little\"}],[\"datetime\",{\"type\":\"ndarray\",\"array\":{\"type\":\"bytes\",\"data\":\"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\"},\"shape\":[268],\"dtype\":\"float64\",\"order\":\"little\"}],[\"inc\",{\"type\":\"ndarray\",\"array\":[\"0\",\"1\",\"0\",\"1\",\"0\",\"0\",\"0\",\"1\",\"1\",\"1\",\"0\",\"0\",\"0\",\"0\",\"0\",\"0\",\"1\",\"1\",\"1\",\"0\",\"1\",\"1\",\"0\",\"1\",\"0\",\"0\",\"0\",\"1\",\"1\",\"1\",\"1\",\"0\",\"1\",\"0\",\"0\",\"1\",\"0\",\"1\",\"1\",\"0\",\"1\",\"1\",\"1\",\"0\",\"0\",\"0\",\"0\",\"1\",\"0\",\"0\",\"1\",\"0\",\"1\",\"1\",\"0\",\"1\",\"1\",\"1\",\"1\",\"0\",\"0\",\"0\",\"0\",\"1\",\"0\",\"0\",\"1\",\"1\",\"1\",\"0\",\"1\",\"0\",\"0\",\"0\",\"1\",\"0\",\"1\",\"1\",\"0\",\"0\",\"1\",\"1\",\"0\",\"1\",\"1\",\"1\",\"1\",\"0\",\"0\",\"0\",\"1\",\"0\",\"0\",\"1\",\"0\",\"1\",\"0\",\"0\",\"1\",\"1\",\"0\",\"0\",\"1\",\"0\",\"1\",\"0\",\"0\",\"0\",\"0\",\"1\",\"1\",\"0\",\"0\",\"0\",\"0\",\"1\",\"0\",\"0\",\"1\",\"0\",\"1\",\"0\",\"1\",\"1\",\"0\",\"0\",\"0\",\"1\",\"1\",\"1\",\"0\",\"1\",\"1\",\"0\",\"1\",\"1\",\"0\",\"0\",\"1\",\"0\",\"1\",\"1\",\"0\",\"0\",\"0\",\"0\",\"0\",\"1\",\"0\",\"0\",\"0\",\"1\",\"1\",\"0\",\"0\",\"1\",\"1\",\"0\",\"0\",\"1\",\"1\",\"1\",\"0\",\"1\",\"0\",\"0\",\"1\",\"1\",\"0\",\"1\",\"0\",\"1\",\"0\",\"1\",\"0\",\"1\",\"0\",\"1\",\"0\",\"1\",\"1\",\"0\",\"0\",\"0\",\"1\",\"0\",\"0\",\"1\",\"0\",\"1\",\"1\",\"1\",\"0\",\"1\",\"0\",\"0\",\"1\",\"0\",\"0\",\"1\",\"1\",\"1\",\"1\",\"0\",\"1\",\"0\",\"1\",\"1\",\"1\",\"1\",\"1\",\"1\",\"1\",\"1\",\"1\",\"0\",\"0\",\"1\",\"1\",\"0\",\"1\",\"0\",\"0\",\"1\",\"0\",\"0\",\"0\",\"1\",\"0\",\"1\",\"1\",\"1\",\"1\",\"1\",\"0\",\"0\",\"1\",\"0\",\"0\",\"0\",\"1\",\"0\",\"0\",\"1\",\"1\",\"0\",\"1\",\"0\",\"0\",\"1\",\"0\",\"0\",\"1\",\"0\",\"0\",\"1\",\"0\",\"0\",\"1\",\"0\",\"0\",\"0\",\"0\",\"1\",\"0\",\"0\",\"0\",\"0\"],\"shape\":[268],\"dtype\":\"object\",\"order\":\"little\"}],[\"equity\",{\"type\":\"ndarray\",\"array\":{\"type\":\"bytes\",\"data\":\"AAAAAAAA8D8AAAAAAADwPwAAAAAAAPA/AAAAAAAA8D8AAAAAAADwPwAAAAAAAPA/AAAAAAAA8D8AAAAAAADwPwAAAAAAAPA/AAAAAAAA8D8AAAAAAADwPwAAAAAAAPA/AAAAAAAA8D8AAAAAAADwPwAAAAAAAPA/AAAAAAAA8D8AAAAAAADwPwAAAAAAAPA/AAAAAAAA8D8AAAAAAADwP0MlDip/vfA/FnOwb85z8T/1wn002R/xP4wxkH6EKvE/8Wxvokx88D+PIcAEUvXuP8V/etZKV+0/pM+HEIJ67z9+BJ66BdbwP7sOtSh3XfE/owpfgpIb8z8HRr60/d3yPwlxRcnSQfY/dC26gTG39T/q61kE8Gz1Py53xjHPLfY/glrs2/Od9T9pVpbI7c31P1n+XKF4ffY/Grgjortc9D8auCOiu1z0Pxq4I6K7XPQ/Grgjortc9D8auCOiu1z0Pxq4I6K7XPQ/Grgjortc9D8auCOiu1z0Pxq4I6K7XPQ/Grgjortc9D8auCOiu1z0Pxq4I6K7XPQ/Grgjortc9D8auCOiu1z0Pxq4I6K7XPQ/Grgjortc9D+BpI+c0b/1P5zTbE02//U/RsU/VS259j9qy8D6WvX2PxfoGtx5gvY/xS/8TCYs9j9CbzFk1Pb1Pz9FC0d5k/U/P0ULR3mT9T8/RQtHeZP1Pz9FC0d5k/U/P0ULR3mT9T8/RQtHeZP1Pz9FC0d5k/U/P0ULR3mT9T8/RQtHeZP1Pz9FC0d5k/U/P0ULR3mT9T8/RQtHeZP1Pz9FC0d5k/U/P0ULR3mT9T8/RQtHeZP1Pz9FC0d5k/U/P0ULR3mT9T8/RQtHeZP1Pz9FC0d5k/U/P0ULR3mT9T8/RQtHeZP1P5GOCKAPSPY/XlvVKwdW9j/49G4liy33P8XBO1Lpvvc/xcE70ROq9z8rKKKytCj3PwBNsYI4VfY/AE2xgjhV9j8ATbGCOFX2PwBNsYI4VfY/AE2xgjhV9j8ATbGCOFX2PwBNsYI4VfY/AE2xgjhV9j8ATbGCOFX2PwBNsYI4VfY/AE2xgjhV9j8ATbGCOFX2PwBNsYI4VfY/AE2xgjhV9j8ATbGCOFX2P3yt+IA5bfY/q4odIaVo9j8THAuAVVP2P9YRNOekH/Y/3JLJ3ZG09T+rih32JEL2P37Yf9dit/Y/xrn6mAWb9j+1YcE7mJr2P4wFMr2ZWvY/ubfPBOkq9j/QkJ5KREL2P+8VihY13fU/3JLJh+u+9T9HTz7dq+r1P+ITXz0z1PU/T/taVULw9T8oylIKE6/1P6UJiELQDfY/cKvNMIRb9j+X3NW8WBz2P8jkgeofzvU/3r1QMm7G9T9pKjhY4vr1P+3qAlYzJfY/boBG8ai/9j/g6Nejy4D2P9YRNNBb4/c/W/2Fthco+T8uS+gPLYn4PyjKUr1mBPk/boBGtEjL+T9TUWkRaHL5P/WWH4s2PPk/0JCeDeRN+T/YPLsURpb4P/9twxH1vPg/PqMhulAY+j+K2qoR+OH5P1KNrAnbT/k/Uo2sCdtP+T9SjawJ20/5P1KNrAnbT/k/Uo2sCdtP+T9SjawJ20/5P1KNrAnbT/k/Uo2sCdtP+T9SjawJ20/5P1KNrAnbT/k/Uo2sCdtP+T9SjawJ20/5P1KNrAnbT/k/Uo2sCdtP+T9SjawJ20/5P1KNrAnbT/k/Uo2sCdtP+T9SjawJ20/5P1KNrAnbT/k/Uo2sCdtP+T9SjawJ20/5P1KNrAnbT/k/Uo2sCdtP+T9SjawJ20/5P1KNrAnbT/k/Uo2sCdtP+T9SjawJ20/5P1KNrAnbT/k/Uo2sCdtP+T9SjawJ20/5P1KNrAnbT/k/Uo2sCdtP+T9SjawJ20/5P1KNrAnbT/k/Uo2sCdtP+T9SjawJ20/5P1KNrAnbT/k/Uo2sCdtP+T/Cny9SHiP5P1s5yW+Kpfg/cOcQH2Vz9z9RYiXH0LH3P6vGYCQ6pfc/yCDFPW929z8B1Y0mQA34P1+P13SMA/g/hsDfZJ0P+D8m2w6GnRb4P2c79LLnF/g/sUf2SxIS+D94ky31iy/4P4A/Sp+z/Pc/lxgZ8/669z+pm9lPvtr3P268iUw12fc/IoUAS1vN9z+xR/ZdSNr3PzLdOVU5BPg/5Hops+kF+D+GwN9E8Yf4P083nmSQdvg/TzeeCIat+D8ihQD59J34PwUrnAkQ7vg/5qWwL+FK+T+rxmAupHn5P/On2ya8Hvo/6NA3FjFw+j+58xJ8g9z6P3zpO/yOC/w/QQrsRpoT/D9fj9e4lF78P+alsLurO/w/QQrsDnGV+z+MQXVYNg/8P1kOQp0PWf0/wp8vWj33/D/5KHFiovn8P/f96Yca9vw/DoA0RjiK/D8OgDRGOIr8Pw6ANEY4ivw/DoA0RjiK/D8OgDRGOIr8Pw6ANEY4ivw/DoA0RjiK/D8OgDRGOIr8Pw6ANEY4ivw/DoA0RjiK/D8OgDRGOIr8Pw6ANEY4ivw/DoA0RjiK/D8OgDRGOIr8Pw6ANEY4ivw/DoA0RjiK/D8OgDRGOIr8Pw6ANEY4ivw/DoA0RjiK/D8OgDRGOIr8Pw6ANEY4ivw/DoA0RjiK/D8ogan04rz9P61s+9A+XP0/q0H0iEbu/T+9xDRdaej9P36PVoR5yf0/Plp4XcYG/j+xwokSYJX9PyzXtw0Pav0/vcQ0yFF9/T/WyArd8w39P4qRgVp/6/w/3EkgXGtl/T9JMZy/zVD9P6frZSJBB/0/CydF/Zqj/T/GcNE9XHb9Pz0VtxFBGP0/PRW3EUEY/T89FbcRQRj9Pz0VtxFBGP0/PRW3EUEY/T89FbcRQRj9Pz0VtxFBGP0/PRW3EUEY/T8=\"},\"shape\":[268],\"dtype\":\"float64\",\"order\":\"little\"}],[\"lb_close_2_1\",{\"type\":\"ndarray\",\"array\":{\"type\":\"bytes\",\"data\":\"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\"},\"shape\":[268],\"dtype\":\"float64\",\"order\":\"little\"}],[\"lb_low_3_1\",{\"type\":\"ndarray\",\"array\":{\"type\":\"bytes\",\"data\":\"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\"},\"shape\":[268],\"dtype\":\"float64\",\"order\":\"little\"}],[\"ohlc_low\",{\"type\":\"ndarray\",\"array\":{\"type\":\"bytes\",\"data\":\"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\"},\"shape\":[268],\"dtype\":\"float64\",\"order\":\"little\"}],[\"ohlc_high\",{\"type\":\"ndarray\",\"array\":{\"type\":\"bytes\",\"data\":\"AAAAALkZwD8AAADA7J68PwAAAKAZGbw/AAAAwCGpvT8AAABAtvO9PwAAAKD/kL4/AAAA4BHcvD8AAACAaJG9PwAAAOAM4r8/AAAAIC8WwD8AAADgTWLAPwAAAMBzt78/AAAAgEqxvz8AAABgNJ29PwAAAEBYVLw/AAAAAF+YvD8AAABAjJ67PwAAAICL3Ls/AAAAABO4vT8AAAAg0xO+PwAAAIAW2b4/AAAAwA4OwD8AAABAtFbAPwAAAEBRoL8/AAAAYBA7vz8AAACgKvy9PwAAAICOHbw/AAAAgKimvD8AAACgVBi/PwAAAKDte8A/AAAAgJc2wj8AAADg68DBPwAAAACXcsQ/AAAAAHbgxD8AAAAAur3EPwAAAKB5jsQ/AAAAQOIexT8AAACgcW/EPwAAAIC1TcU/AAAAgCyaxD/UP4zzH57CPwAAAECADMU/AAAAYGbYxj8AAADAy5rGPwAAAECGVcY/AAAAoMR1xj8AAABA5dHFPwAAAGB4esU/AAAAoIGRxT8AAABgoUjFPwAAAEBqTMY/AAAAwCtmxj8AAAAALSTGPwAAAOA4Rcc/AAAAADHsxj8AAACgxCDIPwAAAKCL28g/AAAAIPYlyT8AAADgItvJPwAAAGDn+8k/AAAAIHbCyT8AAABgEoPIPwAAAACpFMk/AAAAYCYYyD8AAADAhqfHPwAAAGDrNcU/AAAAIFETxT8AAABARNzEPwAAAGAldMU/AAAAQFOvxT8AAABApgrGPwAAAACy18U/AAAAAI9vwz8AAACgPlfDPwAAAIDG98M/AAAAgPeOxD8AAAAAsrvEPwAAAGCad8Q/AAAAYLgexT8AAABgOULEPwAAAGBWRcQ/AAAAYLTjxD8AAADARZnFPwAAAMBLN8U/AAAAYCdLxT8AAAAAuFnGPwAAAAAy5sY/AAAAADLmxj8AAADAiNLGPwAAAODWiMY/AAAAIOwUxT8AAABgwi/FPwAAACCk/MI/AAAAoPvkwj8AAAAAr8/CPwAAAKC61cE/AAAAoKW5wT8AAAAArwjCPwAAACDxR8E/AAAAwHJowT8AAAAAfEXBPwAAAOAUHcE/AAAA4EkowT8AAAAghevBPwAAAIBbWsE/AAAAoExOwT8AAABAq5PBPwAAAEA8EsE/AAAA4JfewD8AAAAA0QXBPwAAAOC9h8E/AAAAIBR4wT8AAAAAD7fBPwAAAMAubsE/AAAAgDoewT8AAAAA3gLBPwAAAMBbIME/AAAAYEmdwD8AAAAAWrrAPwAAAGAEqcA/AAAAwCIxwT8AAACgYKnAPwAAAIAj1sA/AAAA4DkiwT8AAACglCzBPwAAAKAT0MA/AAAAgHXHwD8AAADgrbrAPwAAAAAI5sA/AAAAoEuOwT8AAACgLovBPwAAAAClhcM/AAAAoHZqxD8AAADgsDTEPwAAAOChKMQ/AAAA4INJxT8AAAAgJv7EPwAAAIAw8MQ/AAAAYDelxD8AAADg68HEPwAAAGCQ9MM/AAAAIAaBxT8AAADAU1bFPwAAAKC9+sQ/AAAAwDmVxD8AAABARznEPwAAACCbHcE/AAAAIK5HwT8AAACgm8TAPwAAAGAmisA/AAAAoGVPwD8AAAAAAYfAPwAAAEBZhsA/AAAAoC09wD8AAAAgQ3G/PwAAAIAkl78/AAAAILKdvz8AAADAuWm/PwAAAODpXL0/AAAAIEdXvT8AAADAyHa+PwAAAEBiLL8/AAAA4D3rvj8AAACABaK/PwAAACA3Ub8/AAAAoGezvj8AAADgPnK/PwAAAMDaw8A/AAAAIIOjwD8AAACAmZrAPwAAAMBUwcA/AAAAIN15wD8AAACglbTAPwAAAEAiUcA/AAAA4AJewD8AAACghovAPwAAAIDUmMA/AAAAICJuwD8AAABg3nHAPwAAACCzXsA/AAAAQGdEwT8AAADAl1DBPwAAAABYyMA/AAAAQIBiwD8AAAAg+3a+PwAAAEBOtb4/AAAAQI2Xvj8AAAAAAoC/PwAAAOCbUb8/AAAAgEqxvz8AAABA+Im/PwAAAGDBb78/AAAAAClcvz8AAABAEoS/PwAAAGBflb8/AAAAYLwfvz8AAACAYOO+PwAAAABpxr4/AAAAYMPvvj8AAAAA7da+PwAAAOCBV78/AAAA4Ks6vz8AAABADkrAPwAAAKCaIMA/AAAAgH1XwD8AAACAG0XAPwAAAKC7lsA/AAAAQAA3wT8AAABAHEDBPwAAAGD35ME/AAAA4Alowj8AAABAPL3CPwAAAIDQesQ/AAAAwKENxD8AAAAgoInEPwAAAABfmMQ/AAAA4KWbxD8AAAAAUwbEPwAAAKDtX8U/AAAAYJl+xT8AAAAgPEzFPwAAACB2GMU/AAAAYLwCxT8AAACgOgHFPwAAAIB95sQ/AAAAYLG/xD8AAACgQpHEPwAAAOB8P8U/AAAAYKAWxT8AAACg2ovEPwAAAKBpF8U/AAAA4KnyxT8AAADA6nPFPwAAAGAgs8U/AAAAoL1sxT8AAAAAxTrFPwAAAMCue8U/AAAAILa7xT8AAAAg8DLFPwAAAAB158M/AAAAQBrAwz8AAABAjdDDPwAAAIC5iMM/AAAAoEwVxD8AAAAgBoHFPwAAACBdT8Y/AAAAQKYKxj8AAACgle3FPwAAAKCwGcY/AAAAYLwDxj8AAADAJvnFPwAAAABDVsU/AAAAQL99xT8AAAAAwk7FPwAAAEBOmMQ/AAAAQNkixT8AAADAl1DFPwAAAACYFsU/AAAAoFZfxT8AAAAAA3rFPwAAACBDHMU/AAAAIEAxxD8AAADgFFbEPwAAAKDHRMQ/AAAAgA5IxD8AAAAAfhvEPwAAAEBoy8M/AAAAgLlswj8=\"},\"shape\":[268],\"dtype\":\"float64\",\"order\":\"little\"}]]}}},\"view\":{\"type\":\"object\",\"name\":\"CDSView\",\"id\":\"p1090\",\"attributes\":{\"filter\":{\"type\":\"object\",\"name\":\"AllIndices\",\"id\":\"p1091\"}}},\"glyph\":{\"type\":\"object\",\"name\":\"Line\",\"id\":\"p1086\",\"attributes\":{\"x\":{\"type\":\"field\",\"field\":\"index\"},\"y\":{\"type\":\"field\",\"field\":\"equity\"},\"line_color\":\"#1f77b4\",\"line_width\":1.5}},\"nonselection_glyph\":{\"type\":\"object\",\"name\":\"Line\",\"id\":\"p1087\",\"attributes\":{\"x\":{\"type\":\"field\",\"field\":\"index\"},\"y\":{\"type\":\"field\",\"field\":\"equity\"},\"line_color\":\"#1f77b4\",\"line_alpha\":0.1,\"line_width\":1.5}},\"muted_glyph\":{\"type\":\"object\",\"name\":\"Line\",\"id\":\"p1088\",\"attributes\":{\"x\":{\"type\":\"field\",\"field\":\"index\"},\"y\":{\"type\":\"field\",\"field\":\"equity\"},\"line_color\":\"#1f77b4\",\"line_alpha\":0.2,\"line_width\":1.5}}}}],\"tooltips\":[[\"Date\",\"@datetime{%c}\"],[\"Equity\",\"@equity{+0,0.[000]%}\"]],\"formatters\":{\"type\":\"map\",\"entries\":[[\"@datetime\",\"datetime\"]]},\"mode\":\"vline\",\"point_policy\":\"follow_mouse\"}},{\"type\":\"object\",\"name\":\"HoverTool\",\"id\":\"p1183\",\"attributes\":{\"renderers\":[{\"type\":\"object\",\"name\":\"GlyphRenderer\",\"id\":\"p1171\",\"attributes\":{\"data_source\":{\"type\":\"object\",\"name\":\"ColumnDataSource\",\"id\":\"p1034\",\"attributes\":{\"selected\":{\"type\":\"object\",\"name\":\"Selection\",\"id\":\"p1035\",\"attributes\":{\"indices\":[],\"line_indices\":[]}},\"selection_policy\":{\"type\":\"object\",\"name\":\"UnionRenderers\",\"id\":\"p1036\"},\"data\":{\"type\":\"map\",\"entries\":[[\"index\",{\"type\":\"ndarray\",\"array\":{\"type\":\"bytes\",\"data\":\"JwAAAD4AAABZAAAAjwAAAN4AAAAEAQAA\"},\"shape\":[6],\"dtype\":\"int32\",\"order\":\"little\"}],[\"datetime\",{\"type\":\"ndarray\",\"array\":{\"type\":\"bytes\",\"data\":\"AACAdCojeEIAAMCYkSp4QgAAAFRCM3hCAACAyqNEeEIAAMAwEV54QgAAQEtManhC\"},\"shape\":[6],\"dtype\":\"float64\",\"order\":\"little\"}],[\"exit_price\",{\"type\":\"ndarray\",\"array\":{\"type\":\"bytes\",\"data\":\"2OTbtsiAwj+eKTVwwnzHP1Gj2mPD7cQ/ZDft03g2xD+sLV3O413EP76sCg1kocQ/\"},\"shape\":[6],\"dtype\":\"float64\",\"order\":\"little\"}],[\"size\",{\"type\":\"ndarray\",\"array\":{\"type\":\"bytes\",\"data\":\"JSIAALYWAADOGAAAHh0AAEgdAADbGAAA\"},\"shape\":[6],\"dtype\":\"int32\",\"order\":\"little\"}],[\"returns_positive\",{\"type\":\"ndarray\",\"array\":[\"1\",\"1\",\"1\",\"1\",\"1\",\"1\"],\"shape\":[6],\"dtype\":\"object\",\"order\":\"little\"}],[\"returns_long\",{\"type\":\"ndarray\",\"array\":{\"type\":\"bytes\",\"data\":\"jPHOjeCb0T9QNRZWIpmzP2C2/EZ0cKg/aCVkEi4NyD/wQAOyFw/KP0C+q4Ds6qE/\"},\"shape\":[6],\"dtype\":\"float64\",\"order\":\"little\"}],[\"returns_short\",{\"type\":\"ndarray\",\"array\":{\"type\":\"bytes\",\"data\":\"AAAAAAAA+H8AAAAAAAD4fwAAAAAAAPh/AAAAAAAA+H8AAAAAAAD4fwAAAAAAAPh/\"},\"shape\":[6],\"dtype\":\"float64\",\"order\":\"little\"}],[\"marker_size\",{\"type\":\"ndarray\",\"array\":{\"type\":\"bytes\",\"data\":\"AAAAAAAANEAAAAAAAAAgQBVDjwYbZSRAYHVeuHxyLUBKV4YApsotQAIJd8FkgCRA\"},\"shape\":[6],\"dtype\":\"float64\",\"order\":\"little\"}],[\"position_lines_xs\",[[20,39],[55,62],[83,89],[104,143],[181,222],[244,260]]],[\"position_lines_ys\",[[0.11336425164341925,0.14455517700824916],[0.17044627709686755,0.18349485854043918],[0.15605690090358257,0.16350595832525497],[0.1329337972998619,0.15791235301952178],[0.13220106065273282,0.15911529137006875],[0.15572557041049,0.16117525708009411]]]]}}},\"view\":{\"type\":\"object\",\"name\":\"CDSView\",\"id\":\"p1172\",\"attributes\":{\"filter\":{\"type\":\"object\",\"name\":\"AllIndices\",\"id\":\"p1173\"}}},\"glyph\":{\"type\":\"object\",\"name\":\"Scatter\",\"id\":\"p1168\",\"attributes\":{\"x\":{\"type\":\"field\",\"field\":\"index\"},\"y\":{\"type\":\"field\",\"field\":\"returns_long\"},\"size\":{\"type\":\"field\",\"field\":\"marker_size\"},\"fill_color\":{\"type\":\"field\",\"field\":\"returns_positive\",\"transform\":{\"type\":\"object\",\"name\":\"CategoricalColorMapper\",\"id\":\"p1038\",\"attributes\":{\"palette\":[\"tomato\",\"lime\"],\"factors\":[\"0\",\"1\"]}}},\"marker\":{\"type\":\"value\",\"value\":\"triangle\"}}},\"nonselection_glyph\":{\"type\":\"object\",\"name\":\"Scatter\",\"id\":\"p1169\",\"attributes\":{\"x\":{\"type\":\"field\",\"field\":\"index\"},\"y\":{\"type\":\"field\",\"field\":\"returns_long\"},\"size\":{\"type\":\"field\",\"field\":\"marker_size\"},\"line_alpha\":{\"type\":\"value\",\"value\":0.1},\"fill_color\":{\"type\":\"field\",\"field\":\"returns_positive\",\"transform\":{\"id\":\"p1038\"}},\"fill_alpha\":{\"type\":\"value\",\"value\":0.1},\"hatch_alpha\":{\"type\":\"value\",\"value\":0.1},\"marker\":{\"type\":\"value\",\"value\":\"triangle\"}}},\"muted_glyph\":{\"type\":\"object\",\"name\":\"Scatter\",\"id\":\"p1170\",\"attributes\":{\"x\":{\"type\":\"field\",\"field\":\"index\"},\"y\":{\"type\":\"field\",\"field\":\"returns_long\"},\"size\":{\"type\":\"field\",\"field\":\"marker_size\"},\"line_alpha\":{\"type\":\"value\",\"value\":0.2},\"fill_color\":{\"type\":\"field\",\"field\":\"returns_positive\",\"transform\":{\"id\":\"p1038\"}},\"fill_alpha\":{\"type\":\"value\",\"value\":0.2},\"hatch_alpha\":{\"type\":\"value\",\"value\":0.2},\"marker\":{\"type\":\"value\",\"value\":\"triangle\"}}}}}],\"tooltips\":[[\"Date\",\"@datetime{%c}\"],[\"Size\",\"@size{0,0}\"],[\"P/L\",\"@returns_long{+0.[000]%}\"]],\"formatters\":{\"type\":\"map\",\"entries\":[[\"@datetime\",\"datetime\"]]},\"point_policy\":\"follow_mouse\"}},{\"type\":\"object\",\"name\":\"HoverTool\",\"id\":\"p1184\",\"attributes\":{\"renderers\":[{\"type\":\"object\",\"name\":\"GlyphRenderer\",\"id\":\"p1180\",\"attributes\":{\"data_source\":{\"id\":\"p1034\"},\"view\":{\"type\":\"object\",\"name\":\"CDSView\",\"id\":\"p1181\",\"attributes\":{\"filter\":{\"type\":\"object\",\"name\":\"AllIndices\",\"id\":\"p1182\"}}},\"glyph\":{\"type\":\"object\",\"name\":\"Scatter\",\"id\":\"p1177\",\"attributes\":{\"x\":{\"type\":\"field\",\"field\":\"index\"},\"y\":{\"type\":\"field\",\"field\":\"returns_short\"},\"size\":{\"type\":\"field\",\"field\":\"marker_size\"},\"fill_color\":{\"type\":\"field\",\"field\":\"returns_positive\",\"transform\":{\"id\":\"p1038\"}},\"marker\":{\"type\":\"value\",\"value\":\"inverted_triangle\"}}},\"nonselection_glyph\":{\"type\":\"object\",\"name\":\"Scatter\",\"id\":\"p1178\",\"attributes\":{\"x\":{\"type\":\"field\",\"field\":\"index\"},\"y\":{\"type\":\"field\",\"field\":\"returns_short\"},\"size\":{\"type\":\"field\",\"field\":\"marker_size\"},\"line_alpha\":{\"type\":\"value\",\"value\":0.1},\"fill_color\":{\"type\":\"field\",\"field\":\"returns_positive\",\"transform\":{\"id\":\"p1038\"}},\"fill_alpha\":{\"type\":\"value\",\"value\":0.1},\"hatch_alpha\":{\"type\":\"value\",\"value\":0.1},\"marker\":{\"type\":\"value\",\"value\":\"inverted_triangle\"}}},\"muted_glyph\":{\"type\":\"object\",\"name\":\"Scatter\",\"id\":\"p1179\",\"attributes\":{\"x\":{\"type\":\"field\",\"field\":\"index\"},\"y\":{\"type\":\"field\",\"field\":\"returns_short\"},\"size\":{\"type\":\"field\",\"field\":\"marker_size\"},\"line_alpha\":{\"type\":\"value\",\"value\":0.2},\"fill_color\":{\"type\":\"field\",\"field\":\"returns_positive\",\"transform\":{\"id\":\"p1038\"}},\"fill_alpha\":{\"type\":\"value\",\"value\":0.2},\"hatch_alpha\":{\"type\":\"value\",\"value\":0.2},\"marker\":{\"type\":\"value\",\"value\":\"inverted_triangle\"}}}}}],\"tooltips\":[[\"Date\",\"@datetime{%c}\"],[\"Size\",\"@size{0,0}\"],[\"P/L\",\"@returns_short{+0.[000]%}\"]],\"formatters\":{\"type\":\"map\",\"entries\":[[\"@datetime\",\"datetime\"]]},\"point_policy\":\"follow_mouse\"}},{\"type\":\"object\",\"name\":\"HoverTool\",\"id\":\"p1297\",\"attributes\":{\"renderers\":[{\"type\":\"object\",\"name\":\"GlyphRenderer\",\"id\":\"p1263\",\"attributes\":{\"data_source\":{\"id\":\"p1031\"},\"view\":{\"type\":\"object\",\"name\":\"CDSView\",\"id\":\"p1264\",\"attributes\":{\"filter\":{\"type\":\"object\",\"name\":\"AllIndices\",\"id\":\"p1265\"}}},\"glyph\":{\"type\":\"object\",\"name\":\"VBar\",\"id\":\"p1260\",\"attributes\":{\"x\":{\"type\":\"field\",\"field\":\"index\"},\"width\":{\"type\":\"value\",\"value\":0.8},\"bottom\":{\"type\":\"field\",\"field\":\"Close\"},\"top\":{\"type\":\"field\",\"field\":\"Open\"},\"fill_color\":{\"type\":\"field\",\"field\":\"inc\",\"transform\":{\"type\":\"object\",\"name\":\"CategoricalColorMapper\",\"id\":\"p1037\",\"attributes\":{\"palette\":[\"tomato\",\"lime\"],\"factors\":[\"0\",\"1\"]}}}}},\"nonselection_glyph\":{\"type\":\"object\",\"name\":\"VBar\",\"id\":\"p1261\",\"attributes\":{\"x\":{\"type\":\"field\",\"field\":\"index\"},\"width\":{\"type\":\"value\",\"value\":0.8},\"bottom\":{\"type\":\"field\",\"field\":\"Close\"},\"top\":{\"type\":\"field\",\"field\":\"Open\"},\"line_alpha\":{\"type\":\"value\",\"value\":0.1},\"fill_color\":{\"type\":\"field\",\"field\":\"inc\",\"transform\":{\"id\":\"p1037\"}},\"fill_alpha\":{\"type\":\"value\",\"value\":0.1},\"hatch_alpha\":{\"type\":\"value\",\"value\":0.1}}},\"muted_glyph\":{\"type\":\"object\",\"name\":\"VBar\",\"id\":\"p1262\",\"attributes\":{\"x\":{\"type\":\"field\",\"field\":\"index\"},\"width\":{\"type\":\"value\",\"value\":0.8},\"bottom\":{\"type\":\"field\",\"field\":\"Close\"},\"top\":{\"type\":\"field\",\"field\":\"Open\"},\"line_alpha\":{\"type\":\"value\",\"value\":0.2},\"fill_color\":{\"type\":\"field\",\"field\":\"inc\",\"transform\":{\"id\":\"p1037\"}},\"fill_alpha\":{\"type\":\"value\",\"value\":0.2},\"hatch_alpha\":{\"type\":\"value\",\"value\":0.2}}}}}],\"tooltips\":[[\"Date\",\"@datetime{%c}\"],[\"x, y\",\"$index\\u00a0\\u00a0\\u00a0\\u00a0$y{0,0.0[0000]}\"],[\"OHLC\",\"@Open{0,0.0[0000]}\\u00a0\\u00a0\\u00a0\\u00a0@High{0,0.0[0000]}\\u00a0\\u00a0\\u00a0\\u00a0@Low{0,0.0[0000]}\\u00a0\\u00a0\\u00a0\\u00a0@Close{0,0.0[0000]}\"],[\"Volume\",\"@Volume{0,0}\"],[\"lb_close\",\"@{lb_close_2_1}{0,0.0[0000]}\"],[\"lb_low\",\"@{lb_low_3_1}{0,0.0[0000]}\"]],\"formatters\":{\"type\":\"map\",\"entries\":[[\"@datetime\",\"datetime\"]]},\"mode\":\"vline\",\"point_policy\":\"follow_mouse\"}},{\"type\":\"object\",\"name\":\"HoverTool\",\"id\":\"p1224\",\"attributes\":{\"renderers\":[{\"type\":\"object\",\"name\":\"GlyphRenderer\",\"id\":\"p1221\",\"attributes\":{\"data_source\":{\"id\":\"p1031\"},\"view\":{\"type\":\"object\",\"name\":\"CDSView\",\"id\":\"p1222\",\"attributes\":{\"filter\":{\"type\":\"object\",\"name\":\"AllIndices\",\"id\":\"p1223\"}}},\"glyph\":{\"type\":\"object\",\"name\":\"VBar\",\"id\":\"p1218\",\"attributes\":{\"x\":{\"type\":\"field\",\"field\":\"index\"},\"width\":{\"type\":\"value\",\"value\":0.8},\"top\":{\"type\":\"field\",\"field\":\"Volume\"},\"line_color\":{\"type\":\"field\",\"field\":\"inc\",\"transform\":{\"id\":\"p1037\"}},\"fill_color\":{\"type\":\"field\",\"field\":\"inc\",\"transform\":{\"id\":\"p1037\"}},\"hatch_color\":{\"type\":\"field\",\"field\":\"inc\",\"transform\":{\"id\":\"p1037\"}}}},\"nonselection_glyph\":{\"type\":\"object\",\"name\":\"VBar\",\"id\":\"p1219\",\"attributes\":{\"x\":{\"type\":\"field\",\"field\":\"index\"},\"width\":{\"type\":\"value\",\"value\":0.8},\"top\":{\"type\":\"field\",\"field\":\"Volume\"},\"line_color\":{\"type\":\"field\",\"field\":\"inc\",\"transform\":{\"id\":\"p1037\"}},\"line_alpha\":{\"type\":\"value\",\"value\":0.1},\"fill_color\":{\"type\":\"field\",\"field\":\"inc\",\"transform\":{\"id\":\"p1037\"}},\"fill_alpha\":{\"type\":\"value\",\"value\":0.1},\"hatch_color\":{\"type\":\"field\",\"field\":\"inc\",\"transform\":{\"id\":\"p1037\"}},\"hatch_alpha\":{\"type\":\"value\",\"value\":0.1}}},\"muted_glyph\":{\"type\":\"object\",\"name\":\"VBar\",\"id\":\"p1220\",\"attributes\":{\"x\":{\"type\":\"field\",\"field\":\"index\"},\"width\":{\"type\":\"value\",\"value\":0.8},\"top\":{\"type\":\"field\",\"field\":\"Volume\"},\"line_color\":{\"type\":\"field\",\"field\":\"inc\",\"transform\":{\"id\":\"p1037\"}},\"line_alpha\":{\"type\":\"value\",\"value\":0.2},\"fill_color\":{\"type\":\"field\",\"field\":\"inc\",\"transform\":{\"id\":\"p1037\"}},\"fill_alpha\":{\"type\":\"value\",\"value\":0.2},\"hatch_color\":{\"type\":\"field\",\"field\":\"inc\",\"transform\":{\"id\":\"p1037\"}},\"hatch_alpha\":{\"type\":\"value\",\"value\":0.2}}}}}],\"tooltips\":[[\"Date\",\"@datetime{%c}\"],[\"Volume\",\"@Volume{0.00 a}\"]],\"formatters\":{\"type\":\"map\",\"entries\":[[\"@datetime\",\"datetime\"]]},\"mode\":\"vline\",\"point_policy\":\"follow_mouse\"}},{\"type\":\"object\",\"name\":\"ToolProxy\",\"id\":\"p1307\",\"attributes\":{\"tools\":[{\"type\":\"object\",\"name\":\"CrosshairTool\",\"id\":\"p1299\"},{\"id\":\"p1299\"},{\"id\":\"p1299\"},{\"id\":\"p1299\"}]}}]}},\"toolbar_location\":\"right\",\"children\":[[{\"type\":\"object\",\"name\":\"Figure\",\"id\":\"p1042\",\"attributes\":{\"width\":null,\"height\":110,\"sizing_mode\":\"stretch_width\",\"x_range\":{\"type\":\"object\",\"name\":\"Range1d\",\"id\":\"p1001\",\"attributes\":{\"js_property_callbacks\":{\"type\":\"map\",\"entries\":[[\"change:end\",[{\"type\":\"object\",\"name\":\"CustomJS\",\"id\":\"p1298\",\"attributes\":{\"args\":{\"type\":\"map\",\"entries\":[[\"ohlc_range\",{\"type\":\"object\",\"name\":\"DataRange1d\",\"id\":\"p1004\"}],[\"source\",{\"id\":\"p1031\"}],[\"volume_range\",{\"type\":\"object\",\"name\":\"DataRange1d\",\"id\":\"p1188\"}]]},\"code\":\"if (!window._bt_scale_range) {\\n    window._bt_scale_range = function (range, min, max, pad) {\\n        \\\"use strict\\\";\\n        if (min !== Infinity && max !== -Infinity) {\\n            pad = pad ? (max - min) * .03 : 0;\\n            range.start = min - pad;\\n            range.end = max + pad;\\n        } else console.error('backtesting: scale range error:', min, max, range);\\n    };\\n}\\n\\nclearTimeout(window._bt_autoscale_timeout);\\n\\nwindow._bt_autoscale_timeout = setTimeout(function () {\\n    /**\\n     * @variable cb_obj `fig_ohlc.x_range`.\\n     * @variable source `ColumnDataSource`\\n     * @variable ohlc_range `fig_ohlc.y_range`.\\n     * @variable volume_range `fig_volume.y_range`.\\n     */\\n    \\\"use strict\\\";\\n\\n    let i = Math.max(Math.floor(cb_obj.start), 0),\\n        j = Math.min(Math.ceil(cb_obj.end), source.data['ohlc_high'].length);\\n\\n    let max = Math.max.apply(null, source.data['ohlc_high'].slice(i, j)),\\n        min = Math.min.apply(null, source.data['ohlc_low'].slice(i, j));\\n    _bt_scale_range(ohlc_range, min, max, true);\\n\\n    if (volume_range) {\\n        max = Math.max.apply(null, source.data['Volume'].slice(i, j));\\n        _bt_scale_range(volume_range, 0, max * 1.03, false);\\n    }\\n\\n}, 50);\\n\"}}]]]},\"end\":267,\"bounds\":[-13.35,280.35],\"min_interval\":10}},\"y_range\":{\"type\":\"object\",\"name\":\"DataRange1d\",\"id\":\"p1044\"},\"x_scale\":{\"type\":\"object\",\"name\":\"LinearScale\",\"id\":\"p1051\"},\"y_scale\":{\"type\":\"object\",\"name\":\"LinearScale\",\"id\":\"p1052\"},\"title\":{\"type\":\"object\",\"name\":\"Title\",\"id\":\"p1049\"},\"outline_line_color\":\"#666666\",\"renderers\":[{\"type\":\"object\",\"name\":\"GlyphRenderer\",\"id\":\"p1080\",\"attributes\":{\"data_source\":{\"type\":\"object\",\"name\":\"ColumnDataSource\",\"id\":\"p1071\",\"attributes\":{\"selected\":{\"type\":\"object\",\"name\":\"Selection\",\"id\":\"p1072\",\"attributes\":{\"indices\":[],\"line_indices\":[]}},\"selection_policy\":{\"type\":\"object\",\"name\":\"UnionRenderers\",\"id\":\"p1073\"},\"data\":{\"type\":\"map\",\"entries\":[[\"index\",{\"type\":\"ndarray\",\"array\":{\"type\":\"bytes\",\"data\":\"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\"},\"shape\":[536],\"dtype\":\"int32\",\"order\":\"little\"}],[\"equity_dd\",{\"type\":\"ndarray\",\"array\":{\"type\":\"bytes\",\"data\":\"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\"},\"shape\":[536],\"dtype\":\"float64\",\"order\":\"little\"}]]}}},\"view\":{\"type\":\"object\",\"name\":\"CDSView\",\"id\":\"p1081\",\"attributes\":{\"filter\":{\"type\":\"object\",\"name\":\"AllIndices\",\"id\":\"p1082\"}}},\"glyph\":{\"type\":\"object\",\"name\":\"Patch\",\"id\":\"p1077\",\"attributes\":{\"x\":{\"type\":\"field\",\"field\":\"index\"},\"y\":{\"type\":\"field\",\"field\":\"equity_dd\"},\"line_color\":\"#ffcb66\",\"fill_color\":\"#ffffea\"}},\"nonselection_glyph\":{\"type\":\"object\",\"name\":\"Patch\",\"id\":\"p1078\",\"attributes\":{\"x\":{\"type\":\"field\",\"field\":\"index\"},\"y\":{\"type\":\"field\",\"field\":\"equity_dd\"},\"line_color\":\"#ffcb66\",\"line_alpha\":0.1,\"fill_color\":\"#ffffea\",\"fill_alpha\":0.1,\"hatch_alpha\":0.1}},\"muted_glyph\":{\"type\":\"object\",\"name\":\"Patch\",\"id\":\"p1079\",\"attributes\":{\"x\":{\"type\":\"field\",\"field\":\"index\"},\"y\":{\"type\":\"field\",\"field\":\"equity_dd\"},\"line_color\":\"#ffcb66\",\"line_alpha\":0.2,\"fill_color\":\"#ffffea\",\"fill_alpha\":0.2,\"hatch_alpha\":0.2}}}},{\"id\":\"p1089\"},{\"type\":\"object\",\"name\":\"GlyphRenderer\",\"id\":\"p1100\",\"attributes\":{\"data_source\":{\"type\":\"object\",\"name\":\"ColumnDataSource\",\"id\":\"p1094\",\"attributes\":{\"selected\":{\"type\":\"object\",\"name\":\"Selection\",\"id\":\"p1095\",\"attributes\":{\"indices\":[],\"line_indices\":[]}},\"selection_policy\":{\"type\":\"object\",\"name\":\"UnionRenderers\",\"id\":\"p1096\"},\"data\":{\"type\":\"map\"}}},\"view\":{\"type\":\"object\",\"name\":\"CDSView\",\"id\":\"p1101\",\"attributes\":{\"filter\":{\"type\":\"object\",\"name\":\"AllIndices\",\"id\":\"p1102\"}}},\"glyph\":{\"type\":\"object\",\"name\":\"Scatter\",\"id\":\"p1097\",\"attributes\":{\"x\":{\"type\":\"value\",\"value\":249},\"y\":{\"type\":\"value\",\"value\":1.8766540194680057},\"size\":{\"type\":\"value\",\"value\":8},\"line_color\":{\"type\":\"value\",\"value\":\"cyan\"},\"fill_color\":{\"type\":\"value\",\"value\":\"cyan\"},\"hatch_color\":{\"type\":\"value\",\"value\":\"cyan\"}}},\"nonselection_glyph\":{\"type\":\"object\",\"name\":\"Scatter\",\"id\":\"p1098\",\"attributes\":{\"x\":{\"type\":\"value\",\"value\":249},\"y\":{\"type\":\"value\",\"value\":1.8766540194680057},\"size\":{\"type\":\"value\",\"value\":8},\"line_color\":{\"type\":\"value\",\"value\":\"cyan\"},\"line_alpha\":{\"type\":\"value\",\"value\":0.1},\"fill_color\":{\"type\":\"value\",\"value\":\"cyan\"},\"fill_alpha\":{\"type\":\"value\",\"value\":0.1},\"hatch_color\":{\"type\":\"value\",\"value\":\"cyan\"},\"hatch_alpha\":{\"type\":\"value\",\"value\":0.1}}},\"muted_glyph\":{\"type\":\"object\",\"name\":\"Scatter\",\"id\":\"p1099\",\"attributes\":{\"x\":{\"type\":\"value\",\"value\":249},\"y\":{\"type\":\"value\",\"value\":1.8766540194680057},\"size\":{\"type\":\"value\",\"value\":8},\"line_color\":{\"type\":\"value\",\"value\":\"cyan\"},\"line_alpha\":{\"type\":\"value\",\"value\":0.2},\"fill_color\":{\"type\":\"value\",\"value\":\"cyan\"},\"fill_alpha\":{\"type\":\"value\",\"value\":0.2},\"hatch_color\":{\"type\":\"value\",\"value\":\"cyan\"},\"hatch_alpha\":{\"type\":\"value\",\"value\":0.2}}}}},{\"type\":\"object\",\"name\":\"GlyphRenderer\",\"id\":\"p1111\",\"attributes\":{\"data_source\":{\"type\":\"object\",\"name\":\"ColumnDataSource\",\"id\":\"p1105\",\"attributes\":{\"selected\":{\"type\":\"object\",\"name\":\"Selection\",\"id\":\"p1106\",\"attributes\":{\"indices\":[],\"line_indices\":[]}},\"selection_policy\":{\"type\":\"object\",\"name\":\"UnionRenderers\",\"id\":\"p1107\"},\"data\":{\"type\":\"map\"}}},\"view\":{\"type\":\"object\",\"name\":\"CDSView\",\"id\":\"p1112\",\"attributes\":{\"filter\":{\"type\":\"object\",\"name\":\"AllIndices\",\"id\":\"p1113\"}}},\"glyph\":{\"type\":\"object\",\"name\":\"Scatter\",\"id\":\"p1108\",\"attributes\":{\"x\":{\"type\":\"value\",\"value\":267},\"y\":{\"type\":\"value\",\"value\":1.8184214298247092},\"size\":{\"type\":\"value\",\"value\":8},\"line_color\":{\"type\":\"value\",\"value\":\"blue\"},\"fill_color\":{\"type\":\"value\",\"value\":\"blue\"},\"hatch_color\":{\"type\":\"value\",\"value\":\"blue\"}}},\"nonselection_glyph\":{\"type\":\"object\",\"name\":\"Scatter\",\"id\":\"p1109\",\"attributes\":{\"x\":{\"type\":\"value\",\"value\":267},\"y\":{\"type\":\"value\",\"value\":1.8184214298247092},\"size\":{\"type\":\"value\",\"value\":8},\"line_color\":{\"type\":\"value\",\"value\":\"blue\"},\"line_alpha\":{\"type\":\"value\",\"value\":0.1},\"fill_color\":{\"type\":\"value\",\"value\":\"blue\"},\"fill_alpha\":{\"type\":\"value\",\"value\":0.1},\"hatch_color\":{\"type\":\"value\",\"value\":\"blue\"},\"hatch_alpha\":{\"type\":\"value\",\"value\":0.1}}},\"muted_glyph\":{\"type\":\"object\",\"name\":\"Scatter\",\"id\":\"p1110\",\"attributes\":{\"x\":{\"type\":\"value\",\"value\":267},\"y\":{\"type\":\"value\",\"value\":1.8184214298247092},\"size\":{\"type\":\"value\",\"value\":8},\"line_color\":{\"type\":\"value\",\"value\":\"blue\"},\"line_alpha\":{\"type\":\"value\",\"value\":0.2},\"fill_color\":{\"type\":\"value\",\"value\":\"blue\"},\"fill_alpha\":{\"type\":\"value\",\"value\":0.2},\"hatch_color\":{\"type\":\"value\",\"value\":\"blue\"},\"hatch_alpha\":{\"type\":\"value\",\"value\":0.2}}}}},{\"type\":\"object\",\"name\":\"GlyphRenderer\",\"id\":\"p1121\",\"attributes\":{\"data_source\":{\"type\":\"object\",\"name\":\"ColumnDataSource\",\"id\":\"p1115\",\"attributes\":{\"selected\":{\"type\":\"object\",\"name\":\"Selection\",\"id\":\"p1116\",\"attributes\":{\"indices\":[],\"line_indices\":[]}},\"selection_policy\":{\"type\":\"object\",\"name\":\"UnionRenderers\",\"id\":\"p1117\"},\"data\":{\"type\":\"map\"}}},\"view\":{\"type\":\"object\",\"name\":\"CDSView\",\"id\":\"p1122\",\"attributes\":{\"filter\":{\"type\":\"object\",\"name\":\"AllIndices\",\"id\":\"p1123\"}}},\"glyph\":{\"type\":\"object\",\"name\":\"Scatter\",\"id\":\"p1118\",\"attributes\":{\"x\":{\"type\":\"value\",\"value\":26},\"y\":{\"type\":\"value\",\"value\":0.9169058026345672},\"size\":{\"type\":\"value\",\"value\":8},\"line_color\":{\"type\":\"value\",\"value\":\"red\"},\"fill_color\":{\"type\":\"value\",\"value\":\"red\"},\"hatch_color\":{\"type\":\"value\",\"value\":\"red\"}}},\"nonselection_glyph\":{\"type\":\"object\",\"name\":\"Scatter\",\"id\":\"p1119\",\"attributes\":{\"x\":{\"type\":\"value\",\"value\":26},\"y\":{\"type\":\"value\",\"value\":0.9169058026345672},\"size\":{\"type\":\"value\",\"value\":8},\"line_color\":{\"type\":\"value\",\"value\":\"red\"},\"line_alpha\":{\"type\":\"value\",\"value\":0.1},\"fill_color\":{\"type\":\"value\",\"value\":\"red\"},\"fill_alpha\":{\"type\":\"value\",\"value\":0.1},\"hatch_color\":{\"type\":\"value\",\"value\":\"red\"},\"hatch_alpha\":{\"type\":\"value\",\"value\":0.1}}},\"muted_glyph\":{\"type\":\"object\",\"name\":\"Scatter\",\"id\":\"p1120\",\"attributes\":{\"x\":{\"type\":\"value\",\"value\":26},\"y\":{\"type\":\"value\",\"value\":0.9169058026345672},\"size\":{\"type\":\"value\",\"value\":8},\"line_color\":{\"type\":\"value\",\"value\":\"red\"},\"line_alpha\":{\"type\":\"value\",\"value\":0.2},\"fill_color\":{\"type\":\"value\",\"value\":\"red\"},\"fill_alpha\":{\"type\":\"value\",\"value\":0.2},\"hatch_color\":{\"type\":\"value\",\"value\":\"red\"},\"hatch_alpha\":{\"type\":\"value\",\"value\":0.2}}}}},{\"type\":\"object\",\"name\":\"GlyphRenderer\",\"id\":\"p1131\",\"attributes\":{\"data_source\":{\"type\":\"object\",\"name\":\"ColumnDataSource\",\"id\":\"p1125\",\"attributes\":{\"selected\":{\"type\":\"object\",\"name\":\"Selection\",\"id\":\"p1126\",\"attributes\":{\"indices\":[],\"line_indices\":[]}},\"selection_policy\":{\"type\":\"object\",\"name\":\"UnionRenderers\",\"id\":\"p1127\"},\"data\":{\"type\":\"map\",\"entries\":[[\"x\",[141,208.9611152315054]]]}}},\"view\":{\"type\":\"object\",\"name\":\"CDSView\",\"id\":\"p1132\",\"attributes\":{\"filter\":{\"type\":\"object\",\"name\":\"AllIndices\",\"id\":\"p1133\"}}},\"glyph\":{\"type\":\"object\",\"name\":\"Line\",\"id\":\"p1128\",\"attributes\":{\"x\":{\"type\":\"field\",\"field\":\"x\"},\"y\":{\"type\":\"value\",\"value\":1.6309363623388005},\"line_color\":\"red\",\"line_width\":2}},\"nonselection_glyph\":{\"type\":\"object\",\"name\":\"Line\",\"id\":\"p1129\",\"attributes\":{\"x\":{\"type\":\"field\",\"field\":\"x\"},\"y\":{\"type\":\"value\",\"value\":1.6309363623388005},\"line_color\":\"red\",\"line_alpha\":0.1,\"line_width\":2}},\"muted_glyph\":{\"type\":\"object\",\"name\":\"Line\",\"id\":\"p1130\",\"attributes\":{\"x\":{\"type\":\"field\",\"field\":\"x\"},\"y\":{\"type\":\"value\",\"value\":1.6309363623388005},\"line_color\":\"red\",\"line_alpha\":0.2,\"line_width\":2}}}}],\"toolbar\":{\"type\":\"object\",\"name\":\"Toolbar\",\"id\":\"p1050\",\"attributes\":{\"tools\":[{\"id\":\"p1063\"},{\"id\":\"p1064\"},{\"id\":\"p1065\"},{\"id\":\"p1067\"},{\"id\":\"p1068\"},{\"id\":\"p1069\"},{\"type\":\"object\",\"name\":\"SaveTool\",\"id\":\"p1070\"},{\"id\":\"p1092\"},{\"id\":\"p1299\"}],\"active_drag\":{\"id\":\"p1063\"},\"active_scroll\":{\"id\":\"p1064\"}}},\"toolbar_location\":null,\"left\":[{\"type\":\"object\",\"name\":\"LinearAxis\",\"id\":\"p1058\",\"attributes\":{\"ticker\":{\"type\":\"object\",\"name\":\"BasicTicker\",\"id\":\"p1059\",\"attributes\":{\"mantissas\":[1,2,5]}},\"formatter\":{\"type\":\"object\",\"name\":\"NumeralTickFormatter\",\"id\":\"p1093\",\"attributes\":{\"format\":\"0,0.[00]%\"}},\"axis_label\":\"Equity\",\"major_label_policy\":{\"type\":\"object\",\"name\":\"AllLabels\",\"id\":\"p1061\"},\"minor_tick_line_color\":null}}],\"below\":[{\"type\":\"object\",\"name\":\"LinearAxis\",\"id\":\"p1053\",\"attributes\":{\"visible\":false,\"ticker\":{\"type\":\"object\",\"name\":\"BasicTicker\",\"id\":\"p1054\",\"attributes\":{\"mantissas\":[1,2,5]}},\"formatter\":{\"type\":\"object\",\"name\":\"BasicTickFormatter\",\"id\":\"p1055\"},\"major_label_policy\":{\"type\":\"object\",\"name\":\"AllLabels\",\"id\":\"p1056\"}}}],\"center\":[{\"type\":\"object\",\"name\":\"Grid\",\"id\":\"p1057\",\"attributes\":{\"axis\":{\"id\":\"p1053\"}}},{\"type\":\"object\",\"name\":\"Grid\",\"id\":\"p1062\",\"attributes\":{\"dimension\":1,\"axis\":{\"id\":\"p1058\"}}},{\"type\":\"object\",\"name\":\"Legend\",\"id\":\"p1103\",\"attributes\":{\"location\":\"top_left\",\"border_line_color\":\"#333333\",\"click_policy\":\"hide\",\"label_text_font_size\":\"8pt\",\"margin\":0,\"padding\":5,\"spacing\":0,\"items\":[{\"type\":\"object\",\"name\":\"LegendItem\",\"id\":\"p1104\",\"attributes\":{\"label\":{\"type\":\"value\",\"value\":\"Peak (188%)\"},\"renderers\":[{\"id\":\"p1100\"}]}},{\"type\":\"object\",\"name\":\"LegendItem\",\"id\":\"p1114\",\"attributes\":{\"label\":{\"type\":\"value\",\"value\":\"Final (182%)\"},\"renderers\":[{\"id\":\"p1111\"}]}},{\"type\":\"object\",\"name\":\"LegendItem\",\"id\":\"p1124\",\"attributes\":{\"label\":{\"type\":\"value\",\"value\":\"Max Drawdown (-15.9%)\"},\"renderers\":[{\"id\":\"p1121\"}]}},{\"type\":\"object\",\"name\":\"LegendItem\",\"id\":\"p1134\",\"attributes\":{\"label\":{\"type\":\"value\",\"value\":\"Max Dd Dur. (68 days)\"},\"renderers\":[{\"id\":\"p1131\"}]}}]}}],\"min_border_top\":3,\"min_border_bottom\":6,\"min_border_left\":0,\"min_border_right\":10}},0,0],[{\"type\":\"object\",\"name\":\"Figure\",\"id\":\"p1135\",\"attributes\":{\"width\":null,\"height\":90,\"sizing_mode\":\"stretch_width\",\"x_range\":{\"id\":\"p1001\"},\"y_range\":{\"type\":\"object\",\"name\":\"DataRange1d\",\"id\":\"p1137\"},\"x_scale\":{\"type\":\"object\",\"name\":\"LinearScale\",\"id\":\"p1144\"},\"y_scale\":{\"type\":\"object\",\"name\":\"LinearScale\",\"id\":\"p1145\"},\"title\":{\"type\":\"object\",\"name\":\"Title\",\"id\":\"p1142\"},\"outline_line_color\":\"#666666\",\"renderers\":[{\"id\":\"p1171\"},{\"id\":\"p1180\"}],\"toolbar\":{\"type\":\"object\",\"name\":\"Toolbar\",\"id\":\"p1143\",\"attributes\":{\"tools\":[{\"id\":\"p1156\"},{\"id\":\"p1157\"},{\"id\":\"p1158\"},{\"id\":\"p1160\"},{\"id\":\"p1161\"},{\"id\":\"p1162\"},{\"type\":\"object\",\"name\":\"SaveTool\",\"id\":\"p1163\"},{\"id\":\"p1183\"},{\"id\":\"p1184\"},{\"id\":\"p1299\"}],\"active_drag\":{\"id\":\"p1156\"},\"active_scroll\":{\"id\":\"p1157\"}}},\"toolbar_location\":null,\"left\":[{\"type\":\"object\",\"name\":\"LinearAxis\",\"id\":\"p1151\",\"attributes\":{\"ticker\":{\"type\":\"object\",\"name\":\"BasicTicker\",\"id\":\"p1152\",\"attributes\":{\"mantissas\":[1,2,5]}},\"formatter\":{\"type\":\"object\",\"name\":\"NumeralTickFormatter\",\"id\":\"p1185\",\"attributes\":{\"format\":\"0.[00]%\"}},\"axis_label\":\"Profit / Loss\",\"major_label_policy\":{\"type\":\"object\",\"name\":\"AllLabels\",\"id\":\"p1154\"},\"minor_tick_line_color\":null}}],\"below\":[{\"type\":\"object\",\"name\":\"LinearAxis\",\"id\":\"p1146\",\"attributes\":{\"visible\":false,\"ticker\":{\"type\":\"object\",\"name\":\"BasicTicker\",\"id\":\"p1147\",\"attributes\":{\"mantissas\":[1,2,5]}},\"formatter\":{\"type\":\"object\",\"name\":\"BasicTickFormatter\",\"id\":\"p1148\"},\"major_label_policy\":{\"type\":\"object\",\"name\":\"AllLabels\",\"id\":\"p1149\"}}}],\"center\":[{\"type\":\"object\",\"name\":\"Grid\",\"id\":\"p1150\",\"attributes\":{\"axis\":{\"id\":\"p1146\"}}},{\"type\":\"object\",\"name\":\"Grid\",\"id\":\"p1155\",\"attributes\":{\"dimension\":1,\"axis\":{\"id\":\"p1151\"}}},{\"type\":\"object\",\"name\":\"Span\",\"id\":\"p1164\",\"attributes\":{\"location\":0,\"line_color\":\"#666666\",\"line_dash\":[6]}}],\"min_border_top\":3,\"min_border_bottom\":6,\"min_border_left\":0,\"min_border_right\":10}},1,0],[{\"type\":\"object\",\"name\":\"Figure\",\"id\":\"p1002\",\"attributes\":{\"width\":null,\"height\":400,\"sizing_mode\":\"stretch_width\",\"x_range\":{\"id\":\"p1001\"},\"y_range\":{\"id\":\"p1004\"},\"x_scale\":{\"type\":\"object\",\"name\":\"LinearScale\",\"id\":\"p1011\"},\"y_scale\":{\"type\":\"object\",\"name\":\"LinearScale\",\"id\":\"p1012\"},\"title\":{\"type\":\"object\",\"name\":\"Title\",\"id\":\"p1009\"},\"outline_line_color\":\"#666666\",\"renderers\":[{\"type\":\"object\",\"name\":\"GlyphRenderer\",\"id\":\"p1235\",\"attributes\":{\"data_source\":{\"type\":\"object\",\"name\":\"ColumnDataSource\",\"id\":\"p1226\",\"attributes\":{\"selected\":{\"type\":\"object\",\"name\":\"Selection\",\"id\":\"p1227\",\"attributes\":{\"indices\":[],\"line_indices\":[]}},\"selection_policy\":{\"type\":\"object\",\"name\":\"UnionRenderers\",\"id\":\"p1228\"},\"data\":{\"type\":\"map\",\"entries\":[[\"index\",{\"type\":\"ndarray\",\"array\":{\"type\":\"bytes\",\"data\":\"AAAAAAAAHEAAAAAAAAA+QAAAAAAAgE5AAAAAAADgVkAAAAAAAIBeQAAAAAAAEGNAAAAAAADgZkAAAAAAAMBqQAAAAAAAcG5AAAAAAABocEA=\"},\"shape\":[10],\"dtype\":\"float64\",\"order\":\"little\"}],[\"Open\",{\"type\":\"ndarray\",\"array\":{\"type\":\"bytes\",\"data\":\"N3L9PUtY2z3p1is+ECQfPlYPCD4gCyE+fo0EPqn39D02ViI+Z2AkPg==\"},\"shape\":[10],\"dtype\":\"float32\",\"order\":\"little\"}],[\"High\",{\"type\":\"ndarray\",\"array\":{\"type\":\"bytes\",\"data\":\"bxIDPjPDNj47308+kDE3Ph9MKj4xCCw+voQKPsv0Kz7pejI+GNArPg==\"},\"shape\":[10],\"dtype\":\"float32\",\"order\":\"little\"}],[\"Low\",{\"type\":\"ndarray\",\"array\":{\"type\":\"bytes\",\"data\":\"Iou0PScYzj35nhE+I9v5PUa28z3k29s93J/rPSfU8z2fsxU+hh8MPg==\"},\"shape\":[10],\"dtype\":\"float32\",\"order\":\"little\"}],[\"Close\",{\"type\":\"ndarray\",\"array\":{\"type\":\"bytes\",\"data\":\"xVfbPenWKz7MIx8+mQ8IPiALIT5+jQQ+qff0PXlWIj4kYCQ+RBESPg==\"},\"shape\":[10],\"dtype\":\"float32\",\"order\":\"little\"}],[\"Volume\",{\"type\":\"ndarray\",\"array\":{\"type\":\"bytes\",\"data\":\"AICnGwW6R0JmJlqqX3xWQgCAQlQbW05CAABIbQY/SkIAgObFR4VDQgAAOYfQ9UpCAABDNWheOEIAABaGcmdAQgAAia7ArT5CAAAgnP+RJ0I=\"},\"shape\":[10],\"dtype\":\"float64\",\"order\":\"little\"}],[\"_width\",{\"type\":\"ndarray\",\"array\":{\"type\":\"bytes\",\"data\":\"zczMzMzMLUBmZmZmZuY+QGZmZmZm5j5AZmZmZmbmPUBmZmZmZuY+QGZmZmZm5j1AZmZmZmbmPkBmZmZmZuY+QGZmZmZm5jtAzczMzMzMI0A=\"},\"shape\":[10],\"dtype\":\"float64\",\"order\":\"little\"}],[\"inc\",{\"type\":\"ndarray\",\"array\":[\"0\",\"1\",\"0\",\"0\",\"1\",\"0\",\"0\",\"1\",\"1\",\"0\"],\"shape\":[10],\"dtype\":\"object\",\"order\":\"little\"}]]}}},\"view\":{\"type\":\"object\",\"name\":\"CDSView\",\"id\":\"p1236\",\"attributes\":{\"filter\":{\"type\":\"object\",\"name\":\"AllIndices\",\"id\":\"p1237\"}}},\"glyph\":{\"type\":\"object\",\"name\":\"Segment\",\"id\":\"p1232\",\"attributes\":{\"x0\":{\"type\":\"field\",\"field\":\"index\"},\"y0\":{\"type\":\"field\",\"field\":\"High\"},\"x1\":{\"type\":\"field\",\"field\":\"index\"},\"y1\":{\"type\":\"field\",\"field\":\"Low\"},\"line_color\":{\"type\":\"value\",\"value\":\"#bbbbbb\"}}},\"nonselection_glyph\":{\"type\":\"object\",\"name\":\"Segment\",\"id\":\"p1233\",\"attributes\":{\"x0\":{\"type\":\"field\",\"field\":\"index\"},\"y0\":{\"type\":\"field\",\"field\":\"High\"},\"x1\":{\"type\":\"field\",\"field\":\"index\"},\"y1\":{\"type\":\"field\",\"field\":\"Low\"},\"line_color\":{\"type\":\"value\",\"value\":\"#bbbbbb\"},\"line_alpha\":{\"type\":\"value\",\"value\":0.1}}},\"muted_glyph\":{\"type\":\"object\",\"name\":\"Segment\",\"id\":\"p1234\",\"attributes\":{\"x0\":{\"type\":\"field\",\"field\":\"index\"},\"y0\":{\"type\":\"field\",\"field\":\"High\"},\"x1\":{\"type\":\"field\",\"field\":\"index\"},\"y1\":{\"type\":\"field\",\"field\":\"Low\"},\"line_color\":{\"type\":\"value\",\"value\":\"#bbbbbb\"},\"line_alpha\":{\"type\":\"value\",\"value\":0.2}}}}},{\"type\":\"object\",\"name\":\"GlyphRenderer\",\"id\":\"p1245\",\"attributes\":{\"data_source\":{\"id\":\"p1226\"},\"view\":{\"type\":\"object\",\"name\":\"CDSView\",\"id\":\"p1246\",\"attributes\":{\"filter\":{\"type\":\"object\",\"name\":\"AllIndices\",\"id\":\"p1247\"}}},\"glyph\":{\"type\":\"object\",\"name\":\"VBar\",\"id\":\"p1242\",\"attributes\":{\"x\":{\"type\":\"field\",\"field\":\"index\"},\"width\":{\"type\":\"field\",\"field\":\"_width\"},\"bottom\":{\"type\":\"field\",\"field\":\"Close\"},\"top\":{\"type\":\"field\",\"field\":\"Open\"},\"line_color\":{\"type\":\"value\",\"value\":null},\"fill_color\":{\"type\":\"field\",\"field\":\"inc\",\"transform\":{\"type\":\"object\",\"name\":\"CategoricalColorMapper\",\"id\":\"p1238\",\"attributes\":{\"palette\":[\"rgb(255.0, 220.40869565217392, 214.20000000000002)\",\"rgb(214.20000000000005, 254.99999999999997, 214.20000000000005)\"],\"factors\":[\"0\",\"1\"]}}}}},\"nonselection_glyph\":{\"type\":\"object\",\"name\":\"VBar\",\"id\":\"p1243\",\"attributes\":{\"x\":{\"type\":\"field\",\"field\":\"index\"},\"width\":{\"type\":\"field\",\"field\":\"_width\"},\"bottom\":{\"type\":\"field\",\"field\":\"Close\"},\"top\":{\"type\":\"field\",\"field\":\"Open\"},\"line_color\":{\"type\":\"value\",\"value\":null},\"line_alpha\":{\"type\":\"value\",\"value\":0.1},\"fill_color\":{\"type\":\"field\",\"field\":\"inc\",\"transform\":{\"id\":\"p1238\"}},\"fill_alpha\":{\"type\":\"value\",\"value\":0.1},\"hatch_alpha\":{\"type\":\"value\",\"value\":0.1}}},\"muted_glyph\":{\"type\":\"object\",\"name\":\"VBar\",\"id\":\"p1244\",\"attributes\":{\"x\":{\"type\":\"field\",\"field\":\"index\"},\"width\":{\"type\":\"field\",\"field\":\"_width\"},\"bottom\":{\"type\":\"field\",\"field\":\"Close\"},\"top\":{\"type\":\"field\",\"field\":\"Open\"},\"line_color\":{\"type\":\"value\",\"value\":null},\"line_alpha\":{\"type\":\"value\",\"value\":0.2},\"fill_color\":{\"type\":\"field\",\"field\":\"inc\",\"transform\":{\"id\":\"p1238\"}},\"fill_alpha\":{\"type\":\"value\",\"value\":0.2},\"hatch_alpha\":{\"type\":\"value\",\"value\":0.2}}}}},{\"type\":\"object\",\"name\":\"GlyphRenderer\",\"id\":\"p1254\",\"attributes\":{\"data_source\":{\"id\":\"p1031\"},\"view\":{\"type\":\"object\",\"name\":\"CDSView\",\"id\":\"p1255\",\"attributes\":{\"filter\":{\"type\":\"object\",\"name\":\"AllIndices\",\"id\":\"p1256\"}}},\"glyph\":{\"type\":\"object\",\"name\":\"Segment\",\"id\":\"p1251\",\"attributes\":{\"x0\":{\"type\":\"field\",\"field\":\"index\"},\"y0\":{\"type\":\"field\",\"field\":\"High\"},\"x1\":{\"type\":\"field\",\"field\":\"index\"},\"y1\":{\"type\":\"field\",\"field\":\"Low\"}}},\"nonselection_glyph\":{\"type\":\"object\",\"name\":\"Segment\",\"id\":\"p1252\",\"attributes\":{\"x0\":{\"type\":\"field\",\"field\":\"index\"},\"y0\":{\"type\":\"field\",\"field\":\"High\"},\"x1\":{\"type\":\"field\",\"field\":\"index\"},\"y1\":{\"type\":\"field\",\"field\":\"Low\"},\"line_alpha\":{\"type\":\"value\",\"value\":0.1}}},\"muted_glyph\":{\"type\":\"object\",\"name\":\"Segment\",\"id\":\"p1253\",\"attributes\":{\"x0\":{\"type\":\"field\",\"field\":\"index\"},\"y0\":{\"type\":\"field\",\"field\":\"High\"},\"x1\":{\"type\":\"field\",\"field\":\"index\"},\"y1\":{\"type\":\"field\",\"field\":\"Low\"},\"line_alpha\":{\"type\":\"value\",\"value\":0.2}}}}},{\"id\":\"p1263\"},{\"type\":\"object\",\"name\":\"GlyphRenderer\",\"id\":\"p1272\",\"attributes\":{\"data_source\":{\"id\":\"p1034\"},\"view\":{\"type\":\"object\",\"name\":\"CDSView\",\"id\":\"p1273\",\"attributes\":{\"filter\":{\"type\":\"object\",\"name\":\"AllIndices\",\"id\":\"p1274\"}}},\"glyph\":{\"type\":\"object\",\"name\":\"MultiLine\",\"id\":\"p1269\",\"attributes\":{\"xs\":{\"type\":\"field\",\"field\":\"position_lines_xs\"},\"ys\":{\"type\":\"field\",\"field\":\"position_lines_ys\"},\"line_color\":{\"type\":\"field\",\"field\":\"returns_positive\",\"transform\":{\"type\":\"object\",\"name\":\"CategoricalColorMapper\",\"id\":\"p1039\",\"attributes\":{\"palette\":[\"rgb(178.5, 27.163043478260846, 0.0)\",\"rgb(0.0, 178.5, 0.0)\"],\"factors\":[\"0\",\"1\"]}}},\"line_width\":{\"type\":\"value\",\"value\":8},\"line_dash\":{\"type\":\"value\",\"value\":\"dotted\"}}},\"nonselection_glyph\":{\"type\":\"object\",\"name\":\"MultiLine\",\"id\":\"p1270\",\"attributes\":{\"xs\":{\"type\":\"field\",\"field\":\"position_lines_xs\"},\"ys\":{\"type\":\"field\",\"field\":\"position_lines_ys\"},\"line_color\":{\"type\":\"field\",\"field\":\"returns_positive\",\"transform\":{\"id\":\"p1039\"}},\"line_alpha\":{\"type\":\"value\",\"value\":0.1},\"line_width\":{\"type\":\"value\",\"value\":8},\"line_dash\":{\"type\":\"value\",\"value\":\"dotted\"}}},\"muted_glyph\":{\"type\":\"object\",\"name\":\"MultiLine\",\"id\":\"p1271\",\"attributes\":{\"xs\":{\"type\":\"field\",\"field\":\"position_lines_xs\"},\"ys\":{\"type\":\"field\",\"field\":\"position_lines_ys\"},\"line_color\":{\"type\":\"field\",\"field\":\"returns_positive\",\"transform\":{\"id\":\"p1039\"}},\"line_alpha\":{\"type\":\"value\",\"value\":0.2},\"line_width\":{\"type\":\"value\",\"value\":8},\"line_dash\":{\"type\":\"value\",\"value\":\"dotted\"}}}}},{\"type\":\"object\",\"name\":\"GlyphRenderer\",\"id\":\"p1283\",\"attributes\":{\"data_source\":{\"id\":\"p1031\"},\"view\":{\"type\":\"object\",\"name\":\"CDSView\",\"id\":\"p1284\",\"attributes\":{\"filter\":{\"type\":\"object\",\"name\":\"AllIndices\",\"id\":\"p1285\"}}},\"glyph\":{\"type\":\"object\",\"name\":\"Line\",\"id\":\"p1280\",\"attributes\":{\"x\":{\"type\":\"field\",\"field\":\"index\"},\"y\":{\"type\":\"field\",\"field\":\"lb_close_2_1\"},\"line_color\":\"#1f77b4\",\"line_width\":1.3}},\"nonselection_glyph\":{\"type\":\"object\",\"name\":\"Line\",\"id\":\"p1281\",\"attributes\":{\"x\":{\"type\":\"field\",\"field\":\"index\"},\"y\":{\"type\":\"field\",\"field\":\"lb_close_2_1\"},\"line_color\":\"#1f77b4\",\"line_alpha\":0.1,\"line_width\":1.3}},\"muted_glyph\":{\"type\":\"object\",\"name\":\"Line\",\"id\":\"p1282\",\"attributes\":{\"x\":{\"type\":\"field\",\"field\":\"index\"},\"y\":{\"type\":\"field\",\"field\":\"lb_close_2_1\"},\"line_color\":\"#1f77b4\",\"line_alpha\":0.2,\"line_width\":1.3}}}},{\"type\":\"object\",\"name\":\"GlyphRenderer\",\"id\":\"p1293\",\"attributes\":{\"data_source\":{\"id\":\"p1031\"},\"view\":{\"type\":\"object\",\"name\":\"CDSView\",\"id\":\"p1294\",\"attributes\":{\"filter\":{\"type\":\"object\",\"name\":\"AllIndices\",\"id\":\"p1295\"}}},\"glyph\":{\"type\":\"object\",\"name\":\"Line\",\"id\":\"p1290\",\"attributes\":{\"x\":{\"type\":\"field\",\"field\":\"index\"},\"y\":{\"type\":\"field\",\"field\":\"lb_low_3_1\"},\"line_color\":\"#ff7f0e\",\"line_width\":1.3}},\"nonselection_glyph\":{\"type\":\"object\",\"name\":\"Line\",\"id\":\"p1291\",\"attributes\":{\"x\":{\"type\":\"field\",\"field\":\"index\"},\"y\":{\"type\":\"field\",\"field\":\"lb_low_3_1\"},\"line_color\":\"#ff7f0e\",\"line_alpha\":0.1,\"line_width\":1.3}},\"muted_glyph\":{\"type\":\"object\",\"name\":\"Line\",\"id\":\"p1292\",\"attributes\":{\"x\":{\"type\":\"field\",\"field\":\"index\"},\"y\":{\"type\":\"field\",\"field\":\"lb_low_3_1\"},\"line_color\":\"#ff7f0e\",\"line_alpha\":0.2,\"line_width\":1.3}}}}],\"toolbar\":{\"type\":\"object\",\"name\":\"Toolbar\",\"id\":\"p1010\",\"attributes\":{\"tools\":[{\"id\":\"p1023\"},{\"id\":\"p1024\"},{\"id\":\"p1025\"},{\"id\":\"p1027\"},{\"id\":\"p1028\"},{\"id\":\"p1029\"},{\"type\":\"object\",\"name\":\"SaveTool\",\"id\":\"p1030\"},{\"id\":\"p1297\"},{\"id\":\"p1299\"}],\"active_drag\":{\"id\":\"p1023\"},\"active_scroll\":{\"id\":\"p1024\"}}},\"toolbar_location\":null,\"left\":[{\"type\":\"object\",\"name\":\"LinearAxis\",\"id\":\"p1018\",\"attributes\":{\"ticker\":{\"type\":\"object\",\"name\":\"BasicTicker\",\"id\":\"p1019\",\"attributes\":{\"mantissas\":[1,2,5]}},\"formatter\":{\"type\":\"object\",\"name\":\"BasicTickFormatter\",\"id\":\"p1020\"},\"major_label_policy\":{\"type\":\"object\",\"name\":\"AllLabels\",\"id\":\"p1021\"}}}],\"below\":[{\"type\":\"object\",\"name\":\"LinearAxis\",\"id\":\"p1013\",\"attributes\":{\"visible\":false,\"ticker\":{\"type\":\"object\",\"name\":\"BasicTicker\",\"id\":\"p1014\",\"attributes\":{\"mantissas\":[1,2,5]}},\"formatter\":{\"type\":\"object\",\"name\":\"CustomJSTickFormatter\",\"id\":\"p1041\",\"attributes\":{\"args\":{\"type\":\"map\",\"entries\":[[\"axis\",{\"id\":\"p1013\"}],[\"formatter\",{\"type\":\"object\",\"name\":\"DatetimeTickFormatter\",\"id\":\"p1040\",\"attributes\":{\"days\":\"%d %b\"}}],[\"source\",{\"id\":\"p1031\"}]]},\"code\":\"\\nthis.labels = this.labels || formatter.doFormat(ticks\\n                                                .map(i => source.data.datetime[i])\\n                                                .filter(t => t !== undefined));\\nreturn this.labels[index] || \\\"\\\";\\n        \"}},\"major_label_policy\":{\"type\":\"object\",\"name\":\"AllLabels\",\"id\":\"p1016\"}}}],\"center\":[{\"type\":\"object\",\"name\":\"Grid\",\"id\":\"p1017\",\"attributes\":{\"axis\":{\"id\":\"p1013\"}}},{\"type\":\"object\",\"name\":\"Grid\",\"id\":\"p1022\",\"attributes\":{\"dimension\":1,\"axis\":{\"id\":\"p1018\"}}},{\"type\":\"object\",\"name\":\"Legend\",\"id\":\"p1275\",\"attributes\":{\"location\":\"top_left\",\"border_line_color\":\"#333333\",\"click_policy\":\"hide\",\"label_text_font_size\":\"8pt\",\"margin\":0,\"padding\":5,\"spacing\":0,\"items\":[{\"type\":\"object\",\"name\":\"LegendItem\",\"id\":\"p1276\",\"attributes\":{\"label\":{\"type\":\"value\",\"value\":\"Trades (6)\"},\"renderers\":[{\"id\":\"p1272\"}]}},{\"type\":\"object\",\"name\":\"LegendItem\",\"id\":\"p1286\",\"attributes\":{\"label\":{\"type\":\"value\",\"value\":\"lb_close\"},\"renderers\":[{\"id\":\"p1283\"}]}},{\"type\":\"object\",\"name\":\"LegendItem\",\"id\":\"p1296\",\"attributes\":{\"label\":{\"type\":\"value\",\"value\":\"lb_low\"},\"renderers\":[{\"id\":\"p1293\"}]}}]}}],\"min_border_top\":3,\"min_border_bottom\":6,\"min_border_left\":0,\"min_border_right\":10}},2,0],[{\"type\":\"object\",\"name\":\"Figure\",\"id\":\"p1186\",\"attributes\":{\"width\":null,\"height\":90,\"sizing_mode\":\"stretch_width\",\"x_range\":{\"id\":\"p1001\"},\"y_range\":{\"id\":\"p1188\"},\"x_scale\":{\"type\":\"object\",\"name\":\"LinearScale\",\"id\":\"p1195\"},\"y_scale\":{\"type\":\"object\",\"name\":\"LinearScale\",\"id\":\"p1196\"},\"title\":{\"type\":\"object\",\"name\":\"Title\",\"id\":\"p1193\"},\"outline_line_color\":\"#666666\",\"renderers\":[{\"id\":\"p1221\"}],\"toolbar\":{\"type\":\"object\",\"name\":\"Toolbar\",\"id\":\"p1194\",\"attributes\":{\"tools\":[{\"id\":\"p1207\"},{\"id\":\"p1208\"},{\"id\":\"p1209\"},{\"id\":\"p1211\"},{\"id\":\"p1212\"},{\"id\":\"p1213\"},{\"type\":\"object\",\"name\":\"SaveTool\",\"id\":\"p1214\"},{\"id\":\"p1224\"},{\"id\":\"p1299\"}],\"active_drag\":{\"id\":\"p1207\"},\"active_scroll\":{\"id\":\"p1208\"}}},\"toolbar_location\":null,\"left\":[{\"type\":\"object\",\"name\":\"LinearAxis\",\"id\":\"p1202\",\"attributes\":{\"ticker\":{\"type\":\"object\",\"name\":\"BasicTicker\",\"id\":\"p1203\",\"attributes\":{\"mantissas\":[1,2,5]}},\"formatter\":{\"type\":\"object\",\"name\":\"NumeralTickFormatter\",\"id\":\"p1225\",\"attributes\":{\"format\":\"0 a\"}},\"axis_label\":\"Volume\",\"major_label_policy\":{\"type\":\"object\",\"name\":\"AllLabels\",\"id\":\"p1205\"},\"minor_tick_line_color\":null}}],\"below\":[{\"type\":\"object\",\"name\":\"LinearAxis\",\"id\":\"p1197\",\"attributes\":{\"visible\":true,\"ticker\":{\"type\":\"object\",\"name\":\"BasicTicker\",\"id\":\"p1198\",\"attributes\":{\"mantissas\":[1,2,5]}},\"formatter\":{\"id\":\"p1041\"},\"major_label_policy\":{\"type\":\"object\",\"name\":\"AllLabels\",\"id\":\"p1200\"}}}],\"center\":[{\"type\":\"object\",\"name\":\"Grid\",\"id\":\"p1201\",\"attributes\":{\"axis\":{\"id\":\"p1197\"}}},{\"type\":\"object\",\"name\":\"Grid\",\"id\":\"p1206\",\"attributes\":{\"dimension\":1,\"axis\":{\"id\":\"p1202\"}}}],\"min_border_top\":3,\"min_border_bottom\":6,\"min_border_left\":0,\"min_border_right\":10}},3,0]]}}]}};\n",
       "  const render_items = [{\"docid\":\"0db5c639-6918-4d0f-b1ab-14caf80986c1\",\"roots\":{\"p1309\":\"e3bf2eb1-c154-4d59-b075-ee2d56042cbc\"},\"root_ids\":[\"p1309\"]}];\n",
       "  root.Bokeh.embed.embed_items_notebook(docs_json, render_items);\n",
       "  }\n",
       "  if (root.Bokeh !== undefined) {\n",
       "    embed_document(root);\n",
       "  } else {\n",
       "    let attempts = 0;\n",
       "    const timer = setInterval(function(root) {\n",
       "      if (root.Bokeh !== undefined) {\n",
       "        clearInterval(timer);\n",
       "        embed_document(root);\n",
       "      } else {\n",
       "        attempts++;\n",
       "        if (attempts > 100) {\n",
       "          clearInterval(timer);\n",
       "          console.log(\"Bokeh: ERROR: Unable to run BokehJS code because BokehJS library is missing\");\n",
       "        }\n",
       "      }\n",
       "    }, 10, root)\n",
       "  }\n",
       "})(window);"
      ],
      "application/vnd.bokehjs_exec.v0+json": ""
     },
     "metadata": {
      "application/vnd.bokehjs_exec.v0+json": {
       "id": "p1309"
      }
     },
     "output_type": "display_data"
    },
    {
     "data": {
      "text/html": [
       "<div style=\"display: table;\"><div style=\"display: table-row;\"><div style=\"display: table-cell;\"><b title=\"bokeh.models.plots.GridPlot\">GridPlot</b>(</div><div style=\"display: table-cell;\">id&nbsp;=&nbsp;'p1309', <span id=\"p1340\" style=\"cursor: pointer;\">&hellip;)</span></div></div><div class=\"p1339\" style=\"display: none;\"><div style=\"display: table-cell;\"></div><div style=\"display: table-cell;\">align&nbsp;=&nbsp;'auto',</div></div><div class=\"p1339\" style=\"display: none;\"><div style=\"display: table-cell;\"></div><div style=\"display: table-cell;\">aspect_ratio&nbsp;=&nbsp;None,</div></div><div class=\"p1339\" style=\"display: none;\"><div style=\"display: table-cell;\"></div><div style=\"display: table-cell;\">children&nbsp;=&nbsp;[(figure(id='p1042', ...), 0, 0), (figure(id='p1135', ...), 1, 0), (figure(id='p1002', ...), 2, 0), (figure(id='p1186', ...), 3, 0)],</div></div><div class=\"p1339\" style=\"display: none;\"><div style=\"display: table-cell;\"></div><div style=\"display: table-cell;\">cols&nbsp;=&nbsp;None,</div></div><div class=\"p1339\" style=\"display: none;\"><div style=\"display: table-cell;\"></div><div style=\"display: table-cell;\">context_menu&nbsp;=&nbsp;None,</div></div><div class=\"p1339\" style=\"display: none;\"><div style=\"display: table-cell;\"></div><div style=\"display: table-cell;\">css_classes&nbsp;=&nbsp;[],</div></div><div class=\"p1339\" style=\"display: none;\"><div style=\"display: table-cell;\"></div><div style=\"display: table-cell;\">disabled&nbsp;=&nbsp;False,</div></div><div class=\"p1339\" style=\"display: none;\"><div style=\"display: table-cell;\"></div><div style=\"display: table-cell;\">flow_mode&nbsp;=&nbsp;'block',</div></div><div class=\"p1339\" style=\"display: none;\"><div style=\"display: table-cell;\"></div><div style=\"display: table-cell;\">height&nbsp;=&nbsp;None,</div></div><div class=\"p1339\" style=\"display: none;\"><div style=\"display: table-cell;\"></div><div style=\"display: table-cell;\">height_policy&nbsp;=&nbsp;'auto',</div></div><div class=\"p1339\" style=\"display: none;\"><div style=\"display: table-cell;\"></div><div style=\"display: table-cell;\">js_event_callbacks&nbsp;=&nbsp;{},</div></div><div class=\"p1339\" style=\"display: none;\"><div style=\"display: table-cell;\"></div><div style=\"display: table-cell;\">js_property_callbacks&nbsp;=&nbsp;{},</div></div><div class=\"p1339\" style=\"display: none;\"><div style=\"display: table-cell;\"></div><div style=\"display: table-cell;\">margin&nbsp;=&nbsp;None,</div></div><div class=\"p1339\" style=\"display: none;\"><div style=\"display: table-cell;\"></div><div style=\"display: table-cell;\">max_height&nbsp;=&nbsp;None,</div></div><div class=\"p1339\" style=\"display: none;\"><div style=\"display: table-cell;\"></div><div style=\"display: table-cell;\">max_width&nbsp;=&nbsp;None,</div></div><div class=\"p1339\" style=\"display: none;\"><div style=\"display: table-cell;\"></div><div style=\"display: table-cell;\">min_height&nbsp;=&nbsp;None,</div></div><div class=\"p1339\" style=\"display: none;\"><div style=\"display: table-cell;\"></div><div style=\"display: table-cell;\">min_width&nbsp;=&nbsp;None,</div></div><div class=\"p1339\" style=\"display: none;\"><div style=\"display: table-cell;\"></div><div style=\"display: table-cell;\">name&nbsp;=&nbsp;None,</div></div><div class=\"p1339\" style=\"display: none;\"><div style=\"display: table-cell;\"></div><div style=\"display: table-cell;\">resizable&nbsp;=&nbsp;False,</div></div><div class=\"p1339\" style=\"display: none;\"><div style=\"display: table-cell;\"></div><div style=\"display: table-cell;\">rows&nbsp;=&nbsp;None,</div></div><div class=\"p1339\" style=\"display: none;\"><div style=\"display: table-cell;\"></div><div style=\"display: table-cell;\">sizing_mode&nbsp;=&nbsp;'stretch_width',</div></div><div class=\"p1339\" style=\"display: none;\"><div style=\"display: table-cell;\"></div><div style=\"display: table-cell;\">spacing&nbsp;=&nbsp;0,</div></div><div class=\"p1339\" style=\"display: none;\"><div style=\"display: table-cell;\"></div><div style=\"display: table-cell;\">styles&nbsp;=&nbsp;{},</div></div><div class=\"p1339\" style=\"display: none;\"><div style=\"display: table-cell;\"></div><div style=\"display: table-cell;\">stylesheets&nbsp;=&nbsp;[],</div></div><div class=\"p1339\" style=\"display: none;\"><div style=\"display: table-cell;\"></div><div style=\"display: table-cell;\">subscribed_events&nbsp;=&nbsp;PropertyValueSet(),</div></div><div class=\"p1339\" style=\"display: none;\"><div style=\"display: table-cell;\"></div><div style=\"display: table-cell;\">syncable&nbsp;=&nbsp;True,</div></div><div class=\"p1339\" style=\"display: none;\"><div style=\"display: table-cell;\"></div><div style=\"display: table-cell;\">tags&nbsp;=&nbsp;[],</div></div><div class=\"p1339\" style=\"display: none;\"><div style=\"display: table-cell;\"></div><div style=\"display: table-cell;\">toolbar&nbsp;=&nbsp;Toolbar(id='p1308', ...),</div></div><div class=\"p1339\" style=\"display: none;\"><div style=\"display: table-cell;\"></div><div style=\"display: table-cell;\">toolbar_location&nbsp;=&nbsp;'right',</div></div><div class=\"p1339\" style=\"display: none;\"><div style=\"display: table-cell;\"></div><div style=\"display: table-cell;\">visible&nbsp;=&nbsp;True,</div></div><div class=\"p1339\" style=\"display: none;\"><div style=\"display: table-cell;\"></div><div style=\"display: table-cell;\">width&nbsp;=&nbsp;None,</div></div><div class=\"p1339\" style=\"display: none;\"><div style=\"display: table-cell;\"></div><div style=\"display: table-cell;\">width_policy&nbsp;=&nbsp;'auto')</div></div></div>\n",
       "<script>\n",
       "(function() {\n",
       "  let expanded = false;\n",
       "  const ellipsis = document.getElementById(\"p1340\");\n",
       "  ellipsis.addEventListener(\"click\", function() {\n",
       "    const rows = document.getElementsByClassName(\"p1339\");\n",
       "    for (let i = 0; i < rows.length; i++) {\n",
       "      const el = rows[i];\n",
       "      el.style.display = expanded ? \"none\" : \"table-row\";\n",
       "    }\n",
       "    ellipsis.innerHTML = expanded ? \"&hellip;)\" : \"&lsaquo;&lsaquo;&lsaquo;\";\n",
       "    expanded = !expanded;\n",
       "  });\n",
       "})();\n",
       "</script>\n"
      ],
      "text/plain": [
       "GridPlot(id='p1309', ...)"
      ]
     },
     "execution_count": 17,
     "metadata": {},
     "output_type": "execute_result"
    }
   ],
   "source": [
    "bt.plot()"
   ]
  },
  {
   "cell_type": "code",
   "execution_count": 18,
   "id": "057493c7-d81f-47ea-95bb-bfd13904b150",
   "metadata": {},
   "outputs": [],
   "source": [
    "#from backtesting.lib import plot_heatmaps\n",
    "#plot_heatmaps(heatmap)"
   ]
  },
  {
   "cell_type": "code",
   "execution_count": 19,
   "id": "d68db302-64d0-4048-a74d-76d2232ee5da",
   "metadata": {},
   "outputs": [
    {
     "data": {
      "text/html": [
       "<div>\n",
       "<style scoped>\n",
       "    .dataframe tbody tr th:only-of-type {\n",
       "        vertical-align: middle;\n",
       "    }\n",
       "\n",
       "    .dataframe tbody tr th {\n",
       "        vertical-align: top;\n",
       "    }\n",
       "\n",
       "    .dataframe thead th {\n",
       "        text-align: right;\n",
       "    }\n",
       "</style>\n",
       "<table border=\"1\" class=\"dataframe\">\n",
       "  <thead>\n",
       "    <tr style=\"text-align: right;\">\n",
       "      <th></th>\n",
       "      <th>band_length</th>\n",
       "      <th>band_mult</th>\n",
       "      <th>band_low_pct</th>\n",
       "      <th>minimal_benefit_to_start_trailing</th>\n",
       "      <th>reinvest</th>\n",
       "      <th>dca_budget</th>\n",
       "      <th>buy_all_days</th>\n",
       "      <th>lr_buy_longitude</th>\n",
       "      <th>Return [%]</th>\n",
       "    </tr>\n",
       "  </thead>\n",
       "  <tbody>\n",
       "    <tr>\n",
       "      <th>906</th>\n",
       "      <td>11</td>\n",
       "      <td>1</td>\n",
       "      <td>2.887877</td>\n",
       "      <td>1.003</td>\n",
       "      <td>2</td>\n",
       "      <td>1000</td>\n",
       "      <td>0</td>\n",
       "      <td>6</td>\n",
       "      <td>81.842143</td>\n",
       "    </tr>\n",
       "    <tr>\n",
       "      <th>112</th>\n",
       "      <td>3</td>\n",
       "      <td>1</td>\n",
       "      <td>2.887877</td>\n",
       "      <td>1.003</td>\n",
       "      <td>2</td>\n",
       "      <td>1000</td>\n",
       "      <td>0</td>\n",
       "      <td>4</td>\n",
       "      <td>77.327183</td>\n",
       "    </tr>\n",
       "    <tr>\n",
       "      <th>1170</th>\n",
       "      <td>13</td>\n",
       "      <td>1</td>\n",
       "      <td>2.887877</td>\n",
       "      <td>1.003</td>\n",
       "      <td>2</td>\n",
       "      <td>1000</td>\n",
       "      <td>0</td>\n",
       "      <td>6</td>\n",
       "      <td>72.240659</td>\n",
       "    </tr>\n",
       "    <tr>\n",
       "      <th>486</th>\n",
       "      <td>5</td>\n",
       "      <td>2</td>\n",
       "      <td>2.887877</td>\n",
       "      <td>1.003</td>\n",
       "      <td>2</td>\n",
       "      <td>500</td>\n",
       "      <td>0</td>\n",
       "      <td>4</td>\n",
       "      <td>68.322247</td>\n",
       "    </tr>\n",
       "    <tr>\n",
       "      <th>1021</th>\n",
       "      <td>11</td>\n",
       "      <td>2</td>\n",
       "      <td>2.887877</td>\n",
       "      <td>1.003</td>\n",
       "      <td>2</td>\n",
       "      <td>500</td>\n",
       "      <td>0</td>\n",
       "      <td>11</td>\n",
       "      <td>67.230478</td>\n",
       "    </tr>\n",
       "    <tr>\n",
       "      <th>...</th>\n",
       "      <td>...</td>\n",
       "      <td>...</td>\n",
       "      <td>...</td>\n",
       "      <td>...</td>\n",
       "      <td>...</td>\n",
       "      <td>...</td>\n",
       "      <td>...</td>\n",
       "      <td>...</td>\n",
       "      <td>...</td>\n",
       "    </tr>\n",
       "    <tr>\n",
       "      <th>1732</th>\n",
       "      <td>34</td>\n",
       "      <td>2</td>\n",
       "      <td>2.887877</td>\n",
       "      <td>1.003</td>\n",
       "      <td>2</td>\n",
       "      <td>50</td>\n",
       "      <td>1</td>\n",
       "      <td>7</td>\n",
       "      <td>-16.299647</td>\n",
       "    </tr>\n",
       "    <tr>\n",
       "      <th>1731</th>\n",
       "      <td>34</td>\n",
       "      <td>2</td>\n",
       "      <td>2.887877</td>\n",
       "      <td>1.003</td>\n",
       "      <td>2</td>\n",
       "      <td>50</td>\n",
       "      <td>1</td>\n",
       "      <td>6</td>\n",
       "      <td>-16.812588</td>\n",
       "    </tr>\n",
       "    <tr>\n",
       "      <th>1730</th>\n",
       "      <td>34</td>\n",
       "      <td>2</td>\n",
       "      <td>2.887877</td>\n",
       "      <td>1.003</td>\n",
       "      <td>2</td>\n",
       "      <td>50</td>\n",
       "      <td>1</td>\n",
       "      <td>5</td>\n",
       "      <td>-16.852360</td>\n",
       "    </tr>\n",
       "    <tr>\n",
       "      <th>1809</th>\n",
       "      <td>34</td>\n",
       "      <td>2</td>\n",
       "      <td>2.887877</td>\n",
       "      <td>1.003</td>\n",
       "      <td>2</td>\n",
       "      <td>500</td>\n",
       "      <td>0</td>\n",
       "      <td>7</td>\n",
       "      <td>-19.400989</td>\n",
       "    </tr>\n",
       "    <tr>\n",
       "      <th>1677</th>\n",
       "      <td>34</td>\n",
       "      <td>1</td>\n",
       "      <td>2.887877</td>\n",
       "      <td>1.003</td>\n",
       "      <td>2</td>\n",
       "      <td>500</td>\n",
       "      <td>0</td>\n",
       "      <td>7</td>\n",
       "      <td>-19.400989</td>\n",
       "    </tr>\n",
       "  </tbody>\n",
       "</table>\n",
       "<p>1848 rows × 9 columns</p>\n",
       "</div>"
      ],
      "text/plain": [
       "      band_length  band_mult  band_low_pct  minimal_benefit_to_start_trailing  \\\n",
       "906            11          1      2.887877                              1.003   \n",
       "112             3          1      2.887877                              1.003   \n",
       "1170           13          1      2.887877                              1.003   \n",
       "486             5          2      2.887877                              1.003   \n",
       "1021           11          2      2.887877                              1.003   \n",
       "...           ...        ...           ...                                ...   \n",
       "1732           34          2      2.887877                              1.003   \n",
       "1731           34          2      2.887877                              1.003   \n",
       "1730           34          2      2.887877                              1.003   \n",
       "1809           34          2      2.887877                              1.003   \n",
       "1677           34          1      2.887877                              1.003   \n",
       "\n",
       "      reinvest  dca_budget  buy_all_days  lr_buy_longitude  Return [%]  \n",
       "906          2        1000             0                 6   81.842143  \n",
       "112          2        1000             0                 4   77.327183  \n",
       "1170         2        1000             0                 6   72.240659  \n",
       "486          2         500             0                 4   68.322247  \n",
       "1021         2         500             0                11   67.230478  \n",
       "...        ...         ...           ...               ...         ...  \n",
       "1732         2          50             1                 7  -16.299647  \n",
       "1731         2          50             1                 6  -16.812588  \n",
       "1730         2          50             1                 5  -16.852360  \n",
       "1809         2         500             0                 7  -19.400989  \n",
       "1677         2         500             0                 7  -19.400989  \n",
       "\n",
       "[1848 rows x 9 columns]"
      ]
     },
     "execution_count": 19,
     "metadata": {},
     "output_type": "execute_result"
    }
   ],
   "source": [
    "if not(heatmap is None):\n",
    "    heatmap_df = process_heatmap(heatmap)\n",
    "else:\n",
    "    heatmap_df = pd.DataFrame()\n",
    "\n",
    "heatmap_df"
   ]
  },
  {
   "cell_type": "markdown",
   "id": "8bc92648-e897-425f-b812-dcf75a5a4cb1",
   "metadata": {},
   "source": [
    "# Write results"
   ]
  },
  {
   "cell_type": "code",
   "execution_count": 20,
   "id": "96d741c5-108e-43de-be4d-18bbb3068c04",
   "metadata": {},
   "outputs": [],
   "source": [
    "base_results_dir = 'results'"
   ]
  },
  {
   "cell_type": "code",
   "execution_count": 21,
   "id": "164cf63c-0097-49d1-993f-3bb7aeaae7d3",
   "metadata": {},
   "outputs": [],
   "source": [
    "srt_strategy_configuration = str(stats._strategy)\n",
    "str_strategy_name = srt_strategy_configuration[:srt_strategy_configuration.find(\"(\")]\n",
    "parameters = srt_strategy_configuration[srt_strategy_configuration.find(\"(\") + 1:-1]"
   ]
  },
  {
   "cell_type": "code",
   "execution_count": 22,
   "id": "c1703dba-14cd-48ff-be5f-4bd6f5d8797b",
   "metadata": {},
   "outputs": [
    {
     "data": {
      "text/plain": [
       "'results/DCA_Conditional_Buy_LR_with_TrailingStop/2024-02-04/Range/Binance_ETH-USDT_1d_2022-06-16_2023-03-10_2024-02-04_1951'"
      ]
     },
     "execution_count": 22,
     "metadata": {},
     "output_type": "execute_result"
    }
   ],
   "source": [
    "directory = base_results_dir + '/' + str_strategy_name + '/' + expariment_date + '/' + experiment_nickname + '/' + base_experiment_name\n",
    "directory"
   ]
  },
  {
   "cell_type": "code",
   "execution_count": 23,
   "id": "033b0cf0-16c2-42de-b24b-ea6c9b435ad8",
   "metadata": {},
   "outputs": [],
   "source": [
    "if not os.path.exists(directory):\n",
    "    os.makedirs(directory)"
   ]
  },
  {
   "cell_type": "code",
   "execution_count": 24,
   "id": "81ef270c-efe0-4e89-a2fa-9d663a736add",
   "metadata": {},
   "outputs": [
    {
     "name": "stderr",
     "output_type": "stream",
     "text": [
      "BokehDeprecationWarning: Passing lists of formats for DatetimeTickFormatter scales was deprecated in Bokeh 3.0. Configure a single string format for each scale\n",
      "BokehDeprecationWarning: Passing lists of formats for DatetimeTickFormatter scales was deprecated in Bokeh 3.0. Configure a single string format for each scale\n"
     ]
    },
    {
     "data": {
      "text/html": [
       "<div style=\"display: table;\"><div style=\"display: table-row;\"><div style=\"display: table-cell;\"><b title=\"bokeh.models.plots.GridPlot\">GridPlot</b>(</div><div style=\"display: table-cell;\">id&nbsp;=&nbsp;'p1649', <span id=\"p1681\" style=\"cursor: pointer;\">&hellip;)</span></div></div><div class=\"p1680\" style=\"display: none;\"><div style=\"display: table-cell;\"></div><div style=\"display: table-cell;\">align&nbsp;=&nbsp;'auto',</div></div><div class=\"p1680\" style=\"display: none;\"><div style=\"display: table-cell;\"></div><div style=\"display: table-cell;\">aspect_ratio&nbsp;=&nbsp;None,</div></div><div class=\"p1680\" style=\"display: none;\"><div style=\"display: table-cell;\"></div><div style=\"display: table-cell;\">children&nbsp;=&nbsp;[(figure(id='p1382', ...), 0, 0), (figure(id='p1475', ...), 1, 0), (figure(id='p1342', ...), 2, 0), (figure(id='p1526', ...), 3, 0)],</div></div><div class=\"p1680\" style=\"display: none;\"><div style=\"display: table-cell;\"></div><div style=\"display: table-cell;\">cols&nbsp;=&nbsp;None,</div></div><div class=\"p1680\" style=\"display: none;\"><div style=\"display: table-cell;\"></div><div style=\"display: table-cell;\">context_menu&nbsp;=&nbsp;None,</div></div><div class=\"p1680\" style=\"display: none;\"><div style=\"display: table-cell;\"></div><div style=\"display: table-cell;\">css_classes&nbsp;=&nbsp;[],</div></div><div class=\"p1680\" style=\"display: none;\"><div style=\"display: table-cell;\"></div><div style=\"display: table-cell;\">disabled&nbsp;=&nbsp;False,</div></div><div class=\"p1680\" style=\"display: none;\"><div style=\"display: table-cell;\"></div><div style=\"display: table-cell;\">flow_mode&nbsp;=&nbsp;'block',</div></div><div class=\"p1680\" style=\"display: none;\"><div style=\"display: table-cell;\"></div><div style=\"display: table-cell;\">height&nbsp;=&nbsp;None,</div></div><div class=\"p1680\" style=\"display: none;\"><div style=\"display: table-cell;\"></div><div style=\"display: table-cell;\">height_policy&nbsp;=&nbsp;'auto',</div></div><div class=\"p1680\" style=\"display: none;\"><div style=\"display: table-cell;\"></div><div style=\"display: table-cell;\">js_event_callbacks&nbsp;=&nbsp;{},</div></div><div class=\"p1680\" style=\"display: none;\"><div style=\"display: table-cell;\"></div><div style=\"display: table-cell;\">js_property_callbacks&nbsp;=&nbsp;{},</div></div><div class=\"p1680\" style=\"display: none;\"><div style=\"display: table-cell;\"></div><div style=\"display: table-cell;\">margin&nbsp;=&nbsp;None,</div></div><div class=\"p1680\" style=\"display: none;\"><div style=\"display: table-cell;\"></div><div style=\"display: table-cell;\">max_height&nbsp;=&nbsp;None,</div></div><div class=\"p1680\" style=\"display: none;\"><div style=\"display: table-cell;\"></div><div style=\"display: table-cell;\">max_width&nbsp;=&nbsp;None,</div></div><div class=\"p1680\" style=\"display: none;\"><div style=\"display: table-cell;\"></div><div style=\"display: table-cell;\">min_height&nbsp;=&nbsp;None,</div></div><div class=\"p1680\" style=\"display: none;\"><div style=\"display: table-cell;\"></div><div style=\"display: table-cell;\">min_width&nbsp;=&nbsp;None,</div></div><div class=\"p1680\" style=\"display: none;\"><div style=\"display: table-cell;\"></div><div style=\"display: table-cell;\">name&nbsp;=&nbsp;None,</div></div><div class=\"p1680\" style=\"display: none;\"><div style=\"display: table-cell;\"></div><div style=\"display: table-cell;\">resizable&nbsp;=&nbsp;False,</div></div><div class=\"p1680\" style=\"display: none;\"><div style=\"display: table-cell;\"></div><div style=\"display: table-cell;\">rows&nbsp;=&nbsp;None,</div></div><div class=\"p1680\" style=\"display: none;\"><div style=\"display: table-cell;\"></div><div style=\"display: table-cell;\">sizing_mode&nbsp;=&nbsp;'stretch_width',</div></div><div class=\"p1680\" style=\"display: none;\"><div style=\"display: table-cell;\"></div><div style=\"display: table-cell;\">spacing&nbsp;=&nbsp;0,</div></div><div class=\"p1680\" style=\"display: none;\"><div style=\"display: table-cell;\"></div><div style=\"display: table-cell;\">styles&nbsp;=&nbsp;{},</div></div><div class=\"p1680\" style=\"display: none;\"><div style=\"display: table-cell;\"></div><div style=\"display: table-cell;\">stylesheets&nbsp;=&nbsp;[],</div></div><div class=\"p1680\" style=\"display: none;\"><div style=\"display: table-cell;\"></div><div style=\"display: table-cell;\">subscribed_events&nbsp;=&nbsp;PropertyValueSet(),</div></div><div class=\"p1680\" style=\"display: none;\"><div style=\"display: table-cell;\"></div><div style=\"display: table-cell;\">syncable&nbsp;=&nbsp;True,</div></div><div class=\"p1680\" style=\"display: none;\"><div style=\"display: table-cell;\"></div><div style=\"display: table-cell;\">tags&nbsp;=&nbsp;[],</div></div><div class=\"p1680\" style=\"display: none;\"><div style=\"display: table-cell;\"></div><div style=\"display: table-cell;\">toolbar&nbsp;=&nbsp;Toolbar(id='p1648', ...),</div></div><div class=\"p1680\" style=\"display: none;\"><div style=\"display: table-cell;\"></div><div style=\"display: table-cell;\">toolbar_location&nbsp;=&nbsp;'right',</div></div><div class=\"p1680\" style=\"display: none;\"><div style=\"display: table-cell;\"></div><div style=\"display: table-cell;\">visible&nbsp;=&nbsp;True,</div></div><div class=\"p1680\" style=\"display: none;\"><div style=\"display: table-cell;\"></div><div style=\"display: table-cell;\">width&nbsp;=&nbsp;None,</div></div><div class=\"p1680\" style=\"display: none;\"><div style=\"display: table-cell;\"></div><div style=\"display: table-cell;\">width_policy&nbsp;=&nbsp;'auto')</div></div></div>\n",
       "<script>\n",
       "(function() {\n",
       "  let expanded = false;\n",
       "  const ellipsis = document.getElementById(\"p1681\");\n",
       "  ellipsis.addEventListener(\"click\", function() {\n",
       "    const rows = document.getElementsByClassName(\"p1680\");\n",
       "    for (let i = 0; i < rows.length; i++) {\n",
       "      const el = rows[i];\n",
       "      el.style.display = expanded ? \"none\" : \"table-row\";\n",
       "    }\n",
       "    ellipsis.innerHTML = expanded ? \"&hellip;)\" : \"&lsaquo;&lsaquo;&lsaquo;\";\n",
       "    expanded = !expanded;\n",
       "  });\n",
       "})();\n",
       "</script>\n"
      ],
      "text/plain": [
       "GridPlot(id='p1649', ...)"
      ]
     },
     "execution_count": 24,
     "metadata": {},
     "output_type": "execute_result"
    }
   ],
   "source": [
    "bt.plot(filename=directory+'/bt_interactive_plot.html')"
   ]
  },
  {
   "cell_type": "code",
   "execution_count": 25,
   "id": "dc0c9549-1311-41a3-960c-71bf8b3b1850",
   "metadata": {},
   "outputs": [],
   "source": [
    "file_name = directory + \"/heatmap_df\"   \n",
    "\n",
    "with pd.ExcelWriter(file_name + \".xlsx\", engine='xlsxwriter') as writer:\n",
    "    heatmap_df.to_excel(writer, index=False)\n",
    "heatmap_df.to_markdown(file_name + \".md\")\n",
    "\n",
    "file_name = directory + \"/trades\"   \n",
    "\n",
    "with pd.ExcelWriter(file_name + \".xlsx\", engine='xlsxwriter') as writer:\n",
    "    stats._trades.to_excel(writer, index=False)\n",
    "stats._trades.to_markdown(file_name + \".md\")\n",
    "\n",
    "file_name = directory + \"/equity_curve\"   \n",
    "\n",
    "with pd.ExcelWriter(file_name + \".xlsx\", engine='xlsxwriter') as writer:\n",
    "    stats._equity_curve.to_excel(writer, index=False)\n",
    "stats._equity_curve.to_markdown(file_name + \".md\")   "
   ]
  },
  {
   "cell_type": "code",
   "execution_count": 26,
   "id": "91928a7e-1f69-4ed9-ac19-94887e88b562",
   "metadata": {},
   "outputs": [],
   "source": [
    "str_stats = str(stats)"
   ]
  },
  {
   "cell_type": "code",
   "execution_count": 27,
   "id": "8e010852-281c-47a0-876c-66e70bd8bfa4",
   "metadata": {},
   "outputs": [],
   "source": [
    "heatmap_md = heatmap_df[0:10].to_markdown()"
   ]
  },
  {
   "cell_type": "code",
   "execution_count": 28,
   "id": "3f07fec7-31cd-46ad-bffb-8a0e79e5e1a9",
   "metadata": {},
   "outputs": [],
   "source": [
    "strat_return = stats['Return [%]']\n",
    "buy_and_hold = stats['Buy & Hold Return [%]']\n",
    "equity_init = stats._equity_curve[0:1]['Equity'].iloc[0]\n",
    "equity_final = stats['Equity Final [$]']"
   ]
  },
  {
   "cell_type": "code",
   "execution_count": 29,
   "id": "8b8c260c-e498-4d10-8b09-a7144101a01d",
   "metadata": {},
   "outputs": [
    {
     "name": "stdout",
     "output_type": "stream",
     "text": [
      "Wrote: results/DCA_Conditional_Buy_LR_with_TrailingStop/2024-02-04/Range/Binance_ETH-USDT_1d_2022-06-16_2023-03-10_2024-02-04_1951/index.md\n"
     ]
    }
   ],
   "source": [
    "jinja2_templates_dir = 'templates'\n",
    "jinja2_template_file = 'single_result.md'\n",
    "\n",
    "# write results\n",
    "filename = f\"{directory}/index.md\"\n",
    "environment = jinja2.Environment(loader=jinja2.FileSystemLoader(jinja2_templates_dir))\n",
    "template = environment.get_template(jinja2_template_file)\n",
    "rendered = template.render(str_strategy_name=str_strategy_name, experiment_nickname= experiment_nickname,\n",
    "                           timestamp=timestamp,\n",
    "                           symbol=symbol, exchange=exchange, \n",
    "                           start_date=start_date, end_date=end_date, timeframe=timeframe,\n",
    "                           str_stats=str_stats, \n",
    "                           heatmap_md=heatmap_md, parameters=parameters.split(','), \n",
    "                           strat_return=strat_return, buy_and_hold=buy_and_hold, \n",
    "                           equity_init=equity_init,\n",
    "                           equity_final=equity_final,duration=duration)\n",
    "\n",
    "with open(filename, mode=\"w\", encoding=\"utf-8\") as message:\n",
    "    message.write(rendered)\n",
    "    print(f\"Wrote: {filename}\")"
   ]
  }
 ],
 "metadata": {
  "kernelspec": {
   "display_name": "Python 3 (ipykernel)",
   "language": "python",
   "name": "python3"
  },
  "language_info": {
   "codemirror_mode": {
    "name": "ipython",
    "version": 3
   },
   "file_extension": ".py",
   "mimetype": "text/x-python",
   "name": "python",
   "nbconvert_exporter": "python",
   "pygments_lexer": "ipython3",
   "version": "3.10.6"
  }
 },
 "nbformat": 4,
 "nbformat_minor": 5
}

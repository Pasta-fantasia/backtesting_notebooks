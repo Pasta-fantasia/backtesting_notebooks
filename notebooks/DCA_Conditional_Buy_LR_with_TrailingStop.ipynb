{
 "cells": [
  {
   "cell_type": "markdown",
   "id": "64f0e7bc-55d5-4791-ac06-9d3a6ac6dac3",
   "metadata": {},
   "source": [
    "# imports ..."
   ]
  },
  {
   "cell_type": "code",
   "execution_count": 1,
   "id": "eebf55c3-e284-48d7-b686-f1cdf0ced00a",
   "metadata": {},
   "outputs": [],
   "source": [
    "import warnings\n",
    "warnings.simplefilter(action='ignore', category=FutureWarning)\n",
    "warnings.filterwarnings('ignore')\n"
   ]
  },
  {
   "cell_type": "code",
   "execution_count": 2,
   "id": "592a2af3-5918-4bb8-8f71-3a07e39d83b7",
   "metadata": {},
   "outputs": [
    {
     "data": {
      "text/html": [
       "<style>\n",
       "        .bk-notebook-logo {\n",
       "            display: block;\n",
       "            width: 20px;\n",
       "            height: 20px;\n",
       "            background-image: url(data:image/png;base64,iVBORw0KGgoAAAANSUhEUgAAABQAAAAUCAYAAACNiR0NAAAABHNCSVQICAgIfAhkiAAAAAlwSFlzAAALEgAACxIB0t1+/AAAABx0RVh0U29mdHdhcmUAQWRvYmUgRmlyZXdvcmtzIENTNui8sowAAAOkSURBVDiNjZRtaJVlGMd/1/08zzln5zjP1LWcU9N0NkN8m2CYjpgQYQXqSs0I84OLIC0hkEKoPtiH3gmKoiJDU7QpLgoLjLIQCpEsNJ1vqUOdO7ppbuec5+V+rj4ctwzd8IIbbi6u+8f1539dt3A78eXC7QizUF7gyV1fD1Yqg4JWz84yffhm0qkFqBogB9rM8tZdtwVsPUhWhGcFJngGeWrPzHm5oaMmkfEg1usvLFyc8jLRqDOMru7AyC8saQr7GG7f5fvDeH7Ej8CM66nIF+8yngt6HWaKh7k49Soy9nXurCi1o3qUbS3zWfrYeQDTB/Qj6kX6Ybhw4B+bOYoLKCC9H3Nu/leUTZ1JdRWkkn2ldcCamzrcf47KKXdAJllSlxAOkRgyHsGC/zRday5Qld9DyoM4/q/rUoy/CXh3jzOu3bHUVZeU+DEn8FInkPBFlu3+nW3Nw0mk6vCDiWg8CeJaxEwuHS3+z5RgY+YBR6V1Z1nxSOfoaPa4LASWxxdNp+VWTk7+4vzaou8v8PN+xo+KY2xsw6une2frhw05CTYOmQvsEhjhWjn0bmXPjpE1+kplmmkP3suftwTubK9Vq22qKmrBhpY4jvd5afdRA3wGjFAgcnTK2s4hY0/GPNIb0nErGMCRxWOOX64Z8RAC4oCXdklmEvcL8o0BfkNK4lUg9HTl+oPlQxdNo3Mg4Nv175e/1LDGzZen30MEjRUtmXSfiTVu1kK8W4txyV6BMKlbgk3lMwYCiusNy9fVfvvwMxv8Ynl6vxoByANLTWplvuj/nF9m2+PDtt1eiHPBr1oIfhCChQMBw6Aw0UulqTKZdfVvfG7VcfIqLG9bcldL/+pdWTLxLUy8Qq38heUIjh4XlzZxzQm19lLFlr8vdQ97rjZVOLf8nclzckbcD4wxXMidpX30sFd37Fv/GtwwhzhxGVAprjbg0gCAEeIgwCZyTV2Z1REEW8O4py0wsjeloKoMr6iCY6dP92H6Vw/oTyICIthibxjm/DfN9lVz8IqtqKYLUXfoKVMVQVVJOElGjrnnUt9T9wbgp8AyYKaGlqingHZU/uG2NTZSVqwHQTWkx9hxjkpWDaCg6Ckj5qebgBVbT3V3NNXMSiWSDdGV3hrtzla7J+duwPOToIg42ChPQOQjspnSlp1V+Gjdged7+8UN5CRAV7a5EdFNwCjEaBR27b3W890TE7g24NAP/mMDXRWrGoFPQI9ls/MWO2dWFAar/xcOIImbbpA3zgAAAABJRU5ErkJggg==);\n",
       "        }\n",
       "    </style>\n",
       "    <div>\n",
       "        <a href=\"https://bokeh.org\" target=\"_blank\" class=\"bk-notebook-logo\"></a>\n",
       "        <span id=\"fcc5328b-a1d1-4d55-8281-26d55fa255a1\">Loading BokehJS ...</span>\n",
       "    </div>\n"
      ]
     },
     "metadata": {},
     "output_type": "display_data"
    },
    {
     "data": {
      "application/javascript": [
       "(function(root) {\n",
       "  function now() {\n",
       "    return new Date();\n",
       "  }\n",
       "\n",
       "  const force = true;\n",
       "\n",
       "  if (typeof root._bokeh_onload_callbacks === \"undefined\" || force === true) {\n",
       "    root._bokeh_onload_callbacks = [];\n",
       "    root._bokeh_is_loading = undefined;\n",
       "  }\n",
       "\n",
       "const JS_MIME_TYPE = 'application/javascript';\n",
       "  const HTML_MIME_TYPE = 'text/html';\n",
       "  const EXEC_MIME_TYPE = 'application/vnd.bokehjs_exec.v0+json';\n",
       "  const CLASS_NAME = 'output_bokeh rendered_html';\n",
       "\n",
       "  /**\n",
       "   * Render data to the DOM node\n",
       "   */\n",
       "  function render(props, node) {\n",
       "    const script = document.createElement(\"script\");\n",
       "    node.appendChild(script);\n",
       "  }\n",
       "\n",
       "  /**\n",
       "   * Handle when an output is cleared or removed\n",
       "   */\n",
       "  function handleClearOutput(event, handle) {\n",
       "    const cell = handle.cell;\n",
       "\n",
       "    const id = cell.output_area._bokeh_element_id;\n",
       "    const server_id = cell.output_area._bokeh_server_id;\n",
       "    // Clean up Bokeh references\n",
       "    if (id != null && id in Bokeh.index) {\n",
       "      Bokeh.index[id].model.document.clear();\n",
       "      delete Bokeh.index[id];\n",
       "    }\n",
       "\n",
       "    if (server_id !== undefined) {\n",
       "      // Clean up Bokeh references\n",
       "      const cmd_clean = \"from bokeh.io.state import curstate; print(curstate().uuid_to_server['\" + server_id + \"'].get_sessions()[0].document.roots[0]._id)\";\n",
       "      cell.notebook.kernel.execute(cmd_clean, {\n",
       "        iopub: {\n",
       "          output: function(msg) {\n",
       "            const id = msg.content.text.trim();\n",
       "            if (id in Bokeh.index) {\n",
       "              Bokeh.index[id].model.document.clear();\n",
       "              delete Bokeh.index[id];\n",
       "            }\n",
       "          }\n",
       "        }\n",
       "      });\n",
       "      // Destroy server and session\n",
       "      const cmd_destroy = \"import bokeh.io.notebook as ion; ion.destroy_server('\" + server_id + \"')\";\n",
       "      cell.notebook.kernel.execute(cmd_destroy);\n",
       "    }\n",
       "  }\n",
       "\n",
       "  /**\n",
       "   * Handle when a new output is added\n",
       "   */\n",
       "  function handleAddOutput(event, handle) {\n",
       "    const output_area = handle.output_area;\n",
       "    const output = handle.output;\n",
       "\n",
       "    // limit handleAddOutput to display_data with EXEC_MIME_TYPE content only\n",
       "    if ((output.output_type != \"display_data\") || (!Object.prototype.hasOwnProperty.call(output.data, EXEC_MIME_TYPE))) {\n",
       "      return\n",
       "    }\n",
       "\n",
       "    const toinsert = output_area.element.find(\".\" + CLASS_NAME.split(' ')[0]);\n",
       "\n",
       "    if (output.metadata[EXEC_MIME_TYPE][\"id\"] !== undefined) {\n",
       "      toinsert[toinsert.length - 1].firstChild.textContent = output.data[JS_MIME_TYPE];\n",
       "      // store reference to embed id on output_area\n",
       "      output_area._bokeh_element_id = output.metadata[EXEC_MIME_TYPE][\"id\"];\n",
       "    }\n",
       "    if (output.metadata[EXEC_MIME_TYPE][\"server_id\"] !== undefined) {\n",
       "      const bk_div = document.createElement(\"div\");\n",
       "      bk_div.innerHTML = output.data[HTML_MIME_TYPE];\n",
       "      const script_attrs = bk_div.children[0].attributes;\n",
       "      for (let i = 0; i < script_attrs.length; i++) {\n",
       "        toinsert[toinsert.length - 1].firstChild.setAttribute(script_attrs[i].name, script_attrs[i].value);\n",
       "        toinsert[toinsert.length - 1].firstChild.textContent = bk_div.children[0].textContent\n",
       "      }\n",
       "      // store reference to server id on output_area\n",
       "      output_area._bokeh_server_id = output.metadata[EXEC_MIME_TYPE][\"server_id\"];\n",
       "    }\n",
       "  }\n",
       "\n",
       "  function register_renderer(events, OutputArea) {\n",
       "\n",
       "    function append_mime(data, metadata, element) {\n",
       "      // create a DOM node to render to\n",
       "      const toinsert = this.create_output_subarea(\n",
       "        metadata,\n",
       "        CLASS_NAME,\n",
       "        EXEC_MIME_TYPE\n",
       "      );\n",
       "      this.keyboard_manager.register_events(toinsert);\n",
       "      // Render to node\n",
       "      const props = {data: data, metadata: metadata[EXEC_MIME_TYPE]};\n",
       "      render(props, toinsert[toinsert.length - 1]);\n",
       "      element.append(toinsert);\n",
       "      return toinsert\n",
       "    }\n",
       "\n",
       "    /* Handle when an output is cleared or removed */\n",
       "    events.on('clear_output.CodeCell', handleClearOutput);\n",
       "    events.on('delete.Cell', handleClearOutput);\n",
       "\n",
       "    /* Handle when a new output is added */\n",
       "    events.on('output_added.OutputArea', handleAddOutput);\n",
       "\n",
       "    /**\n",
       "     * Register the mime type and append_mime function with output_area\n",
       "     */\n",
       "    OutputArea.prototype.register_mime_type(EXEC_MIME_TYPE, append_mime, {\n",
       "      /* Is output safe? */\n",
       "      safe: true,\n",
       "      /* Index of renderer in `output_area.display_order` */\n",
       "      index: 0\n",
       "    });\n",
       "  }\n",
       "\n",
       "  // register the mime type if in Jupyter Notebook environment and previously unregistered\n",
       "  if (root.Jupyter !== undefined) {\n",
       "    const events = require('base/js/events');\n",
       "    const OutputArea = require('notebook/js/outputarea').OutputArea;\n",
       "\n",
       "    if (OutputArea.prototype.mime_types().indexOf(EXEC_MIME_TYPE) == -1) {\n",
       "      register_renderer(events, OutputArea);\n",
       "    }\n",
       "  }\n",
       "  if (typeof (root._bokeh_timeout) === \"undefined\" || force === true) {\n",
       "    root._bokeh_timeout = Date.now() + 5000;\n",
       "    root._bokeh_failed_load = false;\n",
       "  }\n",
       "\n",
       "  const NB_LOAD_WARNING = {'data': {'text/html':\n",
       "     \"<div style='background-color: #fdd'>\\n\"+\n",
       "     \"<p>\\n\"+\n",
       "     \"BokehJS does not appear to have successfully loaded. If loading BokehJS from CDN, this \\n\"+\n",
       "     \"may be due to a slow or bad network connection. Possible fixes:\\n\"+\n",
       "     \"</p>\\n\"+\n",
       "     \"<ul>\\n\"+\n",
       "     \"<li>re-rerun `output_notebook()` to attempt to load from CDN again, or</li>\\n\"+\n",
       "     \"<li>use INLINE resources instead, as so:</li>\\n\"+\n",
       "     \"</ul>\\n\"+\n",
       "     \"<code>\\n\"+\n",
       "     \"from bokeh.resources import INLINE\\n\"+\n",
       "     \"output_notebook(resources=INLINE)\\n\"+\n",
       "     \"</code>\\n\"+\n",
       "     \"</div>\"}};\n",
       "\n",
       "  function display_loaded() {\n",
       "    const el = document.getElementById(\"fcc5328b-a1d1-4d55-8281-26d55fa255a1\");\n",
       "    if (el != null) {\n",
       "      el.textContent = \"BokehJS is loading...\";\n",
       "    }\n",
       "    if (root.Bokeh !== undefined) {\n",
       "      if (el != null) {\n",
       "        el.textContent = \"BokehJS \" + root.Bokeh.version + \" successfully loaded.\";\n",
       "      }\n",
       "    } else if (Date.now() < root._bokeh_timeout) {\n",
       "      setTimeout(display_loaded, 100)\n",
       "    }\n",
       "  }\n",
       "\n",
       "  function run_callbacks() {\n",
       "    try {\n",
       "      root._bokeh_onload_callbacks.forEach(function(callback) {\n",
       "        if (callback != null)\n",
       "          callback();\n",
       "      });\n",
       "    } finally {\n",
       "      delete root._bokeh_onload_callbacks\n",
       "    }\n",
       "    console.debug(\"Bokeh: all callbacks have finished\");\n",
       "  }\n",
       "\n",
       "  function load_libs(css_urls, js_urls, callback) {\n",
       "    if (css_urls == null) css_urls = [];\n",
       "    if (js_urls == null) js_urls = [];\n",
       "\n",
       "    root._bokeh_onload_callbacks.push(callback);\n",
       "    if (root._bokeh_is_loading > 0) {\n",
       "      console.debug(\"Bokeh: BokehJS is being loaded, scheduling callback at\", now());\n",
       "      return null;\n",
       "    }\n",
       "    if (js_urls == null || js_urls.length === 0) {\n",
       "      run_callbacks();\n",
       "      return null;\n",
       "    }\n",
       "    console.debug(\"Bokeh: BokehJS not loaded, scheduling load and callback at\", now());\n",
       "    root._bokeh_is_loading = css_urls.length + js_urls.length;\n",
       "\n",
       "    function on_load() {\n",
       "      root._bokeh_is_loading--;\n",
       "      if (root._bokeh_is_loading === 0) {\n",
       "        console.debug(\"Bokeh: all BokehJS libraries/stylesheets loaded\");\n",
       "        run_callbacks()\n",
       "      }\n",
       "    }\n",
       "\n",
       "    function on_error(url) {\n",
       "      console.error(\"failed to load \" + url);\n",
       "    }\n",
       "\n",
       "    for (let i = 0; i < css_urls.length; i++) {\n",
       "      const url = css_urls[i];\n",
       "      const element = document.createElement(\"link\");\n",
       "      element.onload = on_load;\n",
       "      element.onerror = on_error.bind(null, url);\n",
       "      element.rel = \"stylesheet\";\n",
       "      element.type = \"text/css\";\n",
       "      element.href = url;\n",
       "      console.debug(\"Bokeh: injecting link tag for BokehJS stylesheet: \", url);\n",
       "      document.body.appendChild(element);\n",
       "    }\n",
       "\n",
       "    for (let i = 0; i < js_urls.length; i++) {\n",
       "      const url = js_urls[i];\n",
       "      const element = document.createElement('script');\n",
       "      element.onload = on_load;\n",
       "      element.onerror = on_error.bind(null, url);\n",
       "      element.async = false;\n",
       "      element.src = url;\n",
       "      console.debug(\"Bokeh: injecting script tag for BokehJS library: \", url);\n",
       "      document.head.appendChild(element);\n",
       "    }\n",
       "  };\n",
       "\n",
       "  function inject_raw_css(css) {\n",
       "    const element = document.createElement(\"style\");\n",
       "    element.appendChild(document.createTextNode(css));\n",
       "    document.body.appendChild(element);\n",
       "  }\n",
       "\n",
       "  const js_urls = [\"https://cdn.bokeh.org/bokeh/release/bokeh-3.2.0.min.js\", \"https://cdn.bokeh.org/bokeh/release/bokeh-gl-3.2.0.min.js\", \"https://cdn.bokeh.org/bokeh/release/bokeh-widgets-3.2.0.min.js\", \"https://cdn.bokeh.org/bokeh/release/bokeh-tables-3.2.0.min.js\", \"https://cdn.bokeh.org/bokeh/release/bokeh-mathjax-3.2.0.min.js\"];\n",
       "  const css_urls = [];\n",
       "\n",
       "  const inline_js = [    function(Bokeh) {\n",
       "      Bokeh.set_log_level(\"info\");\n",
       "    },\n",
       "function(Bokeh) {\n",
       "    }\n",
       "  ];\n",
       "\n",
       "  function run_inline_js() {\n",
       "    if (root.Bokeh !== undefined || force === true) {\n",
       "          for (let i = 0; i < inline_js.length; i++) {\n",
       "      inline_js[i].call(root, root.Bokeh);\n",
       "    }\n",
       "if (force === true) {\n",
       "        display_loaded();\n",
       "      }} else if (Date.now() < root._bokeh_timeout) {\n",
       "      setTimeout(run_inline_js, 100);\n",
       "    } else if (!root._bokeh_failed_load) {\n",
       "      console.log(\"Bokeh: BokehJS failed to load within specified timeout.\");\n",
       "      root._bokeh_failed_load = true;\n",
       "    } else if (force !== true) {\n",
       "      const cell = $(document.getElementById(\"fcc5328b-a1d1-4d55-8281-26d55fa255a1\")).parents('.cell').data().cell;\n",
       "      cell.output_area.append_execute_result(NB_LOAD_WARNING)\n",
       "    }\n",
       "  }\n",
       "\n",
       "  if (root._bokeh_is_loading === 0) {\n",
       "    console.debug(\"Bokeh: BokehJS loaded, going straight to plotting\");\n",
       "    run_inline_js();\n",
       "  } else {\n",
       "    load_libs(css_urls, js_urls, function() {\n",
       "      console.debug(\"Bokeh: BokehJS plotting callback run at\", now());\n",
       "      run_inline_js();\n",
       "    });\n",
       "  }\n",
       "}(window));"
      ],
      "application/vnd.bokehjs_load.v0+json": "(function(root) {\n  function now() {\n    return new Date();\n  }\n\n  const force = true;\n\n  if (typeof root._bokeh_onload_callbacks === \"undefined\" || force === true) {\n    root._bokeh_onload_callbacks = [];\n    root._bokeh_is_loading = undefined;\n  }\n\n\n  if (typeof (root._bokeh_timeout) === \"undefined\" || force === true) {\n    root._bokeh_timeout = Date.now() + 5000;\n    root._bokeh_failed_load = false;\n  }\n\n  const NB_LOAD_WARNING = {'data': {'text/html':\n     \"<div style='background-color: #fdd'>\\n\"+\n     \"<p>\\n\"+\n     \"BokehJS does not appear to have successfully loaded. If loading BokehJS from CDN, this \\n\"+\n     \"may be due to a slow or bad network connection. Possible fixes:\\n\"+\n     \"</p>\\n\"+\n     \"<ul>\\n\"+\n     \"<li>re-rerun `output_notebook()` to attempt to load from CDN again, or</li>\\n\"+\n     \"<li>use INLINE resources instead, as so:</li>\\n\"+\n     \"</ul>\\n\"+\n     \"<code>\\n\"+\n     \"from bokeh.resources import INLINE\\n\"+\n     \"output_notebook(resources=INLINE)\\n\"+\n     \"</code>\\n\"+\n     \"</div>\"}};\n\n  function display_loaded() {\n    const el = document.getElementById(\"fcc5328b-a1d1-4d55-8281-26d55fa255a1\");\n    if (el != null) {\n      el.textContent = \"BokehJS is loading...\";\n    }\n    if (root.Bokeh !== undefined) {\n      if (el != null) {\n        el.textContent = \"BokehJS \" + root.Bokeh.version + \" successfully loaded.\";\n      }\n    } else if (Date.now() < root._bokeh_timeout) {\n      setTimeout(display_loaded, 100)\n    }\n  }\n\n  function run_callbacks() {\n    try {\n      root._bokeh_onload_callbacks.forEach(function(callback) {\n        if (callback != null)\n          callback();\n      });\n    } finally {\n      delete root._bokeh_onload_callbacks\n    }\n    console.debug(\"Bokeh: all callbacks have finished\");\n  }\n\n  function load_libs(css_urls, js_urls, callback) {\n    if (css_urls == null) css_urls = [];\n    if (js_urls == null) js_urls = [];\n\n    root._bokeh_onload_callbacks.push(callback);\n    if (root._bokeh_is_loading > 0) {\n      console.debug(\"Bokeh: BokehJS is being loaded, scheduling callback at\", now());\n      return null;\n    }\n    if (js_urls == null || js_urls.length === 0) {\n      run_callbacks();\n      return null;\n    }\n    console.debug(\"Bokeh: BokehJS not loaded, scheduling load and callback at\", now());\n    root._bokeh_is_loading = css_urls.length + js_urls.length;\n\n    function on_load() {\n      root._bokeh_is_loading--;\n      if (root._bokeh_is_loading === 0) {\n        console.debug(\"Bokeh: all BokehJS libraries/stylesheets loaded\");\n        run_callbacks()\n      }\n    }\n\n    function on_error(url) {\n      console.error(\"failed to load \" + url);\n    }\n\n    for (let i = 0; i < css_urls.length; i++) {\n      const url = css_urls[i];\n      const element = document.createElement(\"link\");\n      element.onload = on_load;\n      element.onerror = on_error.bind(null, url);\n      element.rel = \"stylesheet\";\n      element.type = \"text/css\";\n      element.href = url;\n      console.debug(\"Bokeh: injecting link tag for BokehJS stylesheet: \", url);\n      document.body.appendChild(element);\n    }\n\n    for (let i = 0; i < js_urls.length; i++) {\n      const url = js_urls[i];\n      const element = document.createElement('script');\n      element.onload = on_load;\n      element.onerror = on_error.bind(null, url);\n      element.async = false;\n      element.src = url;\n      console.debug(\"Bokeh: injecting script tag for BokehJS library: \", url);\n      document.head.appendChild(element);\n    }\n  };\n\n  function inject_raw_css(css) {\n    const element = document.createElement(\"style\");\n    element.appendChild(document.createTextNode(css));\n    document.body.appendChild(element);\n  }\n\n  const js_urls = [\"https://cdn.bokeh.org/bokeh/release/bokeh-3.2.0.min.js\", \"https://cdn.bokeh.org/bokeh/release/bokeh-gl-3.2.0.min.js\", \"https://cdn.bokeh.org/bokeh/release/bokeh-widgets-3.2.0.min.js\", \"https://cdn.bokeh.org/bokeh/release/bokeh-tables-3.2.0.min.js\", \"https://cdn.bokeh.org/bokeh/release/bokeh-mathjax-3.2.0.min.js\"];\n  const css_urls = [];\n\n  const inline_js = [    function(Bokeh) {\n      Bokeh.set_log_level(\"info\");\n    },\nfunction(Bokeh) {\n    }\n  ];\n\n  function run_inline_js() {\n    if (root.Bokeh !== undefined || force === true) {\n          for (let i = 0; i < inline_js.length; i++) {\n      inline_js[i].call(root, root.Bokeh);\n    }\nif (force === true) {\n        display_loaded();\n      }} else if (Date.now() < root._bokeh_timeout) {\n      setTimeout(run_inline_js, 100);\n    } else if (!root._bokeh_failed_load) {\n      console.log(\"Bokeh: BokehJS failed to load within specified timeout.\");\n      root._bokeh_failed_load = true;\n    } else if (force !== true) {\n      const cell = $(document.getElementById(\"fcc5328b-a1d1-4d55-8281-26d55fa255a1\")).parents('.cell').data().cell;\n      cell.output_area.append_execute_result(NB_LOAD_WARNING)\n    }\n  }\n\n  if (root._bokeh_is_loading === 0) {\n    console.debug(\"Bokeh: BokehJS loaded, going straight to plotting\");\n    run_inline_js();\n  } else {\n    load_libs(css_urls, js_urls, function() {\n      console.debug(\"Bokeh: BokehJS plotting callback run at\", now());\n      run_inline_js();\n    });\n  }\n}(window));"
     },
     "metadata": {},
     "output_type": "display_data"
    }
   ],
   "source": [
    "import time\n",
    "import os\n",
    "\n",
    "from datetime import date\n",
    "from datetime import timedelta\n",
    "from datetime import datetime\n",
    "\n",
    "import pickle\n",
    "\n",
    "import json\n",
    "\n",
    "import pandas as pd\n",
    "import numpy as np\n",
    "import random \n",
    "\n",
    "from handle_data.read_data import load_candles\n",
    "\n",
    "from backtesting import Strategy\n",
    "from backtesting import Backtest\n",
    "\n",
    "import pandas_ta as ta\n",
    "import jinja2"
   ]
  },
  {
   "cell_type": "code",
   "execution_count": 3,
   "id": "52d805eb-bcd4-4a96-b2bb-cb85af95a36d",
   "metadata": {},
   "outputs": [],
   "source": [
    "from backtesting_sampler.sampler import process_heatmap"
   ]
  },
  {
   "cell_type": "markdown",
   "id": "8e33f635-2647-4522-8686-3a8a2ec336c2",
   "metadata": {},
   "source": [
    "# Configuration"
   ]
  },
  {
   "cell_type": "code",
   "execution_count": 4,
   "id": "6449c640-f1ca-4824-a847-073b424fb396",
   "metadata": {},
   "outputs": [],
   "source": [
    "symbol = \"BTC/USDT\"\n",
    "asset_factor = 1_000_000\n",
    "timeframe='1d'\n",
    "exchange='Binance'\n",
    "\n",
    "experiment_nickname = \"Range\""
   ]
  },
  {
   "cell_type": "code",
   "execution_count": 5,
   "id": "444c796d-6eb1-4a74-85d2-d0e7d1ef8043",
   "metadata": {},
   "outputs": [
    {
     "name": "stdout",
     "output_type": "stream",
     "text": [
      "start_date: 2022-06-19\n",
      "end_date: 2023-03-12\n"
     ]
    }
   ],
   "source": [
    "history_days = 10 * 30\n",
    "start_date = (date.today() - timedelta(days=history_days)).strftime('%Y-%m-%d')\n",
    "end_date=None\n",
    "\n",
    "if experiment_nickname == \"Bullrun\":\n",
    "    start_date = \"2019-11-01\"\n",
    "    #end_date=\"2021-07-22\"\n",
    "    #end_date=\"2021-04-14\"\n",
    "elif experiment_nickname == \"Bear\":\n",
    "    start_date = \"2021-11-12\"\n",
    "    end_date=\"2022-11-12\"\n",
    "elif experiment_nickname == \"Range\":\n",
    "    start_date = \"2022-06-19\"\n",
    "    end_date=\"2023-03-12\"\n",
    "    \n",
    "if not end_date:\n",
    "    end_date=date.today().strftime('%Y-%m-%d')\n",
    "    \n",
    "print(\"start_date:\",start_date)\n",
    "print(\"end_date:\",end_date)"
   ]
  },
  {
   "cell_type": "code",
   "execution_count": 6,
   "id": "f2f167df-f37a-4708-a90c-053b37c45381",
   "metadata": {},
   "outputs": [],
   "source": [
    "timestamp = datetime.now().strftime('%Y-%m-%d_%H%M')\n",
    "base_experiment_name=(exchange + '_' + symbol + '_' + timeframe + '_' + start_date + '_' + start_date + '_' + timestamp).replace('/', '-')"
   ]
  },
  {
   "cell_type": "code",
   "execution_count": 7,
   "id": "2620c3fd-39fe-4306-aff3-6f723015d0c2",
   "metadata": {},
   "outputs": [
    {
     "name": "stdout",
     "output_type": "stream",
     "text": [
      "reading /home/jovyan/work/data/BTC-USDT/1d/BTC-USDT_1d_Binance.pickle\n"
     ]
    }
   ],
   "source": [
    "data = load_candles(exchange, symbol, timeframe=timeframe, factor=asset_factor, start_date=start_date, end_date=end_date)"
   ]
  },
  {
   "cell_type": "markdown",
   "id": "7974520c-efaf-4426-b7e4-779fc963c51e",
   "metadata": {},
   "source": [
    "# Class"
   ]
  },
  {
   "cell_type": "code",
   "execution_count": 8,
   "id": "723f0c00-9dcb-4f96-ae48-fb27176f3857",
   "metadata": {},
   "outputs": [],
   "source": [
    "class DCA_Conditional_Buy_LR_with_TrailingStop(Strategy):  \n",
    "    # DCA + Moving Stop Loss\n",
    "    \n",
    "    band_lenght = 13\n",
    "    band_mult = 1\n",
    "    \n",
    "    intial_sl_factor = 0.0\n",
    "    minimal_benefit_to_start_trailing = 1.003\n",
    "    \n",
    "    sleep_by = 0\n",
    "\n",
    "    reinvest = 2 # 0 = use only initial, 1 = reinvest all, 2 = use dca_budget reinvesting all\n",
    "    stop_loose_changes = 0\n",
    "    i_cash = 1_000\n",
    "    \n",
    "    buy_all_days = 0\n",
    "    dca_budget = 100\n",
    "    lr_buy_longitude = 3\n",
    "    \n",
    "    \n",
    "    def lb_close(self,data): #lower_band_stdev_formula\n",
    "        dema = ta.dema(close = data.Close.s, length=self.band_lenght).to_numpy()\n",
    "        stdev = ta.stdev(close = data.Close.s, length=self.band_lenght).to_numpy()\n",
    "        lower_band = dema - ( self.band_mult * stdev )\n",
    "        return lower_band\n",
    "    \n",
    "    def lb_low(self,data): # lower_band_stdev_formula_on_low\n",
    "        dema = ta.dema(close = data.Low.s, length=self.band_lenght).to_numpy()\n",
    "        stdev = ta.stdev(close = data.Low.s, length=self.band_lenght).to_numpy()\n",
    "        lower_band = dema - ( self.band_mult * stdev )\n",
    "        return lower_band\n",
    "\n",
    "    \n",
    "    def LR(self,data):\n",
    "        # https://greyhoundanalytics.com/blog/custom-indicators-in-backtestingpy/\n",
    "        linreg = ta.linreg(close = data.Close.s, length=self.lr_buy_longitude, angle=True )\n",
    "        return linreg.to_numpy()\n",
    "    \n",
    "\n",
    "    \n",
    "    def calculate_size(self):\n",
    "        if self.reinvest==0:\n",
    "            if self.equity < self.i_cash:\n",
    "                cash = self.equity\n",
    "            else:\n",
    "                cash = self.i_cash\n",
    "            size = int((cash / self.data.Close[-1]) * 0.99 )\n",
    "            #print(f\"buy with limit {size} = {self.i_cash} / {self.data.Close[-1]}\")\n",
    "        elif self.reinvest==1:\n",
    "            size = int( (self.equity / self.data.Close[-1]) * 0.99 )\n",
    "            #print(f\"buy no limit {size} = {self.equity} / {self.data.Close[-1]} \")\n",
    "        elif self.reinvest==2:\n",
    "            if self.equity < self.dca_budget:\n",
    "                cash = self.equity\n",
    "            else:\n",
    "                cash = self.dca_budget\n",
    "            size = int( ( cash / self.data.Close[-1]) * 0.99 )\n",
    "\n",
    "        return size\n",
    "    \n",
    "\n",
    "    \n",
    "    def init(self):\n",
    "        self.day_of_week = self.I(lambda x: x,self.data.Close.s.index.dayofweek,plot = False,)\n",
    "        self.lr_buy = self.I(self.LR, self.data,plot = False)\n",
    "        self.lower_band = self.I(self.lb_close, self.data)\n",
    "        self.lb_low = self.I(self.lb_low, self.data)\n",
    "\n",
    "        self.current_stop_loss = 0 \n",
    "        self.i_cash = self.equity\n",
    "        self.dca_bought = False\n",
    "        \n",
    "    def do_buy(self,sl):\n",
    "        self.current_stop_loss = sl * self.intial_sl_factor\n",
    "        size=self.calculate_size()\n",
    "        if size>0:\n",
    "            self.buy(size=size,sl=self.current_stop_loss) \n",
    "        \n",
    "    def next(self):\n",
    "\n",
    "        new_stop = self.lower_band[-1]\n",
    "        new_stop_price = self.lb_low[-1]\n",
    "        \n",
    "        if self.reinvest in [0,1]:\n",
    "            if not self.position:\n",
    "                if not self.should_sleep(): \n",
    "                    self.do_buy(new_stop)\n",
    "                    self.sleep_by = random.random() * 7 * 24 * 60 \n",
    "        else:\n",
    "            if self.day_of_week[-1] == 1 or self.buy_all_days: \n",
    "                if self.dca_bought == False and self.lr_buy[-1]>0:\n",
    "                    self.do_buy(new_stop)\n",
    "                    self.dca_bought == True\n",
    "            else:\n",
    "                self.dca_bought == False\n",
    "        \n",
    "         \n",
    "        if new_stop > self.current_stop_loss:\n",
    "            self.current_stop_loss = new_stop\n",
    "            for trade in self.trades:\n",
    "                if new_stop_price > trade.entry_price * self.minimal_benefit_to_start_trailing:\n",
    "                    old_stop = trade.sl\n",
    "                    if self.data.Close[-1] > new_stop:\n",
    "                        trade.sl = new_stop\n",
    "                        #print(f\"I'm recreating the stop loss {old_stop}, new: {new_stop}. Entry price {self.trades[0].entry_price}\")\n",
    "            else:\n",
    "                #print(f\"ERROR, I'm trying to create the stop loss {old_stop}, new: {new_stop}. Entry price {self.trades[0].entry_price}\")\n",
    "                pass"
   ]
  },
  {
   "cell_type": "markdown",
   "id": "314acc42-4aba-4468-be1c-20a26ead81c7",
   "metadata": {},
   "source": [
    "# Optimization"
   ]
  },
  {
   "cell_type": "code",
   "execution_count": 9,
   "id": "651d31b1-3bb8-4c2a-a3c6-06bf605fd9c8",
   "metadata": {},
   "outputs": [],
   "source": [
    "start_time = time.time()"
   ]
  },
  {
   "cell_type": "code",
   "execution_count": 10,
   "id": "d9544a63-2db5-436d-8f48-34269fb8e82e",
   "metadata": {},
   "outputs": [],
   "source": [
    "fb = [1, 1, 2, 3, 5, 8, 13, 21, 34, 55, 89, 144, 233, 377, 610, 987]"
   ]
  },
  {
   "cell_type": "code",
   "execution_count": 11,
   "id": "5f44dbfb-d394-44d3-8623-0b33936bac10",
   "metadata": {},
   "outputs": [
    {
     "data": {
      "application/vnd.jupyter.widget-view+json": {
       "model_id": "",
       "version_major": 2,
       "version_minor": 0
      },
      "text/plain": [
       "Backtest.optimize:   0%|          | 0/10 [00:00<?, ?it/s]"
      ]
     },
     "metadata": {},
     "output_type": "display_data"
    }
   ],
   "source": [
    "bt = Backtest(data, DCA_Conditional_Buy_LR_with_TrailingStop, cash=1600, commission=.001)\n",
    "optimize = True\n",
    "heatmap = None\n",
    "\n",
    "if optimize:\n",
    "     stats, heatmap = bt.optimize(return_heatmap= True,maximize=\"Return [%]\",\n",
    "                        band_lenght=[3,9,10,11,12,13,21,34],\n",
    "                        band_mult=[1,2],\n",
    "                        #sl_activation_margin=[1.003, 1.004, 1.005, 1.006, 1.007, 1.008, 1.009, 1.01, 1.012 ],\n",
    "                        minimal_benefit_to_start_trailing=[1.003],\n",
    "                        reinvest = [2],\n",
    "                        dca_budget = [100,200,500,1000,1600],\n",
    "                        buy_all_days=[0,1],\n",
    "                        lr_buy_longitude=[*range(2, 7, 1)],\n",
    "\n",
    "    )\n",
    "else:\n",
    "    # fast run\n",
    "    stats = bt.run(band_lenght=34,band_mult=2,sl_activation_margin=1.003,reinvest=2,dca_budget=100,buy_all_days=1,lr_buy_longitude=5)\n",
    "\n"
   ]
  },
  {
   "cell_type": "code",
   "execution_count": 12,
   "id": "4bf3c8af-2c22-4745-a42c-f2f08d441a22",
   "metadata": {},
   "outputs": [
    {
     "name": "stdout",
     "output_type": "stream",
     "text": [
      "--- 2.761631727218628 seconds ---\n"
     ]
    }
   ],
   "source": [
    "end_time = time.time()\n",
    "duration = (end_time - start_time)\n",
    "print(\"--- %s seconds ---\" % duration )"
   ]
  },
  {
   "cell_type": "markdown",
   "id": "fcb70b95-8f41-4e54-a6d5-996948f5a251",
   "metadata": {},
   "source": [
    "# Results"
   ]
  },
  {
   "cell_type": "code",
   "execution_count": 13,
   "id": "fb2731b4-a869-463d-84ff-d7ca393e7ca3",
   "metadata": {},
   "outputs": [
    {
     "data": {
      "text/plain": [
       "<Strategy DCA_Conditional_Buy_LR_with_TrailingStop(band_lenght=9,band_mult=1,minimal_benefit_to_start_trailing=1.003,reinvest=2,dca_budget=1600,buy_all_days=0,lr_buy_longitude=6)>"
      ]
     },
     "execution_count": 13,
     "metadata": {},
     "output_type": "execute_result"
    }
   ],
   "source": [
    "stats._strategy"
   ]
  },
  {
   "cell_type": "code",
   "execution_count": 14,
   "id": "58cf3eb3-953f-417d-9cda-90b1bc683c8d",
   "metadata": {},
   "outputs": [
    {
     "data": {
      "text/plain": [
       "Start                     2022-06-19 00:00:00\n",
       "End                       2023-03-12 00:00:00\n",
       "Duration                    266 days 00:00:00\n",
       "Exposure Time [%]                   65.917603\n",
       "Equity Final [$]                  2213.301929\n",
       "Equity Peak [$]                   2513.757579\n",
       "Return [%]                          38.331371\n",
       "Buy & Hold Return [%]                6.917031\n",
       "Return (Ann.) [%]                   55.827598\n",
       "Volatility (Ann.) [%]               48.186159\n",
       "Sharpe Ratio                         1.158582\n",
       "Sortino Ratio                        3.331087\n",
       "Calmar Ratio                         4.367113\n",
       "Max. Drawdown [%]                  -12.783638\n",
       "Avg. Drawdown [%]                   -4.005411\n",
       "Max. Drawdown Duration      108 days 00:00:00\n",
       "Avg. Drawdown Duration       16 days 00:00:00\n",
       "# Trades                                    5\n",
       "Win Rate [%]                             80.0\n",
       "Best Trade [%]                      36.577839\n",
       "Worst Trade [%]                    -11.631655\n",
       "Avg. Trade [%]                       6.630558\n",
       "Max. Trade Duration          54 days 00:00:00\n",
       "Avg. Trade Duration          35 days 00:00:00\n",
       "Profit Factor                        4.325395\n",
       "Expectancy [%]                        7.73597\n",
       "SQN                                   0.97199\n",
       "_strategy                 DCA_Conditional_...\n",
       "_equity_curve                             ...\n",
       "_trades                       Size  EntryB...\n",
       "dtype: object"
      ]
     },
     "execution_count": 14,
     "metadata": {},
     "output_type": "execute_result"
    }
   ],
   "source": [
    "stats"
   ]
  },
  {
   "cell_type": "code",
   "execution_count": 15,
   "id": "fd0d1e83-e2ab-4ab5-873d-a70e91bfd2f1",
   "metadata": {},
   "outputs": [
    {
     "name": "stderr",
     "output_type": "stream",
     "text": [
      "BokehDeprecationWarning: Passing lists of formats for DatetimeTickFormatter scales was deprecated in Bokeh 3.0. Configure a single string format for each scale\n",
      "BokehDeprecationWarning: Passing lists of formats for DatetimeTickFormatter scales was deprecated in Bokeh 3.0. Configure a single string format for each scale\n"
     ]
    },
    {
     "data": {
      "text/html": [
       "\n",
       "  <div id=\"aefb077a-a420-491d-9250-2e6bd0d9f99d\" data-root-id=\"p1309\" style=\"display: contents;\"></div>\n"
      ]
     },
     "metadata": {},
     "output_type": "display_data"
    },
    {
     "data": {
      "application/javascript": [
       "(function(root) {\n",
       "  function embed_document(root) {\n",
       "  const docs_json = {\"d6db14fa-f734-4d2b-be0e-c45060596e4d\":{\"version\":\"3.2.0\",\"title\":\"Bokeh Application\",\"roots\":[{\"type\":\"object\",\"name\":\"GridPlot\",\"id\":\"p1309\",\"attributes\":{\"rows\":null,\"cols\":null,\"sizing_mode\":\"stretch_width\",\"toolbar\":{\"type\":\"object\",\"name\":\"Toolbar\",\"id\":\"p1308\",\"attributes\":{\"logo\":null,\"tools\":[{\"type\":\"object\",\"name\":\"ToolProxy\",\"id\":\"p1300\",\"attributes\":{\"tools\":[{\"type\":\"object\",\"name\":\"PanTool\",\"id\":\"p1063\",\"attributes\":{\"dimensions\":\"width\"}},{\"type\":\"object\",\"name\":\"PanTool\",\"id\":\"p1156\",\"attributes\":{\"dimensions\":\"width\"}},{\"type\":\"object\",\"name\":\"PanTool\",\"id\":\"p1023\",\"attributes\":{\"dimensions\":\"width\"}},{\"type\":\"object\",\"name\":\"PanTool\",\"id\":\"p1207\",\"attributes\":{\"dimensions\":\"width\"}}]}},{\"type\":\"object\",\"name\":\"ToolProxy\",\"id\":\"p1301\",\"attributes\":{\"tools\":[{\"type\":\"object\",\"name\":\"WheelZoomTool\",\"id\":\"p1064\",\"attributes\":{\"dimensions\":\"width\",\"maintain_focus\":false}},{\"type\":\"object\",\"name\":\"WheelZoomTool\",\"id\":\"p1157\",\"attributes\":{\"dimensions\":\"width\",\"maintain_focus\":false}},{\"type\":\"object\",\"name\":\"WheelZoomTool\",\"id\":\"p1024\",\"attributes\":{\"dimensions\":\"width\",\"maintain_focus\":false}},{\"type\":\"object\",\"name\":\"WheelZoomTool\",\"id\":\"p1208\",\"attributes\":{\"dimensions\":\"width\",\"maintain_focus\":false}}]}},{\"type\":\"object\",\"name\":\"ToolProxy\",\"id\":\"p1302\",\"attributes\":{\"tools\":[{\"type\":\"object\",\"name\":\"BoxZoomTool\",\"id\":\"p1065\",\"attributes\":{\"overlay\":{\"type\":\"object\",\"name\":\"BoxAnnotation\",\"id\":\"p1066\",\"attributes\":{\"syncable\":false,\"level\":\"overlay\",\"visible\":false,\"left_units\":\"canvas\",\"right_units\":\"canvas\",\"bottom_units\":\"canvas\",\"top_units\":\"canvas\",\"line_color\":\"black\",\"line_alpha\":1.0,\"line_width\":2,\"line_dash\":[4,4],\"fill_color\":\"lightgrey\",\"fill_alpha\":0.5}}}},{\"type\":\"object\",\"name\":\"BoxZoomTool\",\"id\":\"p1158\",\"attributes\":{\"overlay\":{\"type\":\"object\",\"name\":\"BoxAnnotation\",\"id\":\"p1159\",\"attributes\":{\"syncable\":false,\"level\":\"overlay\",\"visible\":false,\"left_units\":\"canvas\",\"right_units\":\"canvas\",\"bottom_units\":\"canvas\",\"top_units\":\"canvas\",\"line_color\":\"black\",\"line_alpha\":1.0,\"line_width\":2,\"line_dash\":[4,4],\"fill_color\":\"lightgrey\",\"fill_alpha\":0.5}}}},{\"type\":\"object\",\"name\":\"BoxZoomTool\",\"id\":\"p1025\",\"attributes\":{\"overlay\":{\"type\":\"object\",\"name\":\"BoxAnnotation\",\"id\":\"p1026\",\"attributes\":{\"syncable\":false,\"level\":\"overlay\",\"visible\":false,\"left_units\":\"canvas\",\"right_units\":\"canvas\",\"bottom_units\":\"canvas\",\"top_units\":\"canvas\",\"line_color\":\"black\",\"line_alpha\":1.0,\"line_width\":2,\"line_dash\":[4,4],\"fill_color\":\"lightgrey\",\"fill_alpha\":0.5}}}},{\"type\":\"object\",\"name\":\"BoxZoomTool\",\"id\":\"p1209\",\"attributes\":{\"overlay\":{\"type\":\"object\",\"name\":\"BoxAnnotation\",\"id\":\"p1210\",\"attributes\":{\"syncable\":false,\"level\":\"overlay\",\"visible\":false,\"left_units\":\"canvas\",\"right_units\":\"canvas\",\"bottom_units\":\"canvas\",\"top_units\":\"canvas\",\"line_color\":\"black\",\"line_alpha\":1.0,\"line_width\":2,\"line_dash\":[4,4],\"fill_color\":\"lightgrey\",\"fill_alpha\":0.5}}}}]}},{\"type\":\"object\",\"name\":\"ToolProxy\",\"id\":\"p1303\",\"attributes\":{\"tools\":[{\"type\":\"object\",\"name\":\"UndoTool\",\"id\":\"p1067\"},{\"type\":\"object\",\"name\":\"UndoTool\",\"id\":\"p1160\"},{\"type\":\"object\",\"name\":\"UndoTool\",\"id\":\"p1027\"},{\"type\":\"object\",\"name\":\"UndoTool\",\"id\":\"p1211\"}]}},{\"type\":\"object\",\"name\":\"ToolProxy\",\"id\":\"p1304\",\"attributes\":{\"tools\":[{\"type\":\"object\",\"name\":\"RedoTool\",\"id\":\"p1068\"},{\"type\":\"object\",\"name\":\"RedoTool\",\"id\":\"p1161\"},{\"type\":\"object\",\"name\":\"RedoTool\",\"id\":\"p1028\"},{\"type\":\"object\",\"name\":\"RedoTool\",\"id\":\"p1212\"}]}},{\"type\":\"object\",\"name\":\"ToolProxy\",\"id\":\"p1305\",\"attributes\":{\"tools\":[{\"type\":\"object\",\"name\":\"ResetTool\",\"id\":\"p1069\"},{\"type\":\"object\",\"name\":\"ResetTool\",\"id\":\"p1162\"},{\"type\":\"object\",\"name\":\"ResetTool\",\"id\":\"p1029\"},{\"type\":\"object\",\"name\":\"ResetTool\",\"id\":\"p1213\"}]}},{\"type\":\"object\",\"name\":\"SaveTool\",\"id\":\"p1306\"},{\"type\":\"object\",\"name\":\"HoverTool\",\"id\":\"p1092\",\"attributes\":{\"renderers\":[{\"type\":\"object\",\"name\":\"GlyphRenderer\",\"id\":\"p1089\",\"attributes\":{\"data_source\":{\"type\":\"object\",\"name\":\"ColumnDataSource\",\"id\":\"p1031\",\"attributes\":{\"selected\":{\"type\":\"object\",\"name\":\"Selection\",\"id\":\"p1032\",\"attributes\":{\"indices\":[],\"line_indices\":[]}},\"selection_policy\":{\"type\":\"object\",\"name\":\"UnionRenderers\",\"id\":\"p1033\"},\"data\":{\"type\":\"map\",\"entries\":[[\"index\",{\"type\":\"ndarray\",\"array\":{\"type\":\"bytes\",\"data\":\"AAAAAAEAAAACAAAAAwAAAAQAAAAFAAAABgAAAAcAAAAIAAAACQAAAAoAAAALAAAADAAAAA0AAAAOAAAADwAAABAAAAARAAAAEgAAABMAAAAUAAAAFQAAABYAAAAXAAAAGAAAABkAAAAaAAAAGwAAABwAAAAdAAAAHgAAAB8AAAAgAAAAIQAAACIAAAAjAAAAJAAAACUAAAAmAAAAJwAAACgAAAApAAAAKgAAACsAAAAsAAAALQAAAC4AAAAvAAAAMAAAADEAAAAyAAAAMwAAADQAAAA1AAAANgAAADcAAAA4AAAAOQAAADoAAAA7AAAAPAAAAD0AAAA+AAAAPwAAAEAAAABBAAAAQgAAAEMAAABEAAAARQAAAEYAAABHAAAASAAAAEkAAABKAAAASwAAAEwAAABNAAAATgAAAE8AAABQAAAAUQAAAFIAAABTAAAAVAAAAFUAAABWAAAAVwAAAFgAAABZAAAAWgAAAFsAAABcAAAAXQAAAF4AAABfAAAAYAAAAGEAAABiAAAAYwAAAGQAAABlAAAAZgAAAGcAAABoAAAAaQAAAGoAAABrAAAAbAAAAG0AAABuAAAAbwAAAHAAAABxAAAAcgAAAHMAAAB0AAAAdQAAAHYAAAB3AAAAeAAAAHkAAAB6AAAAewAAAHwAAAB9AAAAfgAAAH8AAACAAAAAgQAAAIIAAACDAAAAhAAAAIUAAACGAAAAhwAAAIgAAACJAAAAigAAAIsAAACMAAAAjQAAAI4AAACPAAAAkAAAAJEAAACSAAAAkwAAAJQAAACVAAAAlgAAAJcAAACYAAAAmQAAAJoAAACbAAAAnAAAAJ0AAACeAAAAnwAAAKAAAAChAAAAogAAAKMAAACkAAAApQAAAKYAAACnAAAAqAAAAKkAAACqAAAAqwAAAKwAAACtAAAArgAAAK8AAACwAAAAsQAAALIAAACzAAAAtAAAALUAAAC2AAAAtwAAALgAAAC5AAAAugAAALsAAAC8AAAAvQAAAL4AAAC/AAAAwAAAAMEAAADCAAAAwwAAAMQAAADFAAAAxgAAAMcAAADIAAAAyQAAAMoAAADLAAAAzAAAAM0AAADOAAAAzwAAANAAAADRAAAA0gAAANMAAADUAAAA1QAAANYAAADXAAAA2AAAANkAAADaAAAA2wAAANwAAADdAAAA3gAAAN8AAADgAAAA4QAAAOIAAADjAAAA5AAAAOUAAADmAAAA5wAAAOgAAADpAAAA6gAAAOsAAADsAAAA7QAAAO4AAADvAAAA8AAAAPEAAADyAAAA8wAAAPQAAAD1AAAA9gAAAPcAAAD4AAAA+QAAAPoAAAD7AAAA/AAAAP0AAAD+AAAA/wAAAAABAAABAQAAAgEAAAMBAAAEAQAABQEAAAYBAAAHAQAACAEAAAkBAAAKAQAA\"},\"shape\":[267],\"dtype\":\"int32\",\"order\":\"little\"}],[\"Open\",{\"type\":\"ndarray\",\"array\":{\"type\":\"bytes\",\"data\":\"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\"},\"shape\":[267],\"dtype\":\"float64\",\"order\":\"little\"}],[\"High\",{\"type\":\"ndarray\",\"array\":{\"type\":\"bytes\",\"data\":\"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\"},\"shape\":[267],\"dtype\":\"float64\",\"order\":\"little\"}],[\"Low\",{\"type\":\"ndarray\",\"array\":{\"type\":\"bytes\",\"data\":\"VX9KtjZkkj/Q8Y/GuhuUP3SMGgI21pQ/Kj+Ad7g+lD9FHakAEF6UP5S957gBPJU/I/qthItolT/EvOA2x3eVPzi+9sySAJU/wskN8dWvlD/AP0Ig2VSUP7fSa7OxEpM/yjLEsS5ukz+Lr02VtW6TP1ILJZNTO5M/U4EPNTyDkz/B9KxaiMSTP86N6QlLPJQ/ov4nPdu8lD8j4Ocqo7KVP0BXU0B31ZU/Ztr+lZUmlT+642YbLFqUPxakGYums5M/c7JYs2Ndkz9kEoEsPBaUP1nP3lMY35Q/bsLeQFj4lD+E312ZfT+VP6R48G7AQpU/rjpAavIYlj9yL7RjuHSXPzb4LQCu4JY/CtejcD0Klz8EETUTBHaWP0+eaA2UypY/w/UoXI/ClT/LLEKxFTSVPx9Ns0gsjJU/B8xLF8Uflz9nYnj02PmXPw+Yh0z5EJg/wNRLY+bIlz/1udqK/WWXP1bCCwm1Mpc/EJWI6L45lz/HuriNBvCWPwL7Q44IIZc/OxGr3Jd1lz8lfyh/lGSXP9S6DWq/tZc/mWTkLOxplz/zwEuZaTWXPynmKFmxbJg/ml33ViQmmD+wdestzN+YP1AYlGk0uZg/NbWuyQFYmD9CkwavRD2YP8P+oU+avJc/KPzno2uqlz8oycbFSUiVP+DjAoabQpU/AJGfCSSTlT+mVaE/PGSVP195b5A5ZJU/SUvl7QinlT9Ymkr1U9KVP82gkFMql5Q/9dvXgXNGlD8FwHgGDf2TP7XTpE4fBZQ/3/jaM0sClD/cC1BD6UWUP3RyTDcFCZQ/BlnkEbs6lD8ttLW21x+UP8qZN5iXDZQ/6xv7BuQalD+VTCVu2xiTPz1ZGL989JI/+BvtuOF3kz8xl1RtN8GTP4f2ufMnnpU/BhIUP8bclT/s4DfwMA6WP4OG/gkuVpQ//ylNMaQWlD+k/nqFBfeTP5D+buyfyJM/sAAJN9c4lD9gCDF+t8yTP45+sGOOq5I/SrvJVjQpkz9EVzvtnY+SP+D243oEzJI/is1ki+b5kj/fHykBtUGTP52oAHOIE5M/Jenc5Qkhkz8B0R/clUSTPwagD54i6pI/oTLV/pRLkz/t8Phydp2TP7XGPemGnpM/113qMdtfkz/2pSuWKmqTP9hSUQZY9ZM/+RQA4xk0lD+d8uhGWFSUP3+HokCfyJM/hJ6snOaykz9mWFqAlceTP2vT2F4LepM/42vPLAlQkz9jBFypymuTP1X7dDxmoJI/X/bj3S6Hkz8GkiTGOm6TPwKYW+9xhZM/JA8C+packz+JfJdSl4yTP0RQd5YHhpM/mN2Th4Vakz/wFkhQ/BiTPyi1We1IkpM/mN4fax2Hkz8mOPWB5J2TP48bfjfdspM/a7TiPBiIlD8BTYQNT6+UPxlE3lHnepQ/XLIBQxwMlT9uTE9Y4gGVP69ljdVBuZQ/nCmd3ZTRlD8zeZgweYeUPz8Wy8IRg5Q/uLrOTFGqlD/3TVB5KpaVP/D2KHUsY5U/I72Hz8bflD8qN7R1LpSRP6UtrvGZ7I8/egbkfeIhkD9HFKRjGMGQP1lPjLDRB5E/8rT8wFWekD+J4OrG3DGQP/qAgoOk7JA/rDs36Y3FkD+Gomke+s2QP1WWtvJx8ZA/lfTul2jzkD+oqWVrfZGQP+aw+47hsY8/dGf9mJz7jz8svvypTIyQPz8TBgph2pA/tCLmaSu8kD9lcJS8OseQP+CdfHpsy5A/nqopZhBhkD8/xty1hHyQP65e6oyU0pA/fx/lknBCkT/yb+GK1TCRPwWczuNqQ5E/hQoOL4hIkT+KyoY1lUWRP+/u+UjnT5E/98uKVUEUkT/7FzGBlSKRP+stUBi1d5E/IcoXtJCAkT9vDtdqD3uRP7le5K/aRpE/+irYynR9kT8s0d2etRWSP9EK49mrsJE/POaPq4nskD+uIBfmTvqQPx/IzbIfEJE/v3Vq032lkD/g3/t2bcqQPzMxXYjVH5E/0+e0uBD1kD/VU7Mg9yGRPxoe8+jjLZE/hCugUE8fkT+A8nfvqDGRP1lyDRqX/ZA/EK14l0nckD9paMkEeOKQP5TcYROZuZA/BOJ1/YLdkD+FK3fRHeWQP4hOKnUk8pA/sOcpevkAkT/kmV0YZQ2RP3uGcMyyJ5E/ILQevkwUkT8WvymsVFCRP51Hxf8dUZE/wp48TeKDkT/1My9mz46RPyOs1z4uu5E/kv9uJktSkj+vYX5VyymTP3MpU3GIXZQ/1Slm71ILlT+bsBYCLRuVP0BWbKNsV5U/dRNrp5zllD8RvKXFrieVP+Upac2oXJU/UfnX8sr1lj9OvWagz9OWPwrXo3A9Cpc/YqzjtoUAlz+Ens2qz9WWPwYxpzb+ZZc/tiV6MmITlz+zbu51c22XP77fP0jchJc/CtejcD0Klz+hByVpikKXP7Js/y11Tpc/E3tPgorslz99fhCw88KXPxtaz9biz5c/zAna5PBJlz/JTkcZ1CuXP9JW43SrSpc/47Txcbc1lz/U0twKYTWWPyGx3T1A95U/LJ3NskAelj/1LXO6LCaWP1jWiQ0O3ZU/pufEu68Mlj8/VUPqj5OWP5YgI6DCEZg/iN1vm0bmlz9ORSqMLQSZP6kj0+PvxZg/1lKjBLtpmD8D9DWqV7qYP73bQKr2I5g/qySyD7IsmD+s9jRQrmOXPxpOmZtvRJc/TOvjX9Oclz/xYd0VTamXP9i6FiXPkpc/aQIDEJCSlz/T6pp/qsCXPy+DOZOZf5Y/kkDmd1iwlj9+HuVYxbiWPyAnTBjNypY/N/qYDwh0lj/Tn/1IERmWP8wIsSsUhpQ/E8LdOK0ElD+rXdG1SD2UPxj8R/DQwZQ/\"},\"shape\":[267],\"dtype\":\"float64\",\"order\":\"little\"}],[\"Close\",{\"type\":\"ndarray\",\"array\":{\"type\":\"bytes\",\"data\":\"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\"},\"shape\":[267],\"dtype\":\"float64\",\"order\":\"little\"}],[\"Volume\",{\"type\":\"ndarray\",\"array\":{\"type\":\"bytes\",\"data\":\"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\"},\"shape\":[267],\"dtype\":\"float64\",\"order\":\"little\"}],[\"datetime\",{\"type\":\"ndarray\",\"array\":{\"type\":\"bytes\",\"data\":\"AACAJZQXeEIAAECL5hd4QgAAAPE4GHhCAADAVosYeEIAAIC83Rh4QgAAQCIwGXhCAAAAiIIZeEIAAMDt1Bl4QgAAgFMnGnhCAABAuXkaeEIAAAAfzBp4QgAAwIQeG3hCAACA6nAbeEIAAEBQwxt4QgAAALYVHHhCAADAG2gceEIAAICBuhx4QgAAQOcMHXhCAAAATV8deEIAAMCysR14QgAAgBgEHnhCAABAflYeeEIAAADkqB54QgAAwEn7HnhCAACAr00feEIAAEAVoB94QgAAAHvyH3hCAADA4EQgeEIAAIBGlyB4QgAAQKzpIHhCAAAAEjwheEIAAMB3jiF4QgAAgN3gIXhCAABAQzMieEIAAACphSJ4QgAAwA7YInhCAACAdCojeEIAAEDafCN4QgAAAEDPI3hCAADApSEkeEIAAIALdCR4QgAAQHHGJHhCAAAA1xgleEIAAMA8ayV4QgAAgKK9JXhCAABACBAmeEIAAABuYiZ4QgAAwNO0JnhCAACAOQcneEIAAECfWSd4QgAAAAWsJ3hCAADAav4neEIAAIDQUCh4QgAAQDajKHhCAAAAnPUoeEIAAMABSCl4QgAAgGeaKXhCAABAzewpeEIAAAAzPyp4QgAAwJiRKnhCAACA/uMqeEIAAEBkNit4QgAAAMqIK3hCAADAL9sreEIAAICVLSx4QgAAQPt/LHhCAAAAYdIseEIAAMDGJC14QgAAgCx3LXhCAABAkskteEIAAAD4Gy54QgAAwF1uLnhCAACAw8AueEIAAEApEy94QgAAAI9lL3hCAADA9LcveEIAAIBaCjB4QgAAQMBcMHhCAAAAJq8weEIAAMCLATF4QgAAgPFTMXhCAABAV6YxeEIAAAC9+DF4QgAAwCJLMnhCAACAiJ0yeEIAAEDu7zJ4QgAAAFRCM3hCAADAuZQzeEIAAIAf5zN4QgAAQIU5NHhCAAAA64s0eEIAAMBQ3jR4QgAAgLYwNXhCAABAHIM1eEIAAACC1TV4QgAAwOcnNnhCAACATXo2eEIAAECzzDZ4QgAAABkfN3hCAADAfnE3eEIAAIDkwzd4QgAAQEoWOHhCAAAAsGg4eEIAAMAVuzh4QgAAgHsNOXhCAABA4V85eEIAAABHsjl4QgAAwKwEOnhCAACAElc6eEIAAEB4qTp4QgAAAN77OnhCAADAQ047eEIAAICpoDt4QgAAQA/zO3hCAAAAdUU8eEIAAMDalzx4QgAAgEDqPHhCAABApjw9eEIAAAAMjz14QgAAwHHhPXhCAACA1zM+eEIAAEA9hj54QgAAAKPYPnhCAADACCs/eEIAAIBufT94QgAAQNTPP3hCAAAAOiJAeEIAAMCfdEB4QgAAgAXHQHhCAABAaxlBeEIAAADRa0F4QgAAwDa+QXhCAACAnBBCeEIAAEACY0J4QgAAAGi1QnhCAADAzQdDeEIAAIAzWkN4QgAAQJmsQ3hCAAAA//5DeEIAAMBkUUR4QgAAgMqjRHhCAABAMPZEeEIAAACWSEV4QgAAwPuaRXhCAACAYe1FeEIAAEDHP0Z4QgAAAC2SRnhCAADAkuRGeEIAAID4Nkd4QgAAQF6JR3hCAAAAxNtHeEIAAMApLkh4QgAAgI+ASHhCAABA9dJIeEIAAABbJUl4QgAAwMB3SXhCAACAJspJeEIAAECMHEp4QgAAAPJuSnhCAADAV8FKeEIAAIC9E0t4QgAAQCNmS3hCAAAAibhLeEIAAMDuCkx4QgAAgFRdTHhCAABAuq9MeEIAAAAgAk14QgAAwIVUTXhCAACA66ZNeEIAAEBR+U14QgAAALdLTnhCAADAHJ5OeEIAAICC8E54QgAAQOhCT3hCAAAATpVPeEIAAMCz5094QgAAgBk6UHhCAABAf4xQeEIAAADl3lB4QgAAwEoxUXhCAACAsINReEIAAEAW1lF4QgAAAHwoUnhCAADA4XpSeEIAAIBHzVJ4QgAAQK0fU3hCAAAAE3JTeEIAAMB4xFN4QgAAgN4WVHhCAABARGlUeEIAAACqu1R4QgAAwA8OVXhCAACAdWBVeEIAAEDbslV4QgAAAEEFVnhCAADApldWeEIAAIAMqlZ4QgAAQHL8VnhCAAAA2E5XeEIAAMA9oVd4QgAAgKPzV3hCAABACUZYeEIAAABvmFh4QgAAwNTqWHhCAACAOj1ZeEIAAECgj1l4QgAAAAbiWXhCAADAazRaeEIAAIDRhlp4QgAAQDfZWnhCAAAAnStbeEIAAMACflt4QgAAgGjQW3hCAABAziJceEIAAAA0dVx4QgAAwJnHXHhCAACA/xldeEIAAEBlbF14QgAAAMu+XXhCAADAMBFeeEIAAICWY154QgAAQPy1XnhCAAAAYghfeEIAAMDHWl94QgAAgC2tX3hCAABAk/9feEIAAAD5UWB4QgAAwF6kYHhCAACAxPZgeEIAAEAqSWF4QgAAAJCbYXhCAADA9e1heEIAAIBbQGJ4QgAAQMGSYnhCAAAAJ+VieEIAAMCMN2N4QgAAgPKJY3hCAABAWNxjeEIAAAC+LmR4QgAAwCOBZHhCAACAidNkeEIAAEDvJWV4QgAAAFV4ZXhCAADAuspleEIAAIAgHWZ4QgAAQIZvZnhCAAAA7MFmeEIAAMBRFGd4QgAAgLdmZ3hCAABAHblneEIAAACDC2h4QgAAwOhdaHhCAACATrBoeEIAAEC0Aml4QgAAABpVaXhCAADAf6dpeEIAAIDl+Wl4QgAAQEtManhCAAAAsZ5qeEIAAMAW8Wp4QgAAgHxDa3hCAABA4pVreEIAAABI6Gt4QgAAwK06bHhCAACAE41seEIAAEB532x4QgAAAN8xbXhC\"},\"shape\":[267],\"dtype\":\"float64\",\"order\":\"little\"}],[\"inc\",{\"type\":\"ndarray\",\"array\":[\"1\",\"0\",\"1\",\"0\",\"1\",\"1\",\"1\",\"0\",\"0\",\"0\",\"0\",\"0\",\"0\",\"0\",\"1\",\"1\",\"0\",\"1\",\"1\",\"0\",\"0\",\"0\",\"0\",\"0\",\"1\",\"1\",\"1\",\"1\",\"0\",\"1\",\"1\",\"0\",\"0\",\"0\",\"0\",\"1\",\"0\",\"0\",\"1\",\"1\",\"0\",\"0\",\"0\",\"0\",\"0\",\"0\",\"0\",\"1\",\"0\",\"1\",\"1\",\"0\",\"1\",\"0\",\"1\",\"1\",\"0\",\"0\",\"0\",\"0\",\"0\",\"0\",\"1\",\"1\",\"0\",\"1\",\"0\",\"1\",\"0\",\"0\",\"0\",\"1\",\"0\",\"1\",\"1\",\"0\",\"0\",\"1\",\"0\",\"0\",\"1\",\"1\",\"1\",\"1\",\"1\",\"1\",\"0\",\"1\",\"0\",\"1\",\"1\",\"0\",\"1\",\"0\",\"0\",\"1\",\"0\",\"0\",\"0\",\"1\",\"0\",\"1\",\"1\",\"0\",\"0\",\"0\",\"1\",\"1\",\"0\",\"0\",\"0\",\"0\",\"1\",\"0\",\"0\",\"1\",\"1\",\"0\",\"0\",\"1\",\"1\",\"0\",\"0\",\"0\",\"1\",\"1\",\"1\",\"0\",\"1\",\"1\",\"0\",\"1\",\"1\",\"0\",\"0\",\"0\",\"0\",\"1\",\"1\",\"1\",\"0\",\"0\",\"0\",\"0\",\"1\",\"0\",\"0\",\"0\",\"1\",\"1\",\"0\",\"1\",\"1\",\"1\",\"0\",\"0\",\"1\",\"1\",\"0\",\"0\",\"0\",\"0\",\"0\",\"1\",\"1\",\"0\",\"1\",\"0\",\"1\",\"0\",\"1\",\"0\",\"1\",\"0\",\"0\",\"0\",\"1\",\"1\",\"1\",\"0\",\"0\",\"1\",\"0\",\"0\",\"1\",\"0\",\"0\",\"0\",\"1\",\"0\",\"1\",\"0\",\"0\",\"1\",\"0\",\"0\",\"1\",\"1\",\"1\",\"1\",\"0\",\"1\",\"0\",\"1\",\"1\",\"1\",\"1\",\"1\",\"1\",\"1\",\"0\",\"1\",\"0\",\"0\",\"1\",\"1\",\"1\",\"0\",\"1\",\"0\",\"1\",\"0\",\"1\",\"0\",\"1\",\"0\",\"1\",\"1\",\"0\",\"0\",\"0\",\"0\",\"0\",\"1\",\"0\",\"0\",\"0\",\"1\",\"0\",\"0\",\"1\",\"1\",\"0\",\"1\",\"1\",\"0\",\"1\",\"0\",\"0\",\"0\",\"0\",\"0\",\"1\",\"0\",\"0\",\"1\",\"0\",\"0\",\"0\",\"1\",\"0\",\"0\",\"0\",\"0\",\"0\",\"1\",\"1\"],\"shape\":[267],\"dtype\":\"object\",\"order\":\"little\"}],[\"equity\",{\"type\":\"ndarray\",\"array\":{\"type\":\"bytes\",\"data\":\"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\"},\"shape\":[267],\"dtype\":\"float64\",\"order\":\"little\"}],[\"lb_close_2_1\",{\"type\":\"ndarray\",\"array\":{\"type\":\"bytes\",\"data\":\"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\"},\"shape\":[267],\"dtype\":\"float64\",\"order\":\"little\"}],[\"lb_low_3_1\",{\"type\":\"ndarray\",\"array\":{\"type\":\"bytes\",\"data\":\"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\"},\"shape\":[267],\"dtype\":\"float64\",\"order\":\"little\"}],[\"ohlc_low\",{\"type\":\"ndarray\",\"array\":{\"type\":\"bytes\",\"data\":\"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\"},\"shape\":[267],\"dtype\":\"float64\",\"order\":\"little\"}],[\"ohlc_high\",{\"type\":\"ndarray\",\"array\":{\"type\":\"bytes\",\"data\":\"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\"},\"shape\":[267],\"dtype\":\"float64\",\"order\":\"little\"}]]}}},\"view\":{\"type\":\"object\",\"name\":\"CDSView\",\"id\":\"p1090\",\"attributes\":{\"filter\":{\"type\":\"object\",\"name\":\"AllIndices\",\"id\":\"p1091\"}}},\"glyph\":{\"type\":\"object\",\"name\":\"Line\",\"id\":\"p1086\",\"attributes\":{\"x\":{\"type\":\"field\",\"field\":\"index\"},\"y\":{\"type\":\"field\",\"field\":\"equity\"},\"line_color\":\"#1f77b4\",\"line_width\":1.5}},\"nonselection_glyph\":{\"type\":\"object\",\"name\":\"Line\",\"id\":\"p1087\",\"attributes\":{\"x\":{\"type\":\"field\",\"field\":\"index\"},\"y\":{\"type\":\"field\",\"field\":\"equity\"},\"line_color\":\"#1f77b4\",\"line_alpha\":0.1,\"line_width\":1.5}},\"muted_glyph\":{\"type\":\"object\",\"name\":\"Line\",\"id\":\"p1088\",\"attributes\":{\"x\":{\"type\":\"field\",\"field\":\"index\"},\"y\":{\"type\":\"field\",\"field\":\"equity\"},\"line_color\":\"#1f77b4\",\"line_alpha\":0.2,\"line_width\":1.5}}}}],\"tooltips\":[[\"Date\",\"@datetime{%c}\"],[\"Equity\",\"@equity{+0,0.[000]%}\"]],\"formatters\":{\"type\":\"map\",\"entries\":[[\"@datetime\",\"datetime\"]]},\"mode\":\"vline\",\"point_policy\":\"follow_mouse\"}},{\"type\":\"object\",\"name\":\"HoverTool\",\"id\":\"p1183\",\"attributes\":{\"renderers\":[{\"type\":\"object\",\"name\":\"GlyphRenderer\",\"id\":\"p1171\",\"attributes\":{\"data_source\":{\"type\":\"object\",\"name\":\"ColumnDataSource\",\"id\":\"p1034\",\"attributes\":{\"selected\":{\"type\":\"object\",\"name\":\"Selection\",\"id\":\"p1035\",\"attributes\":{\"indices\":[],\"line_indices\":[]}},\"selection_policy\":{\"type\":\"object\",\"name\":\"UnionRenderers\",\"id\":\"p1036\"},\"data\":{\"type\":\"map\",\"entries\":[[\"index\",{\"type\":\"ndarray\",\"array\":{\"type\":\"bytes\",\"data\":\"JAAAADkAAACNAAAA4QAAAAoBAAA=\"},\"shape\":[5],\"dtype\":\"int32\",\"order\":\"little\"}],[\"datetime\",{\"type\":\"ndarray\",\"array\":{\"type\":\"bytes\",\"data\":\"AACAdCojeEIAAEDN7Cl4QgAAQDD2RHhCAABAk/9feEIAAADfMW14Qg==\"},\"shape\":[5],\"dtype\":\"float64\",\"order\":\"little\"}],[\"exit_price\",{\"type\":\"ndarray\",\"array\":{\"type\":\"bytes\",\"data\":\"QfM0WQeNlj+jttCZHliYP09qHzoeHZU/2v8KOH3slz/elXbNWPKUPw==\"},\"shape\":[5],\"dtype\":\"float64\",\"order\":\"little\"}],[\"size\",{\"type\":\"ndarray\",\"array\":{\"type\":\"bytes\",\"data\":\"rTIBAEcLAQC2MgEAE2oBAJALAQA=\"},\"shape\":[5],\"dtype\":\"int32\",\"order\":\"little\"}],[\"returns_positive\",{\"type\":\"ndarray\",\"array\":[\"1\",\"1\",\"1\",\"1\",\"0\"],\"shape\":[5],\"dtype\":\"object\",\"order\":\"little\"}],[\"returns_long\",{\"type\":\"ndarray\",\"array\":{\"type\":\"bytes\",\"data\":\"EFdnUngmtz/A6GGtwXmaP8AwBE1XjpU//D7HwOlo1z+o4dbZ68a9vw==\"},\"shape\":[5],\"dtype\":\"float64\",\"order\":\"little\"}],[\"returns_short\",{\"type\":\"ndarray\",\"array\":{\"type\":\"bytes\",\"data\":\"AAAAAAAA+H8AAAAAAAD4fwAAAAAAAPh/AAAAAAAA+H8AAAAAAAD4fw==\"},\"shape\":[5],\"dtype\":\"float64\",\"order\":\"little\"}],[\"marker_size\",{\"type\":\"ndarray\",\"array\":{\"type\":\"bytes\",\"data\":\"kjc5fID5KUAAAAAAAAAgQDR3rcvH+ylAAAAAAAAANEDldZJLexIgQA==\"},\"shape\":[5],\"dtype\":\"float64\",\"order\":\"little\"}],[\"position_lines_xs\",[[17,36],[52,57],[87,141],[171,225],[227,266]]],[\"position_lines_ys\",[[0.020196015839999998,0.022022356815102787],[0.023174471319999997,0.023773649347438874],[0.020193793619999997,0.02061888913872628],[0.01710604896,0.02336307196196672],[0.023148255129999996,0.02045573]]]]}}},\"view\":{\"type\":\"object\",\"name\":\"CDSView\",\"id\":\"p1172\",\"attributes\":{\"filter\":{\"type\":\"object\",\"name\":\"AllIndices\",\"id\":\"p1173\"}}},\"glyph\":{\"type\":\"object\",\"name\":\"Scatter\",\"id\":\"p1168\",\"attributes\":{\"x\":{\"type\":\"field\",\"field\":\"index\"},\"y\":{\"type\":\"field\",\"field\":\"returns_long\"},\"size\":{\"type\":\"field\",\"field\":\"marker_size\"},\"fill_color\":{\"type\":\"field\",\"field\":\"returns_positive\",\"transform\":{\"type\":\"object\",\"name\":\"CategoricalColorMapper\",\"id\":\"p1038\",\"attributes\":{\"palette\":[\"tomato\",\"lime\"],\"factors\":[\"0\",\"1\"]}}},\"marker\":{\"type\":\"value\",\"value\":\"triangle\"}}},\"nonselection_glyph\":{\"type\":\"object\",\"name\":\"Scatter\",\"id\":\"p1169\",\"attributes\":{\"x\":{\"type\":\"field\",\"field\":\"index\"},\"y\":{\"type\":\"field\",\"field\":\"returns_long\"},\"size\":{\"type\":\"field\",\"field\":\"marker_size\"},\"line_alpha\":{\"type\":\"value\",\"value\":0.1},\"fill_color\":{\"type\":\"field\",\"field\":\"returns_positive\",\"transform\":{\"id\":\"p1038\"}},\"fill_alpha\":{\"type\":\"value\",\"value\":0.1},\"hatch_alpha\":{\"type\":\"value\",\"value\":0.1},\"marker\":{\"type\":\"value\",\"value\":\"triangle\"}}},\"muted_glyph\":{\"type\":\"object\",\"name\":\"Scatter\",\"id\":\"p1170\",\"attributes\":{\"x\":{\"type\":\"field\",\"field\":\"index\"},\"y\":{\"type\":\"field\",\"field\":\"returns_long\"},\"size\":{\"type\":\"field\",\"field\":\"marker_size\"},\"line_alpha\":{\"type\":\"value\",\"value\":0.2},\"fill_color\":{\"type\":\"field\",\"field\":\"returns_positive\",\"transform\":{\"id\":\"p1038\"}},\"fill_alpha\":{\"type\":\"value\",\"value\":0.2},\"hatch_alpha\":{\"type\":\"value\",\"value\":0.2},\"marker\":{\"type\":\"value\",\"value\":\"triangle\"}}}}}],\"tooltips\":[[\"Date\",\"@datetime{%c}\"],[\"Size\",\"@size{0,0}\"],[\"P/L\",\"@returns_long{+0.[000]%}\"]],\"formatters\":{\"type\":\"map\",\"entries\":[[\"@datetime\",\"datetime\"]]},\"point_policy\":\"follow_mouse\"}},{\"type\":\"object\",\"name\":\"HoverTool\",\"id\":\"p1184\",\"attributes\":{\"renderers\":[{\"type\":\"object\",\"name\":\"GlyphRenderer\",\"id\":\"p1180\",\"attributes\":{\"data_source\":{\"id\":\"p1034\"},\"view\":{\"type\":\"object\",\"name\":\"CDSView\",\"id\":\"p1181\",\"attributes\":{\"filter\":{\"type\":\"object\",\"name\":\"AllIndices\",\"id\":\"p1182\"}}},\"glyph\":{\"type\":\"object\",\"name\":\"Scatter\",\"id\":\"p1177\",\"attributes\":{\"x\":{\"type\":\"field\",\"field\":\"index\"},\"y\":{\"type\":\"field\",\"field\":\"returns_short\"},\"size\":{\"type\":\"field\",\"field\":\"marker_size\"},\"fill_color\":{\"type\":\"field\",\"field\":\"returns_positive\",\"transform\":{\"id\":\"p1038\"}},\"marker\":{\"type\":\"value\",\"value\":\"inverted_triangle\"}}},\"nonselection_glyph\":{\"type\":\"object\",\"name\":\"Scatter\",\"id\":\"p1178\",\"attributes\":{\"x\":{\"type\":\"field\",\"field\":\"index\"},\"y\":{\"type\":\"field\",\"field\":\"returns_short\"},\"size\":{\"type\":\"field\",\"field\":\"marker_size\"},\"line_alpha\":{\"type\":\"value\",\"value\":0.1},\"fill_color\":{\"type\":\"field\",\"field\":\"returns_positive\",\"transform\":{\"id\":\"p1038\"}},\"fill_alpha\":{\"type\":\"value\",\"value\":0.1},\"hatch_alpha\":{\"type\":\"value\",\"value\":0.1},\"marker\":{\"type\":\"value\",\"value\":\"inverted_triangle\"}}},\"muted_glyph\":{\"type\":\"object\",\"name\":\"Scatter\",\"id\":\"p1179\",\"attributes\":{\"x\":{\"type\":\"field\",\"field\":\"index\"},\"y\":{\"type\":\"field\",\"field\":\"returns_short\"},\"size\":{\"type\":\"field\",\"field\":\"marker_size\"},\"line_alpha\":{\"type\":\"value\",\"value\":0.2},\"fill_color\":{\"type\":\"field\",\"field\":\"returns_positive\",\"transform\":{\"id\":\"p1038\"}},\"fill_alpha\":{\"type\":\"value\",\"value\":0.2},\"hatch_alpha\":{\"type\":\"value\",\"value\":0.2},\"marker\":{\"type\":\"value\",\"value\":\"inverted_triangle\"}}}}}],\"tooltips\":[[\"Date\",\"@datetime{%c}\"],[\"Size\",\"@size{0,0}\"],[\"P/L\",\"@returns_short{+0.[000]%}\"]],\"formatters\":{\"type\":\"map\",\"entries\":[[\"@datetime\",\"datetime\"]]},\"point_policy\":\"follow_mouse\"}},{\"type\":\"object\",\"name\":\"HoverTool\",\"id\":\"p1297\",\"attributes\":{\"renderers\":[{\"type\":\"object\",\"name\":\"GlyphRenderer\",\"id\":\"p1263\",\"attributes\":{\"data_source\":{\"id\":\"p1031\"},\"view\":{\"type\":\"object\",\"name\":\"CDSView\",\"id\":\"p1264\",\"attributes\":{\"filter\":{\"type\":\"object\",\"name\":\"AllIndices\",\"id\":\"p1265\"}}},\"glyph\":{\"type\":\"object\",\"name\":\"VBar\",\"id\":\"p1260\",\"attributes\":{\"x\":{\"type\":\"field\",\"field\":\"index\"},\"width\":{\"type\":\"value\",\"value\":0.8},\"bottom\":{\"type\":\"field\",\"field\":\"Close\"},\"top\":{\"type\":\"field\",\"field\":\"Open\"},\"fill_color\":{\"type\":\"field\",\"field\":\"inc\",\"transform\":{\"type\":\"object\",\"name\":\"CategoricalColorMapper\",\"id\":\"p1037\",\"attributes\":{\"palette\":[\"tomato\",\"lime\"],\"factors\":[\"0\",\"1\"]}}}}},\"nonselection_glyph\":{\"type\":\"object\",\"name\":\"VBar\",\"id\":\"p1261\",\"attributes\":{\"x\":{\"type\":\"field\",\"field\":\"index\"},\"width\":{\"type\":\"value\",\"value\":0.8},\"bottom\":{\"type\":\"field\",\"field\":\"Close\"},\"top\":{\"type\":\"field\",\"field\":\"Open\"},\"line_alpha\":{\"type\":\"value\",\"value\":0.1},\"fill_color\":{\"type\":\"field\",\"field\":\"inc\",\"transform\":{\"id\":\"p1037\"}},\"fill_alpha\":{\"type\":\"value\",\"value\":0.1},\"hatch_alpha\":{\"type\":\"value\",\"value\":0.1}}},\"muted_glyph\":{\"type\":\"object\",\"name\":\"VBar\",\"id\":\"p1262\",\"attributes\":{\"x\":{\"type\":\"field\",\"field\":\"index\"},\"width\":{\"type\":\"value\",\"value\":0.8},\"bottom\":{\"type\":\"field\",\"field\":\"Close\"},\"top\":{\"type\":\"field\",\"field\":\"Open\"},\"line_alpha\":{\"type\":\"value\",\"value\":0.2},\"fill_color\":{\"type\":\"field\",\"field\":\"inc\",\"transform\":{\"id\":\"p1037\"}},\"fill_alpha\":{\"type\":\"value\",\"value\":0.2},\"hatch_alpha\":{\"type\":\"value\",\"value\":0.2}}}}}],\"tooltips\":[[\"Date\",\"@datetime{%c}\"],[\"x, y\",\"$index\\u00a0\\u00a0\\u00a0\\u00a0$y{0,0.0[0000]}\"],[\"OHLC\",\"@Open{0,0.0[0000]}\\u00a0\\u00a0\\u00a0\\u00a0@High{0,0.0[0000]}\\u00a0\\u00a0\\u00a0\\u00a0@Low{0,0.0[0000]}\\u00a0\\u00a0\\u00a0\\u00a0@Close{0,0.0[0000]}\"],[\"Volume\",\"@Volume{0,0}\"],[\"lb_close\",\"@{lb_close_2_1}{0,0.0[0000]}\"],[\"lb_low\",\"@{lb_low_3_1}{0,0.0[0000]}\"]],\"formatters\":{\"type\":\"map\",\"entries\":[[\"@datetime\",\"datetime\"]]},\"mode\":\"vline\",\"point_policy\":\"follow_mouse\"}},{\"type\":\"object\",\"name\":\"HoverTool\",\"id\":\"p1224\",\"attributes\":{\"renderers\":[{\"type\":\"object\",\"name\":\"GlyphRenderer\",\"id\":\"p1221\",\"attributes\":{\"data_source\":{\"id\":\"p1031\"},\"view\":{\"type\":\"object\",\"name\":\"CDSView\",\"id\":\"p1222\",\"attributes\":{\"filter\":{\"type\":\"object\",\"name\":\"AllIndices\",\"id\":\"p1223\"}}},\"glyph\":{\"type\":\"object\",\"name\":\"VBar\",\"id\":\"p1218\",\"attributes\":{\"x\":{\"type\":\"field\",\"field\":\"index\"},\"width\":{\"type\":\"value\",\"value\":0.8},\"top\":{\"type\":\"field\",\"field\":\"Volume\"},\"line_color\":{\"type\":\"field\",\"field\":\"inc\",\"transform\":{\"id\":\"p1037\"}},\"fill_color\":{\"type\":\"field\",\"field\":\"inc\",\"transform\":{\"id\":\"p1037\"}},\"hatch_color\":{\"type\":\"field\",\"field\":\"inc\",\"transform\":{\"id\":\"p1037\"}}}},\"nonselection_glyph\":{\"type\":\"object\",\"name\":\"VBar\",\"id\":\"p1219\",\"attributes\":{\"x\":{\"type\":\"field\",\"field\":\"index\"},\"width\":{\"type\":\"value\",\"value\":0.8},\"top\":{\"type\":\"field\",\"field\":\"Volume\"},\"line_color\":{\"type\":\"field\",\"field\":\"inc\",\"transform\":{\"id\":\"p1037\"}},\"line_alpha\":{\"type\":\"value\",\"value\":0.1},\"fill_color\":{\"type\":\"field\",\"field\":\"inc\",\"transform\":{\"id\":\"p1037\"}},\"fill_alpha\":{\"type\":\"value\",\"value\":0.1},\"hatch_color\":{\"type\":\"field\",\"field\":\"inc\",\"transform\":{\"id\":\"p1037\"}},\"hatch_alpha\":{\"type\":\"value\",\"value\":0.1}}},\"muted_glyph\":{\"type\":\"object\",\"name\":\"VBar\",\"id\":\"p1220\",\"attributes\":{\"x\":{\"type\":\"field\",\"field\":\"index\"},\"width\":{\"type\":\"value\",\"value\":0.8},\"top\":{\"type\":\"field\",\"field\":\"Volume\"},\"line_color\":{\"type\":\"field\",\"field\":\"inc\",\"transform\":{\"id\":\"p1037\"}},\"line_alpha\":{\"type\":\"value\",\"value\":0.2},\"fill_color\":{\"type\":\"field\",\"field\":\"inc\",\"transform\":{\"id\":\"p1037\"}},\"fill_alpha\":{\"type\":\"value\",\"value\":0.2},\"hatch_color\":{\"type\":\"field\",\"field\":\"inc\",\"transform\":{\"id\":\"p1037\"}},\"hatch_alpha\":{\"type\":\"value\",\"value\":0.2}}}}}],\"tooltips\":[[\"Date\",\"@datetime{%c}\"],[\"Volume\",\"@Volume{0.00 a}\"]],\"formatters\":{\"type\":\"map\",\"entries\":[[\"@datetime\",\"datetime\"]]},\"mode\":\"vline\",\"point_policy\":\"follow_mouse\"}},{\"type\":\"object\",\"name\":\"ToolProxy\",\"id\":\"p1307\",\"attributes\":{\"tools\":[{\"type\":\"object\",\"name\":\"CrosshairTool\",\"id\":\"p1299\"},{\"id\":\"p1299\"},{\"id\":\"p1299\"},{\"id\":\"p1299\"}]}}]}},\"toolbar_location\":\"right\",\"children\":[[{\"type\":\"object\",\"name\":\"Figure\",\"id\":\"p1042\",\"attributes\":{\"width\":null,\"height\":110,\"sizing_mode\":\"stretch_width\",\"x_range\":{\"type\":\"object\",\"name\":\"Range1d\",\"id\":\"p1001\",\"attributes\":{\"js_property_callbacks\":{\"type\":\"map\",\"entries\":[[\"change:end\",[{\"type\":\"object\",\"name\":\"CustomJS\",\"id\":\"p1298\",\"attributes\":{\"args\":{\"type\":\"map\",\"entries\":[[\"ohlc_range\",{\"type\":\"object\",\"name\":\"DataRange1d\",\"id\":\"p1004\"}],[\"source\",{\"id\":\"p1031\"}],[\"volume_range\",{\"type\":\"object\",\"name\":\"DataRange1d\",\"id\":\"p1188\"}]]},\"code\":\"if (!window._bt_scale_range) {\\n    window._bt_scale_range = function (range, min, max, pad) {\\n        \\\"use strict\\\";\\n        if (min !== Infinity && max !== -Infinity) {\\n            pad = pad ? (max - min) * .03 : 0;\\n            range.start = min - pad;\\n            range.end = max + pad;\\n        } else console.error('backtesting: scale range error:', min, max, range);\\n    };\\n}\\n\\nclearTimeout(window._bt_autoscale_timeout);\\n\\nwindow._bt_autoscale_timeout = setTimeout(function () {\\n    /**\\n     * @variable cb_obj `fig_ohlc.x_range`.\\n     * @variable source `ColumnDataSource`\\n     * @variable ohlc_range `fig_ohlc.y_range`.\\n     * @variable volume_range `fig_volume.y_range`.\\n     */\\n    \\\"use strict\\\";\\n\\n    let i = Math.max(Math.floor(cb_obj.start), 0),\\n        j = Math.min(Math.ceil(cb_obj.end), source.data['ohlc_high'].length);\\n\\n    let max = Math.max.apply(null, source.data['ohlc_high'].slice(i, j)),\\n        min = Math.min.apply(null, source.data['ohlc_low'].slice(i, j));\\n    _bt_scale_range(ohlc_range, min, max, true);\\n\\n    if (volume_range) {\\n        max = Math.max.apply(null, source.data['Volume'].slice(i, j));\\n        _bt_scale_range(volume_range, 0, max * 1.03, false);\\n    }\\n\\n}, 50);\\n\"}}]]]},\"end\":266,\"bounds\":[-13.3,279.3],\"min_interval\":10}},\"y_range\":{\"type\":\"object\",\"name\":\"DataRange1d\",\"id\":\"p1044\"},\"x_scale\":{\"type\":\"object\",\"name\":\"LinearScale\",\"id\":\"p1051\"},\"y_scale\":{\"type\":\"object\",\"name\":\"LinearScale\",\"id\":\"p1052\"},\"title\":{\"type\":\"object\",\"name\":\"Title\",\"id\":\"p1049\"},\"outline_line_color\":\"#666666\",\"renderers\":[{\"type\":\"object\",\"name\":\"GlyphRenderer\",\"id\":\"p1080\",\"attributes\":{\"data_source\":{\"type\":\"object\",\"name\":\"ColumnDataSource\",\"id\":\"p1071\",\"attributes\":{\"selected\":{\"type\":\"object\",\"name\":\"Selection\",\"id\":\"p1072\",\"attributes\":{\"indices\":[],\"line_indices\":[]}},\"selection_policy\":{\"type\":\"object\",\"name\":\"UnionRenderers\",\"id\":\"p1073\"},\"data\":{\"type\":\"map\",\"entries\":[[\"index\",{\"type\":\"ndarray\",\"array\":{\"type\":\"bytes\",\"data\":\"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\"},\"shape\":[534],\"dtype\":\"int32\",\"order\":\"little\"}],[\"equity_dd\",{\"type\":\"ndarray\",\"array\":{\"type\":\"bytes\",\"data\":\"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\"},\"shape\":[534],\"dtype\":\"float64\",\"order\":\"little\"}]]}}},\"view\":{\"type\":\"object\",\"name\":\"CDSView\",\"id\":\"p1081\",\"attributes\":{\"filter\":{\"type\":\"object\",\"name\":\"AllIndices\",\"id\":\"p1082\"}}},\"glyph\":{\"type\":\"object\",\"name\":\"Patch\",\"id\":\"p1077\",\"attributes\":{\"x\":{\"type\":\"field\",\"field\":\"index\"},\"y\":{\"type\":\"field\",\"field\":\"equity_dd\"},\"line_color\":\"#ffcb66\",\"fill_color\":\"#ffffea\"}},\"nonselection_glyph\":{\"type\":\"object\",\"name\":\"Patch\",\"id\":\"p1078\",\"attributes\":{\"x\":{\"type\":\"field\",\"field\":\"index\"},\"y\":{\"type\":\"field\",\"field\":\"equity_dd\"},\"line_color\":\"#ffcb66\",\"line_alpha\":0.1,\"fill_color\":\"#ffffea\",\"fill_alpha\":0.1,\"hatch_alpha\":0.1}},\"muted_glyph\":{\"type\":\"object\",\"name\":\"Patch\",\"id\":\"p1079\",\"attributes\":{\"x\":{\"type\":\"field\",\"field\":\"index\"},\"y\":{\"type\":\"field\",\"field\":\"equity_dd\"},\"line_color\":\"#ffcb66\",\"line_alpha\":0.2,\"fill_color\":\"#ffffea\",\"fill_alpha\":0.2,\"hatch_alpha\":0.2}}}},{\"id\":\"p1089\"},{\"type\":\"object\",\"name\":\"GlyphRenderer\",\"id\":\"p1100\",\"attributes\":{\"data_source\":{\"type\":\"object\",\"name\":\"ColumnDataSource\",\"id\":\"p1094\",\"attributes\":{\"selected\":{\"type\":\"object\",\"name\":\"Selection\",\"id\":\"p1095\",\"attributes\":{\"indices\":[],\"line_indices\":[]}},\"selection_policy\":{\"type\":\"object\",\"name\":\"UnionRenderers\",\"id\":\"p1096\"},\"data\":{\"type\":\"map\"}}},\"view\":{\"type\":\"object\",\"name\":\"CDSView\",\"id\":\"p1101\",\"attributes\":{\"filter\":{\"type\":\"object\",\"name\":\"AllIndices\",\"id\":\"p1102\"}}},\"glyph\":{\"type\":\"object\",\"name\":\"Scatter\",\"id\":\"p1097\",\"attributes\":{\"x\":{\"type\":\"value\",\"value\":246},\"y\":{\"type\":\"value\",\"value\":1.5710984866349766},\"size\":{\"type\":\"value\",\"value\":8},\"line_color\":{\"type\":\"value\",\"value\":\"cyan\"},\"fill_color\":{\"type\":\"value\",\"value\":\"cyan\"},\"hatch_color\":{\"type\":\"value\",\"value\":\"cyan\"}}},\"nonselection_glyph\":{\"type\":\"object\",\"name\":\"Scatter\",\"id\":\"p1098\",\"attributes\":{\"x\":{\"type\":\"value\",\"value\":246},\"y\":{\"type\":\"value\",\"value\":1.5710984866349766},\"size\":{\"type\":\"value\",\"value\":8},\"line_color\":{\"type\":\"value\",\"value\":\"cyan\"},\"line_alpha\":{\"type\":\"value\",\"value\":0.1},\"fill_color\":{\"type\":\"value\",\"value\":\"cyan\"},\"fill_alpha\":{\"type\":\"value\",\"value\":0.1},\"hatch_color\":{\"type\":\"value\",\"value\":\"cyan\"},\"hatch_alpha\":{\"type\":\"value\",\"value\":0.1}}},\"muted_glyph\":{\"type\":\"object\",\"name\":\"Scatter\",\"id\":\"p1099\",\"attributes\":{\"x\":{\"type\":\"value\",\"value\":246},\"y\":{\"type\":\"value\",\"value\":1.5710984866349766},\"size\":{\"type\":\"value\",\"value\":8},\"line_color\":{\"type\":\"value\",\"value\":\"cyan\"},\"line_alpha\":{\"type\":\"value\",\"value\":0.2},\"fill_color\":{\"type\":\"value\",\"value\":\"cyan\"},\"fill_alpha\":{\"type\":\"value\",\"value\":0.2},\"hatch_color\":{\"type\":\"value\",\"value\":\"cyan\"},\"hatch_alpha\":{\"type\":\"value\",\"value\":0.2}}}}},{\"type\":\"object\",\"name\":\"GlyphRenderer\",\"id\":\"p1111\",\"attributes\":{\"data_source\":{\"type\":\"object\",\"name\":\"ColumnDataSource\",\"id\":\"p1105\",\"attributes\":{\"selected\":{\"type\":\"object\",\"name\":\"Selection\",\"id\":\"p1106\",\"attributes\":{\"indices\":[],\"line_indices\":[]}},\"selection_policy\":{\"type\":\"object\",\"name\":\"UnionRenderers\",\"id\":\"p1107\"},\"data\":{\"type\":\"map\"}}},\"view\":{\"type\":\"object\",\"name\":\"CDSView\",\"id\":\"p1112\",\"attributes\":{\"filter\":{\"type\":\"object\",\"name\":\"AllIndices\",\"id\":\"p1113\"}}},\"glyph\":{\"type\":\"object\",\"name\":\"Scatter\",\"id\":\"p1108\",\"attributes\":{\"x\":{\"type\":\"value\",\"value\":266},\"y\":{\"type\":\"value\",\"value\":1.3833137059349767},\"size\":{\"type\":\"value\",\"value\":8},\"line_color\":{\"type\":\"value\",\"value\":\"blue\"},\"fill_color\":{\"type\":\"value\",\"value\":\"blue\"},\"hatch_color\":{\"type\":\"value\",\"value\":\"blue\"}}},\"nonselection_glyph\":{\"type\":\"object\",\"name\":\"Scatter\",\"id\":\"p1109\",\"attributes\":{\"x\":{\"type\":\"value\",\"value\":266},\"y\":{\"type\":\"value\",\"value\":1.3833137059349767},\"size\":{\"type\":\"value\",\"value\":8},\"line_color\":{\"type\":\"value\",\"value\":\"blue\"},\"line_alpha\":{\"type\":\"value\",\"value\":0.1},\"fill_color\":{\"type\":\"value\",\"value\":\"blue\"},\"fill_alpha\":{\"type\":\"value\",\"value\":0.1},\"hatch_color\":{\"type\":\"value\",\"value\":\"blue\"},\"hatch_alpha\":{\"type\":\"value\",\"value\":0.1}}},\"muted_glyph\":{\"type\":\"object\",\"name\":\"Scatter\",\"id\":\"p1110\",\"attributes\":{\"x\":{\"type\":\"value\",\"value\":266},\"y\":{\"type\":\"value\",\"value\":1.3833137059349767},\"size\":{\"type\":\"value\",\"value\":8},\"line_color\":{\"type\":\"value\",\"value\":\"blue\"},\"line_alpha\":{\"type\":\"value\",\"value\":0.2},\"fill_color\":{\"type\":\"value\",\"value\":\"blue\"},\"fill_alpha\":{\"type\":\"value\",\"value\":0.2},\"hatch_color\":{\"type\":\"value\",\"value\":\"blue\"},\"hatch_alpha\":{\"type\":\"value\",\"value\":0.2}}}}},{\"type\":\"object\",\"name\":\"GlyphRenderer\",\"id\":\"p1121\",\"attributes\":{\"data_source\":{\"type\":\"object\",\"name\":\"ColumnDataSource\",\"id\":\"p1115\",\"attributes\":{\"selected\":{\"type\":\"object\",\"name\":\"Selection\",\"id\":\"p1116\",\"attributes\":{\"indices\":[],\"line_indices\":[]}},\"selection_policy\":{\"type\":\"object\",\"name\":\"UnionRenderers\",\"id\":\"p1117\"},\"data\":{\"type\":\"map\"}}},\"view\":{\"type\":\"object\",\"name\":\"CDSView\",\"id\":\"p1122\",\"attributes\":{\"filter\":{\"type\":\"object\",\"name\":\"AllIndices\",\"id\":\"p1123\"}}},\"glyph\":{\"type\":\"object\",\"name\":\"Scatter\",\"id\":\"p1118\",\"attributes\":{\"x\":{\"type\":\"value\",\"value\":264},\"y\":{\"type\":\"value\",\"value\":1.3702549435349767},\"size\":{\"type\":\"value\",\"value\":8},\"line_color\":{\"type\":\"value\",\"value\":\"red\"},\"fill_color\":{\"type\":\"value\",\"value\":\"red\"},\"hatch_color\":{\"type\":\"value\",\"value\":\"red\"}}},\"nonselection_glyph\":{\"type\":\"object\",\"name\":\"Scatter\",\"id\":\"p1119\",\"attributes\":{\"x\":{\"type\":\"value\",\"value\":264},\"y\":{\"type\":\"value\",\"value\":1.3702549435349767},\"size\":{\"type\":\"value\",\"value\":8},\"line_color\":{\"type\":\"value\",\"value\":\"red\"},\"line_alpha\":{\"type\":\"value\",\"value\":0.1},\"fill_color\":{\"type\":\"value\",\"value\":\"red\"},\"fill_alpha\":{\"type\":\"value\",\"value\":0.1},\"hatch_color\":{\"type\":\"value\",\"value\":\"red\"},\"hatch_alpha\":{\"type\":\"value\",\"value\":0.1}}},\"muted_glyph\":{\"type\":\"object\",\"name\":\"Scatter\",\"id\":\"p1120\",\"attributes\":{\"x\":{\"type\":\"value\",\"value\":264},\"y\":{\"type\":\"value\",\"value\":1.3702549435349767},\"size\":{\"type\":\"value\",\"value\":8},\"line_color\":{\"type\":\"value\",\"value\":\"red\"},\"line_alpha\":{\"type\":\"value\",\"value\":0.2},\"fill_color\":{\"type\":\"value\",\"value\":\"red\"},\"fill_alpha\":{\"type\":\"value\",\"value\":0.2},\"hatch_color\":{\"type\":\"value\",\"value\":\"red\"},\"hatch_alpha\":{\"type\":\"value\",\"value\":0.2}}}}},{\"type\":\"object\",\"name\":\"GlyphRenderer\",\"id\":\"p1131\",\"attributes\":{\"data_source\":{\"type\":\"object\",\"name\":\"ColumnDataSource\",\"id\":\"p1125\",\"attributes\":{\"selected\":{\"type\":\"object\",\"name\":\"Selection\",\"id\":\"p1126\",\"attributes\":{\"indices\":[],\"line_indices\":[]}},\"selection_policy\":{\"type\":\"object\",\"name\":\"UnionRenderers\",\"id\":\"p1127\"},\"data\":{\"type\":\"map\",\"entries\":[[\"x\",[30,137.89075913841933]]]}}},\"view\":{\"type\":\"object\",\"name\":\"CDSView\",\"id\":\"p1132\",\"attributes\":{\"filter\":{\"type\":\"object\",\"name\":\"AllIndices\",\"id\":\"p1133\"}}},\"glyph\":{\"type\":\"object\",\"name\":\"Line\",\"id\":\"p1128\",\"attributes\":{\"x\":{\"type\":\"field\",\"field\":\"x\"},\"y\":{\"type\":\"value\",\"value\":1.1570476449984002},\"line_color\":\"red\",\"line_width\":2}},\"nonselection_glyph\":{\"type\":\"object\",\"name\":\"Line\",\"id\":\"p1129\",\"attributes\":{\"x\":{\"type\":\"field\",\"field\":\"x\"},\"y\":{\"type\":\"value\",\"value\":1.1570476449984002},\"line_color\":\"red\",\"line_alpha\":0.1,\"line_width\":2}},\"muted_glyph\":{\"type\":\"object\",\"name\":\"Line\",\"id\":\"p1130\",\"attributes\":{\"x\":{\"type\":\"field\",\"field\":\"x\"},\"y\":{\"type\":\"value\",\"value\":1.1570476449984002},\"line_color\":\"red\",\"line_alpha\":0.2,\"line_width\":2}}}}],\"toolbar\":{\"type\":\"object\",\"name\":\"Toolbar\",\"id\":\"p1050\",\"attributes\":{\"tools\":[{\"id\":\"p1063\"},{\"id\":\"p1064\"},{\"id\":\"p1065\"},{\"id\":\"p1067\"},{\"id\":\"p1068\"},{\"id\":\"p1069\"},{\"type\":\"object\",\"name\":\"SaveTool\",\"id\":\"p1070\"},{\"id\":\"p1092\"},{\"id\":\"p1299\"}],\"active_drag\":{\"id\":\"p1063\"},\"active_scroll\":{\"id\":\"p1064\"}}},\"toolbar_location\":null,\"left\":[{\"type\":\"object\",\"name\":\"LinearAxis\",\"id\":\"p1058\",\"attributes\":{\"ticker\":{\"type\":\"object\",\"name\":\"BasicTicker\",\"id\":\"p1059\",\"attributes\":{\"mantissas\":[1,2,5]}},\"formatter\":{\"type\":\"object\",\"name\":\"NumeralTickFormatter\",\"id\":\"p1093\",\"attributes\":{\"format\":\"0,0.[00]%\"}},\"axis_label\":\"Equity\",\"major_label_policy\":{\"type\":\"object\",\"name\":\"AllLabels\",\"id\":\"p1061\"},\"minor_tick_line_color\":null}}],\"below\":[{\"type\":\"object\",\"name\":\"LinearAxis\",\"id\":\"p1053\",\"attributes\":{\"visible\":false,\"ticker\":{\"type\":\"object\",\"name\":\"BasicTicker\",\"id\":\"p1054\",\"attributes\":{\"mantissas\":[1,2,5]}},\"formatter\":{\"type\":\"object\",\"name\":\"BasicTickFormatter\",\"id\":\"p1055\"},\"major_label_policy\":{\"type\":\"object\",\"name\":\"AllLabels\",\"id\":\"p1056\"}}}],\"center\":[{\"type\":\"object\",\"name\":\"Grid\",\"id\":\"p1057\",\"attributes\":{\"axis\":{\"id\":\"p1053\"}}},{\"type\":\"object\",\"name\":\"Grid\",\"id\":\"p1062\",\"attributes\":{\"dimension\":1,\"axis\":{\"id\":\"p1058\"}}},{\"type\":\"object\",\"name\":\"Legend\",\"id\":\"p1103\",\"attributes\":{\"location\":\"top_left\",\"border_line_color\":\"#333333\",\"click_policy\":\"hide\",\"label_text_font_size\":\"8pt\",\"margin\":0,\"padding\":5,\"spacing\":0,\"items\":[{\"type\":\"object\",\"name\":\"LegendItem\",\"id\":\"p1104\",\"attributes\":{\"label\":{\"type\":\"value\",\"value\":\"Peak (157%)\"},\"renderers\":[{\"id\":\"p1100\"}]}},{\"type\":\"object\",\"name\":\"LegendItem\",\"id\":\"p1114\",\"attributes\":{\"label\":{\"type\":\"value\",\"value\":\"Final (138%)\"},\"renderers\":[{\"id\":\"p1111\"}]}},{\"type\":\"object\",\"name\":\"LegendItem\",\"id\":\"p1124\",\"attributes\":{\"label\":{\"type\":\"value\",\"value\":\"Max Drawdown (-12.8%)\"},\"renderers\":[{\"id\":\"p1121\"}]}},{\"type\":\"object\",\"name\":\"LegendItem\",\"id\":\"p1134\",\"attributes\":{\"label\":{\"type\":\"value\",\"value\":\"Max Dd Dur. (108 days)\"},\"renderers\":[{\"id\":\"p1131\"}]}}]}}],\"min_border_top\":3,\"min_border_bottom\":6,\"min_border_left\":0,\"min_border_right\":10}},0,0],[{\"type\":\"object\",\"name\":\"Figure\",\"id\":\"p1135\",\"attributes\":{\"width\":null,\"height\":90,\"sizing_mode\":\"stretch_width\",\"x_range\":{\"id\":\"p1001\"},\"y_range\":{\"type\":\"object\",\"name\":\"DataRange1d\",\"id\":\"p1137\"},\"x_scale\":{\"type\":\"object\",\"name\":\"LinearScale\",\"id\":\"p1144\"},\"y_scale\":{\"type\":\"object\",\"name\":\"LinearScale\",\"id\":\"p1145\"},\"title\":{\"type\":\"object\",\"name\":\"Title\",\"id\":\"p1142\"},\"outline_line_color\":\"#666666\",\"renderers\":[{\"id\":\"p1171\"},{\"id\":\"p1180\"}],\"toolbar\":{\"type\":\"object\",\"name\":\"Toolbar\",\"id\":\"p1143\",\"attributes\":{\"tools\":[{\"id\":\"p1156\"},{\"id\":\"p1157\"},{\"id\":\"p1158\"},{\"id\":\"p1160\"},{\"id\":\"p1161\"},{\"id\":\"p1162\"},{\"type\":\"object\",\"name\":\"SaveTool\",\"id\":\"p1163\"},{\"id\":\"p1183\"},{\"id\":\"p1184\"},{\"id\":\"p1299\"}],\"active_drag\":{\"id\":\"p1156\"},\"active_scroll\":{\"id\":\"p1157\"}}},\"toolbar_location\":null,\"left\":[{\"type\":\"object\",\"name\":\"LinearAxis\",\"id\":\"p1151\",\"attributes\":{\"ticker\":{\"type\":\"object\",\"name\":\"BasicTicker\",\"id\":\"p1152\",\"attributes\":{\"mantissas\":[1,2,5]}},\"formatter\":{\"type\":\"object\",\"name\":\"NumeralTickFormatter\",\"id\":\"p1185\",\"attributes\":{\"format\":\"0.[00]%\"}},\"axis_label\":\"Profit / Loss\",\"major_label_policy\":{\"type\":\"object\",\"name\":\"AllLabels\",\"id\":\"p1154\"},\"minor_tick_line_color\":null}}],\"below\":[{\"type\":\"object\",\"name\":\"LinearAxis\",\"id\":\"p1146\",\"attributes\":{\"visible\":false,\"ticker\":{\"type\":\"object\",\"name\":\"BasicTicker\",\"id\":\"p1147\",\"attributes\":{\"mantissas\":[1,2,5]}},\"formatter\":{\"type\":\"object\",\"name\":\"BasicTickFormatter\",\"id\":\"p1148\"},\"major_label_policy\":{\"type\":\"object\",\"name\":\"AllLabels\",\"id\":\"p1149\"}}}],\"center\":[{\"type\":\"object\",\"name\":\"Grid\",\"id\":\"p1150\",\"attributes\":{\"axis\":{\"id\":\"p1146\"}}},{\"type\":\"object\",\"name\":\"Grid\",\"id\":\"p1155\",\"attributes\":{\"dimension\":1,\"axis\":{\"id\":\"p1151\"}}},{\"type\":\"object\",\"name\":\"Span\",\"id\":\"p1164\",\"attributes\":{\"location\":0,\"line_color\":\"#666666\",\"line_dash\":[6]}}],\"min_border_top\":3,\"min_border_bottom\":6,\"min_border_left\":0,\"min_border_right\":10}},1,0],[{\"type\":\"object\",\"name\":\"Figure\",\"id\":\"p1002\",\"attributes\":{\"width\":null,\"height\":400,\"sizing_mode\":\"stretch_width\",\"x_range\":{\"id\":\"p1001\"},\"y_range\":{\"id\":\"p1004\"},\"x_scale\":{\"type\":\"object\",\"name\":\"LinearScale\",\"id\":\"p1011\"},\"y_scale\":{\"type\":\"object\",\"name\":\"LinearScale\",\"id\":\"p1012\"},\"title\":{\"type\":\"object\",\"name\":\"Title\",\"id\":\"p1009\"},\"outline_line_color\":\"#666666\",\"renderers\":[{\"type\":\"object\",\"name\":\"GlyphRenderer\",\"id\":\"p1235\",\"attributes\":{\"data_source\":{\"type\":\"object\",\"name\":\"ColumnDataSource\",\"id\":\"p1226\",\"attributes\":{\"selected\":{\"type\":\"object\",\"name\":\"Selection\",\"id\":\"p1227\",\"attributes\":{\"indices\":[],\"line_indices\":[]}},\"selection_policy\":{\"type\":\"object\",\"name\":\"UnionRenderers\",\"id\":\"p1228\"},\"data\":{\"type\":\"map\",\"entries\":[[\"index\",{\"type\":\"ndarray\",\"array\":{\"type\":\"bytes\",\"data\":\"AAAAAAAAFkAAAAAAAAA7QAAAAAAAAE1AAAAAAAAgVkAAAAAAAMBdQAAAAAAAsGJAAAAAAACAZkAAAAAAAGBqQAAAAAAAEG5AAAAAAABIcEA=\"},\"shape\":[10],\"dtype\":\"float64\",\"order\":\"little\"}],[\"Open\",{\"type\":\"ndarray\",\"array\":{\"type\":\"bytes\",\"data\":\"/GKEKhRtkz8LNAoPu2uUPzxsQ0EA25c/7xOLCJSHlD+eCANLheOTP27wrkiG+5Q/RMDfN9eTkT8d/KtkU/CQP5JTQzQdrpc/EPhPeWyylz8=\"},\"shape\":[10],\"dtype\":\"float64\",\"order\":\"little\"}],[\"High\",{\"type\":\"ndarray\",\"array\":{\"type\":\"bytes\",\"data\":\"Wwuz0M5plj/Z6Qd1kUKZP5VTjgv/0Jk//KiG/Z5Ylz+6oL5lTpeVPwO//AQG/5U/1NqPb0rUkj/4KseeHImYP0Jg5dAi25k/+n5qvHSTmD8=\"},\"shape\":[10],\"dtype\":\"float64\",\"order\":\"little\"}],[\"Low\",{\"type\":\"ndarray\",\"array\":{\"type\":\"bytes\",\"data\":\"VX9KtjZkkj9SCyWTUzuTPwXAeAYN/ZM/RFc77Z2Pkj9V+3Q8ZqCSP+aw+47hsY8/v3Vq032lkD+FK3fRHeWQP1jWiQ0O3ZU/E8LdOK0ElD8=\"},\"shape\":[10],\"dtype\":\"float64\",\"order\":\"little\"}],[\"Close\",{\"type\":\"ndarray\",\"array\":{\"type\":\"bytes\",\"data\":\"CzQKD7trlD9uB3Y+NNqXP8CQvBD+h5Q/nggDS4Xjkz9u8K5IhvuUP1bY62FYk5E/bUn9q33wkD+SU0M0Ha6XPxD4T3lsspc/9N45EGmGlj8=\"},\"shape\":[10],\"dtype\":\"float64\",\"order\":\"little\"}],[\"Volume\",{\"type\":\"ndarray\",\"array\":{\"type\":\"bytes\",\"data\":\"AAC2Ys4PbUIAEEMzCiGSQgB4/cyEtZRCAPRQ65vloUIA8L33GUibQgCSw9tpmqBCADjU0z0dlUIA6PrjLwWdQgCILywicZ9CAHDVchgnjEI=\"},\"shape\":[10],\"dtype\":\"float64\",\"order\":\"little\"}],[\"_width\",{\"type\":\"ndarray\",\"array\":{\"type\":\"bytes\",\"data\":\"zczMzMzMJ0BmZmZmZuY+QGZmZmZm5j5AZmZmZmbmPUBmZmZmZuY+QGZmZmZm5j1AZmZmZmbmPkBmZmZmZuY+QGZmZmZm5jtAzczMzMzMJ0A=\"},\"shape\":[10],\"dtype\":\"float64\",\"order\":\"little\"}],[\"inc\",{\"type\":\"ndarray\",\"array\":[\"1\",\"1\",\"0\",\"0\",\"1\",\"0\",\"0\",\"1\",\"1\",\"0\"],\"shape\":[10],\"dtype\":\"object\",\"order\":\"little\"}]]}}},\"view\":{\"type\":\"object\",\"name\":\"CDSView\",\"id\":\"p1236\",\"attributes\":{\"filter\":{\"type\":\"object\",\"name\":\"AllIndices\",\"id\":\"p1237\"}}},\"glyph\":{\"type\":\"object\",\"name\":\"Segment\",\"id\":\"p1232\",\"attributes\":{\"x0\":{\"type\":\"field\",\"field\":\"index\"},\"y0\":{\"type\":\"field\",\"field\":\"High\"},\"x1\":{\"type\":\"field\",\"field\":\"index\"},\"y1\":{\"type\":\"field\",\"field\":\"Low\"},\"line_color\":{\"type\":\"value\",\"value\":\"#bbbbbb\"}}},\"nonselection_glyph\":{\"type\":\"object\",\"name\":\"Segment\",\"id\":\"p1233\",\"attributes\":{\"x0\":{\"type\":\"field\",\"field\":\"index\"},\"y0\":{\"type\":\"field\",\"field\":\"High\"},\"x1\":{\"type\":\"field\",\"field\":\"index\"},\"y1\":{\"type\":\"field\",\"field\":\"Low\"},\"line_color\":{\"type\":\"value\",\"value\":\"#bbbbbb\"},\"line_alpha\":{\"type\":\"value\",\"value\":0.1}}},\"muted_glyph\":{\"type\":\"object\",\"name\":\"Segment\",\"id\":\"p1234\",\"attributes\":{\"x0\":{\"type\":\"field\",\"field\":\"index\"},\"y0\":{\"type\":\"field\",\"field\":\"High\"},\"x1\":{\"type\":\"field\",\"field\":\"index\"},\"y1\":{\"type\":\"field\",\"field\":\"Low\"},\"line_color\":{\"type\":\"value\",\"value\":\"#bbbbbb\"},\"line_alpha\":{\"type\":\"value\",\"value\":0.2}}}}},{\"type\":\"object\",\"name\":\"GlyphRenderer\",\"id\":\"p1245\",\"attributes\":{\"data_source\":{\"id\":\"p1226\"},\"view\":{\"type\":\"object\",\"name\":\"CDSView\",\"id\":\"p1246\",\"attributes\":{\"filter\":{\"type\":\"object\",\"name\":\"AllIndices\",\"id\":\"p1247\"}}},\"glyph\":{\"type\":\"object\",\"name\":\"VBar\",\"id\":\"p1242\",\"attributes\":{\"x\":{\"type\":\"field\",\"field\":\"index\"},\"width\":{\"type\":\"field\",\"field\":\"_width\"},\"bottom\":{\"type\":\"field\",\"field\":\"Close\"},\"top\":{\"type\":\"field\",\"field\":\"Open\"},\"line_color\":{\"type\":\"value\",\"value\":null},\"fill_color\":{\"type\":\"field\",\"field\":\"inc\",\"transform\":{\"type\":\"object\",\"name\":\"CategoricalColorMapper\",\"id\":\"p1238\",\"attributes\":{\"palette\":[\"rgb(255.0, 220.40869565217392, 214.20000000000002)\",\"rgb(214.20000000000005, 254.99999999999997, 214.20000000000005)\"],\"factors\":[\"0\",\"1\"]}}}}},\"nonselection_glyph\":{\"type\":\"object\",\"name\":\"VBar\",\"id\":\"p1243\",\"attributes\":{\"x\":{\"type\":\"field\",\"field\":\"index\"},\"width\":{\"type\":\"field\",\"field\":\"_width\"},\"bottom\":{\"type\":\"field\",\"field\":\"Close\"},\"top\":{\"type\":\"field\",\"field\":\"Open\"},\"line_color\":{\"type\":\"value\",\"value\":null},\"line_alpha\":{\"type\":\"value\",\"value\":0.1},\"fill_color\":{\"type\":\"field\",\"field\":\"inc\",\"transform\":{\"id\":\"p1238\"}},\"fill_alpha\":{\"type\":\"value\",\"value\":0.1},\"hatch_alpha\":{\"type\":\"value\",\"value\":0.1}}},\"muted_glyph\":{\"type\":\"object\",\"name\":\"VBar\",\"id\":\"p1244\",\"attributes\":{\"x\":{\"type\":\"field\",\"field\":\"index\"},\"width\":{\"type\":\"field\",\"field\":\"_width\"},\"bottom\":{\"type\":\"field\",\"field\":\"Close\"},\"top\":{\"type\":\"field\",\"field\":\"Open\"},\"line_color\":{\"type\":\"value\",\"value\":null},\"line_alpha\":{\"type\":\"value\",\"value\":0.2},\"fill_color\":{\"type\":\"field\",\"field\":\"inc\",\"transform\":{\"id\":\"p1238\"}},\"fill_alpha\":{\"type\":\"value\",\"value\":0.2},\"hatch_alpha\":{\"type\":\"value\",\"value\":0.2}}}}},{\"type\":\"object\",\"name\":\"GlyphRenderer\",\"id\":\"p1254\",\"attributes\":{\"data_source\":{\"id\":\"p1031\"},\"view\":{\"type\":\"object\",\"name\":\"CDSView\",\"id\":\"p1255\",\"attributes\":{\"filter\":{\"type\":\"object\",\"name\":\"AllIndices\",\"id\":\"p1256\"}}},\"glyph\":{\"type\":\"object\",\"name\":\"Segment\",\"id\":\"p1251\",\"attributes\":{\"x0\":{\"type\":\"field\",\"field\":\"index\"},\"y0\":{\"type\":\"field\",\"field\":\"High\"},\"x1\":{\"type\":\"field\",\"field\":\"index\"},\"y1\":{\"type\":\"field\",\"field\":\"Low\"}}},\"nonselection_glyph\":{\"type\":\"object\",\"name\":\"Segment\",\"id\":\"p1252\",\"attributes\":{\"x0\":{\"type\":\"field\",\"field\":\"index\"},\"y0\":{\"type\":\"field\",\"field\":\"High\"},\"x1\":{\"type\":\"field\",\"field\":\"index\"},\"y1\":{\"type\":\"field\",\"field\":\"Low\"},\"line_alpha\":{\"type\":\"value\",\"value\":0.1}}},\"muted_glyph\":{\"type\":\"object\",\"name\":\"Segment\",\"id\":\"p1253\",\"attributes\":{\"x0\":{\"type\":\"field\",\"field\":\"index\"},\"y0\":{\"type\":\"field\",\"field\":\"High\"},\"x1\":{\"type\":\"field\",\"field\":\"index\"},\"y1\":{\"type\":\"field\",\"field\":\"Low\"},\"line_alpha\":{\"type\":\"value\",\"value\":0.2}}}}},{\"id\":\"p1263\"},{\"type\":\"object\",\"name\":\"GlyphRenderer\",\"id\":\"p1272\",\"attributes\":{\"data_source\":{\"id\":\"p1034\"},\"view\":{\"type\":\"object\",\"name\":\"CDSView\",\"id\":\"p1273\",\"attributes\":{\"filter\":{\"type\":\"object\",\"name\":\"AllIndices\",\"id\":\"p1274\"}}},\"glyph\":{\"type\":\"object\",\"name\":\"MultiLine\",\"id\":\"p1269\",\"attributes\":{\"xs\":{\"type\":\"field\",\"field\":\"position_lines_xs\"},\"ys\":{\"type\":\"field\",\"field\":\"position_lines_ys\"},\"line_color\":{\"type\":\"field\",\"field\":\"returns_positive\",\"transform\":{\"type\":\"object\",\"name\":\"CategoricalColorMapper\",\"id\":\"p1039\",\"attributes\":{\"palette\":[\"rgb(178.5, 27.163043478260846, 0.0)\",\"rgb(0.0, 178.5, 0.0)\"],\"factors\":[\"0\",\"1\"]}}},\"line_width\":{\"type\":\"value\",\"value\":8},\"line_dash\":{\"type\":\"value\",\"value\":\"dotted\"}}},\"nonselection_glyph\":{\"type\":\"object\",\"name\":\"MultiLine\",\"id\":\"p1270\",\"attributes\":{\"xs\":{\"type\":\"field\",\"field\":\"position_lines_xs\"},\"ys\":{\"type\":\"field\",\"field\":\"position_lines_ys\"},\"line_color\":{\"type\":\"field\",\"field\":\"returns_positive\",\"transform\":{\"id\":\"p1039\"}},\"line_alpha\":{\"type\":\"value\",\"value\":0.1},\"line_width\":{\"type\":\"value\",\"value\":8},\"line_dash\":{\"type\":\"value\",\"value\":\"dotted\"}}},\"muted_glyph\":{\"type\":\"object\",\"name\":\"MultiLine\",\"id\":\"p1271\",\"attributes\":{\"xs\":{\"type\":\"field\",\"field\":\"position_lines_xs\"},\"ys\":{\"type\":\"field\",\"field\":\"position_lines_ys\"},\"line_color\":{\"type\":\"field\",\"field\":\"returns_positive\",\"transform\":{\"id\":\"p1039\"}},\"line_alpha\":{\"type\":\"value\",\"value\":0.2},\"line_width\":{\"type\":\"value\",\"value\":8},\"line_dash\":{\"type\":\"value\",\"value\":\"dotted\"}}}}},{\"type\":\"object\",\"name\":\"GlyphRenderer\",\"id\":\"p1283\",\"attributes\":{\"data_source\":{\"id\":\"p1031\"},\"view\":{\"type\":\"object\",\"name\":\"CDSView\",\"id\":\"p1284\",\"attributes\":{\"filter\":{\"type\":\"object\",\"name\":\"AllIndices\",\"id\":\"p1285\"}}},\"glyph\":{\"type\":\"object\",\"name\":\"Line\",\"id\":\"p1280\",\"attributes\":{\"x\":{\"type\":\"field\",\"field\":\"index\"},\"y\":{\"type\":\"field\",\"field\":\"lb_close_2_1\"},\"line_color\":\"#1f77b4\",\"line_width\":1.3}},\"nonselection_glyph\":{\"type\":\"object\",\"name\":\"Line\",\"id\":\"p1281\",\"attributes\":{\"x\":{\"type\":\"field\",\"field\":\"index\"},\"y\":{\"type\":\"field\",\"field\":\"lb_close_2_1\"},\"line_color\":\"#1f77b4\",\"line_alpha\":0.1,\"line_width\":1.3}},\"muted_glyph\":{\"type\":\"object\",\"name\":\"Line\",\"id\":\"p1282\",\"attributes\":{\"x\":{\"type\":\"field\",\"field\":\"index\"},\"y\":{\"type\":\"field\",\"field\":\"lb_close_2_1\"},\"line_color\":\"#1f77b4\",\"line_alpha\":0.2,\"line_width\":1.3}}}},{\"type\":\"object\",\"name\":\"GlyphRenderer\",\"id\":\"p1293\",\"attributes\":{\"data_source\":{\"id\":\"p1031\"},\"view\":{\"type\":\"object\",\"name\":\"CDSView\",\"id\":\"p1294\",\"attributes\":{\"filter\":{\"type\":\"object\",\"name\":\"AllIndices\",\"id\":\"p1295\"}}},\"glyph\":{\"type\":\"object\",\"name\":\"Line\",\"id\":\"p1290\",\"attributes\":{\"x\":{\"type\":\"field\",\"field\":\"index\"},\"y\":{\"type\":\"field\",\"field\":\"lb_low_3_1\"},\"line_color\":\"#ff7f0e\",\"line_width\":1.3}},\"nonselection_glyph\":{\"type\":\"object\",\"name\":\"Line\",\"id\":\"p1291\",\"attributes\":{\"x\":{\"type\":\"field\",\"field\":\"index\"},\"y\":{\"type\":\"field\",\"field\":\"lb_low_3_1\"},\"line_color\":\"#ff7f0e\",\"line_alpha\":0.1,\"line_width\":1.3}},\"muted_glyph\":{\"type\":\"object\",\"name\":\"Line\",\"id\":\"p1292\",\"attributes\":{\"x\":{\"type\":\"field\",\"field\":\"index\"},\"y\":{\"type\":\"field\",\"field\":\"lb_low_3_1\"},\"line_color\":\"#ff7f0e\",\"line_alpha\":0.2,\"line_width\":1.3}}}}],\"toolbar\":{\"type\":\"object\",\"name\":\"Toolbar\",\"id\":\"p1010\",\"attributes\":{\"tools\":[{\"id\":\"p1023\"},{\"id\":\"p1024\"},{\"id\":\"p1025\"},{\"id\":\"p1027\"},{\"id\":\"p1028\"},{\"id\":\"p1029\"},{\"type\":\"object\",\"name\":\"SaveTool\",\"id\":\"p1030\"},{\"id\":\"p1297\"},{\"id\":\"p1299\"}],\"active_drag\":{\"id\":\"p1023\"},\"active_scroll\":{\"id\":\"p1024\"}}},\"toolbar_location\":null,\"left\":[{\"type\":\"object\",\"name\":\"LinearAxis\",\"id\":\"p1018\",\"attributes\":{\"ticker\":{\"type\":\"object\",\"name\":\"BasicTicker\",\"id\":\"p1019\",\"attributes\":{\"mantissas\":[1,2,5]}},\"formatter\":{\"type\":\"object\",\"name\":\"BasicTickFormatter\",\"id\":\"p1020\"},\"major_label_policy\":{\"type\":\"object\",\"name\":\"AllLabels\",\"id\":\"p1021\"}}}],\"below\":[{\"type\":\"object\",\"name\":\"LinearAxis\",\"id\":\"p1013\",\"attributes\":{\"visible\":false,\"ticker\":{\"type\":\"object\",\"name\":\"BasicTicker\",\"id\":\"p1014\",\"attributes\":{\"mantissas\":[1,2,5]}},\"formatter\":{\"type\":\"object\",\"name\":\"CustomJSTickFormatter\",\"id\":\"p1041\",\"attributes\":{\"args\":{\"type\":\"map\",\"entries\":[[\"axis\",{\"id\":\"p1013\"}],[\"formatter\",{\"type\":\"object\",\"name\":\"DatetimeTickFormatter\",\"id\":\"p1040\",\"attributes\":{\"days\":\"%d %b\"}}],[\"source\",{\"id\":\"p1031\"}]]},\"code\":\"\\nthis.labels = this.labels || formatter.doFormat(ticks\\n                                                .map(i => source.data.datetime[i])\\n                                                .filter(t => t !== undefined));\\nreturn this.labels[index] || \\\"\\\";\\n        \"}},\"major_label_policy\":{\"type\":\"object\",\"name\":\"AllLabels\",\"id\":\"p1016\"}}}],\"center\":[{\"type\":\"object\",\"name\":\"Grid\",\"id\":\"p1017\",\"attributes\":{\"axis\":{\"id\":\"p1013\"}}},{\"type\":\"object\",\"name\":\"Grid\",\"id\":\"p1022\",\"attributes\":{\"dimension\":1,\"axis\":{\"id\":\"p1018\"}}},{\"type\":\"object\",\"name\":\"Legend\",\"id\":\"p1275\",\"attributes\":{\"location\":\"top_left\",\"border_line_color\":\"#333333\",\"click_policy\":\"hide\",\"label_text_font_size\":\"8pt\",\"margin\":0,\"padding\":5,\"spacing\":0,\"items\":[{\"type\":\"object\",\"name\":\"LegendItem\",\"id\":\"p1276\",\"attributes\":{\"label\":{\"type\":\"value\",\"value\":\"Trades (5)\"},\"renderers\":[{\"id\":\"p1272\"}]}},{\"type\":\"object\",\"name\":\"LegendItem\",\"id\":\"p1286\",\"attributes\":{\"label\":{\"type\":\"value\",\"value\":\"lb_close\"},\"renderers\":[{\"id\":\"p1283\"}]}},{\"type\":\"object\",\"name\":\"LegendItem\",\"id\":\"p1296\",\"attributes\":{\"label\":{\"type\":\"value\",\"value\":\"lb_low\"},\"renderers\":[{\"id\":\"p1293\"}]}}]}}],\"min_border_top\":3,\"min_border_bottom\":6,\"min_border_left\":0,\"min_border_right\":10}},2,0],[{\"type\":\"object\",\"name\":\"Figure\",\"id\":\"p1186\",\"attributes\":{\"width\":null,\"height\":90,\"sizing_mode\":\"stretch_width\",\"x_range\":{\"id\":\"p1001\"},\"y_range\":{\"id\":\"p1188\"},\"x_scale\":{\"type\":\"object\",\"name\":\"LinearScale\",\"id\":\"p1195\"},\"y_scale\":{\"type\":\"object\",\"name\":\"LinearScale\",\"id\":\"p1196\"},\"title\":{\"type\":\"object\",\"name\":\"Title\",\"id\":\"p1193\"},\"outline_line_color\":\"#666666\",\"renderers\":[{\"id\":\"p1221\"}],\"toolbar\":{\"type\":\"object\",\"name\":\"Toolbar\",\"id\":\"p1194\",\"attributes\":{\"tools\":[{\"id\":\"p1207\"},{\"id\":\"p1208\"},{\"id\":\"p1209\"},{\"id\":\"p1211\"},{\"id\":\"p1212\"},{\"id\":\"p1213\"},{\"type\":\"object\",\"name\":\"SaveTool\",\"id\":\"p1214\"},{\"id\":\"p1224\"},{\"id\":\"p1299\"}],\"active_drag\":{\"id\":\"p1207\"},\"active_scroll\":{\"id\":\"p1208\"}}},\"toolbar_location\":null,\"left\":[{\"type\":\"object\",\"name\":\"LinearAxis\",\"id\":\"p1202\",\"attributes\":{\"ticker\":{\"type\":\"object\",\"name\":\"BasicTicker\",\"id\":\"p1203\",\"attributes\":{\"mantissas\":[1,2,5]}},\"formatter\":{\"type\":\"object\",\"name\":\"NumeralTickFormatter\",\"id\":\"p1225\",\"attributes\":{\"format\":\"0 a\"}},\"axis_label\":\"Volume\",\"major_label_policy\":{\"type\":\"object\",\"name\":\"AllLabels\",\"id\":\"p1205\"},\"minor_tick_line_color\":null}}],\"below\":[{\"type\":\"object\",\"name\":\"LinearAxis\",\"id\":\"p1197\",\"attributes\":{\"visible\":true,\"ticker\":{\"type\":\"object\",\"name\":\"BasicTicker\",\"id\":\"p1198\",\"attributes\":{\"mantissas\":[1,2,5]}},\"formatter\":{\"id\":\"p1041\"},\"major_label_policy\":{\"type\":\"object\",\"name\":\"AllLabels\",\"id\":\"p1200\"}}}],\"center\":[{\"type\":\"object\",\"name\":\"Grid\",\"id\":\"p1201\",\"attributes\":{\"axis\":{\"id\":\"p1197\"}}},{\"type\":\"object\",\"name\":\"Grid\",\"id\":\"p1206\",\"attributes\":{\"dimension\":1,\"axis\":{\"id\":\"p1202\"}}}],\"min_border_top\":3,\"min_border_bottom\":6,\"min_border_left\":0,\"min_border_right\":10}},3,0]]}}]}};\n",
       "  const render_items = [{\"docid\":\"d6db14fa-f734-4d2b-be0e-c45060596e4d\",\"roots\":{\"p1309\":\"aefb077a-a420-491d-9250-2e6bd0d9f99d\"},\"root_ids\":[\"p1309\"]}];\n",
       "  root.Bokeh.embed.embed_items_notebook(docs_json, render_items);\n",
       "  }\n",
       "  if (root.Bokeh !== undefined) {\n",
       "    embed_document(root);\n",
       "  } else {\n",
       "    let attempts = 0;\n",
       "    const timer = setInterval(function(root) {\n",
       "      if (root.Bokeh !== undefined) {\n",
       "        clearInterval(timer);\n",
       "        embed_document(root);\n",
       "      } else {\n",
       "        attempts++;\n",
       "        if (attempts > 100) {\n",
       "          clearInterval(timer);\n",
       "          console.log(\"Bokeh: ERROR: Unable to run BokehJS code because BokehJS library is missing\");\n",
       "        }\n",
       "      }\n",
       "    }, 10, root)\n",
       "  }\n",
       "})(window);"
      ],
      "application/vnd.bokehjs_exec.v0+json": ""
     },
     "metadata": {
      "application/vnd.bokehjs_exec.v0+json": {
       "id": "p1309"
      }
     },
     "output_type": "display_data"
    },
    {
     "data": {
      "text/html": [
       "<div style=\"display: table;\"><div style=\"display: table-row;\"><div style=\"display: table-cell;\"><b title=\"bokeh.models.plots.GridPlot\">GridPlot</b>(</div><div style=\"display: table-cell;\">id&nbsp;=&nbsp;'p1309', <span id=\"p1340\" style=\"cursor: pointer;\">&hellip;)</span></div></div><div class=\"p1339\" style=\"display: none;\"><div style=\"display: table-cell;\"></div><div style=\"display: table-cell;\">align&nbsp;=&nbsp;'auto',</div></div><div class=\"p1339\" style=\"display: none;\"><div style=\"display: table-cell;\"></div><div style=\"display: table-cell;\">aspect_ratio&nbsp;=&nbsp;None,</div></div><div class=\"p1339\" style=\"display: none;\"><div style=\"display: table-cell;\"></div><div style=\"display: table-cell;\">children&nbsp;=&nbsp;[(figure(id='p1042', ...), 0, 0), (figure(id='p1135', ...), 1, 0), (figure(id='p1002', ...), 2, 0), (figure(id='p1186', ...), 3, 0)],</div></div><div class=\"p1339\" style=\"display: none;\"><div style=\"display: table-cell;\"></div><div style=\"display: table-cell;\">cols&nbsp;=&nbsp;None,</div></div><div class=\"p1339\" style=\"display: none;\"><div style=\"display: table-cell;\"></div><div style=\"display: table-cell;\">context_menu&nbsp;=&nbsp;None,</div></div><div class=\"p1339\" style=\"display: none;\"><div style=\"display: table-cell;\"></div><div style=\"display: table-cell;\">css_classes&nbsp;=&nbsp;[],</div></div><div class=\"p1339\" style=\"display: none;\"><div style=\"display: table-cell;\"></div><div style=\"display: table-cell;\">disabled&nbsp;=&nbsp;False,</div></div><div class=\"p1339\" style=\"display: none;\"><div style=\"display: table-cell;\"></div><div style=\"display: table-cell;\">flow_mode&nbsp;=&nbsp;'block',</div></div><div class=\"p1339\" style=\"display: none;\"><div style=\"display: table-cell;\"></div><div style=\"display: table-cell;\">height&nbsp;=&nbsp;None,</div></div><div class=\"p1339\" style=\"display: none;\"><div style=\"display: table-cell;\"></div><div style=\"display: table-cell;\">height_policy&nbsp;=&nbsp;'auto',</div></div><div class=\"p1339\" style=\"display: none;\"><div style=\"display: table-cell;\"></div><div style=\"display: table-cell;\">js_event_callbacks&nbsp;=&nbsp;{},</div></div><div class=\"p1339\" style=\"display: none;\"><div style=\"display: table-cell;\"></div><div style=\"display: table-cell;\">js_property_callbacks&nbsp;=&nbsp;{},</div></div><div class=\"p1339\" style=\"display: none;\"><div style=\"display: table-cell;\"></div><div style=\"display: table-cell;\">margin&nbsp;=&nbsp;None,</div></div><div class=\"p1339\" style=\"display: none;\"><div style=\"display: table-cell;\"></div><div style=\"display: table-cell;\">max_height&nbsp;=&nbsp;None,</div></div><div class=\"p1339\" style=\"display: none;\"><div style=\"display: table-cell;\"></div><div style=\"display: table-cell;\">max_width&nbsp;=&nbsp;None,</div></div><div class=\"p1339\" style=\"display: none;\"><div style=\"display: table-cell;\"></div><div style=\"display: table-cell;\">min_height&nbsp;=&nbsp;None,</div></div><div class=\"p1339\" style=\"display: none;\"><div style=\"display: table-cell;\"></div><div style=\"display: table-cell;\">min_width&nbsp;=&nbsp;None,</div></div><div class=\"p1339\" style=\"display: none;\"><div style=\"display: table-cell;\"></div><div style=\"display: table-cell;\">name&nbsp;=&nbsp;None,</div></div><div class=\"p1339\" style=\"display: none;\"><div style=\"display: table-cell;\"></div><div style=\"display: table-cell;\">resizable&nbsp;=&nbsp;False,</div></div><div class=\"p1339\" style=\"display: none;\"><div style=\"display: table-cell;\"></div><div style=\"display: table-cell;\">rows&nbsp;=&nbsp;None,</div></div><div class=\"p1339\" style=\"display: none;\"><div style=\"display: table-cell;\"></div><div style=\"display: table-cell;\">sizing_mode&nbsp;=&nbsp;'stretch_width',</div></div><div class=\"p1339\" style=\"display: none;\"><div style=\"display: table-cell;\"></div><div style=\"display: table-cell;\">spacing&nbsp;=&nbsp;0,</div></div><div class=\"p1339\" style=\"display: none;\"><div style=\"display: table-cell;\"></div><div style=\"display: table-cell;\">styles&nbsp;=&nbsp;{},</div></div><div class=\"p1339\" style=\"display: none;\"><div style=\"display: table-cell;\"></div><div style=\"display: table-cell;\">stylesheets&nbsp;=&nbsp;[],</div></div><div class=\"p1339\" style=\"display: none;\"><div style=\"display: table-cell;\"></div><div style=\"display: table-cell;\">subscribed_events&nbsp;=&nbsp;PropertyValueSet(),</div></div><div class=\"p1339\" style=\"display: none;\"><div style=\"display: table-cell;\"></div><div style=\"display: table-cell;\">syncable&nbsp;=&nbsp;True,</div></div><div class=\"p1339\" style=\"display: none;\"><div style=\"display: table-cell;\"></div><div style=\"display: table-cell;\">tags&nbsp;=&nbsp;[],</div></div><div class=\"p1339\" style=\"display: none;\"><div style=\"display: table-cell;\"></div><div style=\"display: table-cell;\">toolbar&nbsp;=&nbsp;Toolbar(id='p1308', ...),</div></div><div class=\"p1339\" style=\"display: none;\"><div style=\"display: table-cell;\"></div><div style=\"display: table-cell;\">toolbar_location&nbsp;=&nbsp;'right',</div></div><div class=\"p1339\" style=\"display: none;\"><div style=\"display: table-cell;\"></div><div style=\"display: table-cell;\">visible&nbsp;=&nbsp;True,</div></div><div class=\"p1339\" style=\"display: none;\"><div style=\"display: table-cell;\"></div><div style=\"display: table-cell;\">width&nbsp;=&nbsp;None,</div></div><div class=\"p1339\" style=\"display: none;\"><div style=\"display: table-cell;\"></div><div style=\"display: table-cell;\">width_policy&nbsp;=&nbsp;'auto')</div></div></div>\n",
       "<script>\n",
       "(function() {\n",
       "  let expanded = false;\n",
       "  const ellipsis = document.getElementById(\"p1340\");\n",
       "  ellipsis.addEventListener(\"click\", function() {\n",
       "    const rows = document.getElementsByClassName(\"p1339\");\n",
       "    for (let i = 0; i < rows.length; i++) {\n",
       "      const el = rows[i];\n",
       "      el.style.display = expanded ? \"none\" : \"table-row\";\n",
       "    }\n",
       "    ellipsis.innerHTML = expanded ? \"&hellip;)\" : \"&lsaquo;&lsaquo;&lsaquo;\";\n",
       "    expanded = !expanded;\n",
       "  });\n",
       "})();\n",
       "</script>\n"
      ],
      "text/plain": [
       "GridPlot(id='p1309', ...)"
      ]
     },
     "execution_count": 15,
     "metadata": {},
     "output_type": "execute_result"
    }
   ],
   "source": [
    "bt.plot()"
   ]
  },
  {
   "cell_type": "code",
   "execution_count": 16,
   "id": "057493c7-d81f-47ea-95bb-bfd13904b150",
   "metadata": {},
   "outputs": [],
   "source": [
    "#from backtesting.lib import plot_heatmaps\n",
    "#plot_heatmaps(heatmap)"
   ]
  },
  {
   "cell_type": "code",
   "execution_count": 17,
   "id": "d68db302-64d0-4048-a74d-76d2232ee5da",
   "metadata": {},
   "outputs": [
    {
     "data": {
      "text/html": [
       "<div>\n",
       "<style scoped>\n",
       "    .dataframe tbody tr th:only-of-type {\n",
       "        vertical-align: middle;\n",
       "    }\n",
       "\n",
       "    .dataframe tbody tr th {\n",
       "        vertical-align: top;\n",
       "    }\n",
       "\n",
       "    .dataframe thead th {\n",
       "        text-align: right;\n",
       "    }\n",
       "</style>\n",
       "<table border=\"1\" class=\"dataframe\">\n",
       "  <thead>\n",
       "    <tr style=\"text-align: right;\">\n",
       "      <th></th>\n",
       "      <th>band_lenght</th>\n",
       "      <th>band_mult</th>\n",
       "      <th>minimal_benefit_to_start_trailing</th>\n",
       "      <th>reinvest</th>\n",
       "      <th>dca_budget</th>\n",
       "      <th>buy_all_days</th>\n",
       "      <th>lr_buy_longitude</th>\n",
       "      <th>Return [%]</th>\n",
       "    </tr>\n",
       "  </thead>\n",
       "  <tbody>\n",
       "    <tr>\n",
       "      <th>144</th>\n",
       "      <td>9</td>\n",
       "      <td>1</td>\n",
       "      <td>1.003</td>\n",
       "      <td>2</td>\n",
       "      <td>1600</td>\n",
       "      <td>0</td>\n",
       "      <td>6</td>\n",
       "      <td>38.331371</td>\n",
       "    </tr>\n",
       "    <tr>\n",
       "      <th>244</th>\n",
       "      <td>10</td>\n",
       "      <td>1</td>\n",
       "      <td>1.003</td>\n",
       "      <td>2</td>\n",
       "      <td>1600</td>\n",
       "      <td>0</td>\n",
       "      <td>6</td>\n",
       "      <td>38.065148</td>\n",
       "    </tr>\n",
       "    <tr>\n",
       "      <th>344</th>\n",
       "      <td>11</td>\n",
       "      <td>1</td>\n",
       "      <td>1.003</td>\n",
       "      <td>2</td>\n",
       "      <td>1600</td>\n",
       "      <td>0</td>\n",
       "      <td>6</td>\n",
       "      <td>35.737490</td>\n",
       "    </tr>\n",
       "    <tr>\n",
       "      <th>444</th>\n",
       "      <td>12</td>\n",
       "      <td>1</td>\n",
       "      <td>1.003</td>\n",
       "      <td>2</td>\n",
       "      <td>1600</td>\n",
       "      <td>0</td>\n",
       "      <td>6</td>\n",
       "      <td>33.583091</td>\n",
       "    </tr>\n",
       "    <tr>\n",
       "      <th>134</th>\n",
       "      <td>9</td>\n",
       "      <td>1</td>\n",
       "      <td>1.003</td>\n",
       "      <td>2</td>\n",
       "      <td>1000</td>\n",
       "      <td>0</td>\n",
       "      <td>6</td>\n",
       "      <td>28.239401</td>\n",
       "    </tr>\n",
       "    <tr>\n",
       "      <th>...</th>\n",
       "      <td>...</td>\n",
       "      <td>...</td>\n",
       "      <td>...</td>\n",
       "      <td>...</td>\n",
       "      <td>...</td>\n",
       "      <td>...</td>\n",
       "      <td>...</td>\n",
       "      <td>...</td>\n",
       "    </tr>\n",
       "    <tr>\n",
       "      <th>729</th>\n",
       "      <td>34</td>\n",
       "      <td>1</td>\n",
       "      <td>1.003</td>\n",
       "      <td>2</td>\n",
       "      <td>500</td>\n",
       "      <td>1</td>\n",
       "      <td>6</td>\n",
       "      <td>-12.985585</td>\n",
       "    </tr>\n",
       "    <tr>\n",
       "      <th>769</th>\n",
       "      <td>34</td>\n",
       "      <td>2</td>\n",
       "      <td>1.003</td>\n",
       "      <td>2</td>\n",
       "      <td>200</td>\n",
       "      <td>1</td>\n",
       "      <td>6</td>\n",
       "      <td>-13.208277</td>\n",
       "    </tr>\n",
       "    <tr>\n",
       "      <th>719</th>\n",
       "      <td>34</td>\n",
       "      <td>1</td>\n",
       "      <td>1.003</td>\n",
       "      <td>2</td>\n",
       "      <td>200</td>\n",
       "      <td>1</td>\n",
       "      <td>6</td>\n",
       "      <td>-13.208277</td>\n",
       "    </tr>\n",
       "    <tr>\n",
       "      <th>749</th>\n",
       "      <td>34</td>\n",
       "      <td>1</td>\n",
       "      <td>1.003</td>\n",
       "      <td>2</td>\n",
       "      <td>1600</td>\n",
       "      <td>1</td>\n",
       "      <td>6</td>\n",
       "      <td>-14.172719</td>\n",
       "    </tr>\n",
       "    <tr>\n",
       "      <th>799</th>\n",
       "      <td>34</td>\n",
       "      <td>2</td>\n",
       "      <td>1.003</td>\n",
       "      <td>2</td>\n",
       "      <td>1600</td>\n",
       "      <td>1</td>\n",
       "      <td>6</td>\n",
       "      <td>-14.172719</td>\n",
       "    </tr>\n",
       "  </tbody>\n",
       "</table>\n",
       "<p>800 rows × 8 columns</p>\n",
       "</div>"
      ],
      "text/plain": [
       "     band_lenght  band_mult  minimal_benefit_to_start_trailing  reinvest  \\\n",
       "144            9          1                              1.003         2   \n",
       "244           10          1                              1.003         2   \n",
       "344           11          1                              1.003         2   \n",
       "444           12          1                              1.003         2   \n",
       "134            9          1                              1.003         2   \n",
       "..           ...        ...                                ...       ...   \n",
       "729           34          1                              1.003         2   \n",
       "769           34          2                              1.003         2   \n",
       "719           34          1                              1.003         2   \n",
       "749           34          1                              1.003         2   \n",
       "799           34          2                              1.003         2   \n",
       "\n",
       "     dca_budget  buy_all_days  lr_buy_longitude  Return [%]  \n",
       "144        1600             0                 6   38.331371  \n",
       "244        1600             0                 6   38.065148  \n",
       "344        1600             0                 6   35.737490  \n",
       "444        1600             0                 6   33.583091  \n",
       "134        1000             0                 6   28.239401  \n",
       "..          ...           ...               ...         ...  \n",
       "729         500             1                 6  -12.985585  \n",
       "769         200             1                 6  -13.208277  \n",
       "719         200             1                 6  -13.208277  \n",
       "749        1600             1                 6  -14.172719  \n",
       "799        1600             1                 6  -14.172719  \n",
       "\n",
       "[800 rows x 8 columns]"
      ]
     },
     "execution_count": 17,
     "metadata": {},
     "output_type": "execute_result"
    }
   ],
   "source": [
    "if not(heatmap is None):\n",
    "    heatmap_df = process_heatmap(heatmap)\n",
    "else:\n",
    "    heatmap_df = pd.DataFrame()\n",
    "\n",
    "heatmap_df"
   ]
  },
  {
   "cell_type": "markdown",
   "id": "8bc92648-e897-425f-b812-dcf75a5a4cb1",
   "metadata": {},
   "source": [
    "# Write results"
   ]
  },
  {
   "cell_type": "code",
   "execution_count": 18,
   "id": "96d741c5-108e-43de-be4d-18bbb3068c04",
   "metadata": {},
   "outputs": [],
   "source": [
    "base_results_dir = 'results'"
   ]
  },
  {
   "cell_type": "code",
   "execution_count": 19,
   "id": "164cf63c-0097-49d1-993f-3bb7aeaae7d3",
   "metadata": {},
   "outputs": [],
   "source": [
    "srt_strategy_configuration = str(stats._strategy)\n",
    "str_strategy_name = srt_strategy_configuration[:srt_strategy_configuration.find(\"(\")]\n",
    "parameters = srt_strategy_configuration[srt_strategy_configuration.find(\"(\") + 1:-1]"
   ]
  },
  {
   "cell_type": "code",
   "execution_count": 20,
   "id": "c1703dba-14cd-48ff-be5f-4bd6f5d8797b",
   "metadata": {},
   "outputs": [
    {
     "data": {
      "text/plain": [
       "'results/DCA_Conditional_Buy_LR_with_TrailingStop/Range/Binance_BTC-USDT_1d_2022-06-19_2022-06-19_2024-01-20_1404'"
      ]
     },
     "execution_count": 20,
     "metadata": {},
     "output_type": "execute_result"
    }
   ],
   "source": [
    "directory = base_results_dir + '/' + str_strategy_name + '/' + experiment_nickname + '/' + base_experiment_name\n",
    "directory"
   ]
  },
  {
   "cell_type": "code",
   "execution_count": 21,
   "id": "033b0cf0-16c2-42de-b24b-ea6c9b435ad8",
   "metadata": {},
   "outputs": [],
   "source": [
    "if not os.path.exists(directory):\n",
    "    os.makedirs(directory)"
   ]
  },
  {
   "cell_type": "code",
   "execution_count": 22,
   "id": "81ef270c-efe0-4e89-a2fa-9d663a736add",
   "metadata": {},
   "outputs": [
    {
     "name": "stderr",
     "output_type": "stream",
     "text": [
      "BokehDeprecationWarning: Passing lists of formats for DatetimeTickFormatter scales was deprecated in Bokeh 3.0. Configure a single string format for each scale\n",
      "BokehDeprecationWarning: Passing lists of formats for DatetimeTickFormatter scales was deprecated in Bokeh 3.0. Configure a single string format for each scale\n"
     ]
    },
    {
     "data": {
      "text/html": [
       "<div style=\"display: table;\"><div style=\"display: table-row;\"><div style=\"display: table-cell;\"><b title=\"bokeh.models.plots.GridPlot\">GridPlot</b>(</div><div style=\"display: table-cell;\">id&nbsp;=&nbsp;'p1649', <span id=\"p1681\" style=\"cursor: pointer;\">&hellip;)</span></div></div><div class=\"p1680\" style=\"display: none;\"><div style=\"display: table-cell;\"></div><div style=\"display: table-cell;\">align&nbsp;=&nbsp;'auto',</div></div><div class=\"p1680\" style=\"display: none;\"><div style=\"display: table-cell;\"></div><div style=\"display: table-cell;\">aspect_ratio&nbsp;=&nbsp;None,</div></div><div class=\"p1680\" style=\"display: none;\"><div style=\"display: table-cell;\"></div><div style=\"display: table-cell;\">children&nbsp;=&nbsp;[(figure(id='p1382', ...), 0, 0), (figure(id='p1475', ...), 1, 0), (figure(id='p1342', ...), 2, 0), (figure(id='p1526', ...), 3, 0)],</div></div><div class=\"p1680\" style=\"display: none;\"><div style=\"display: table-cell;\"></div><div style=\"display: table-cell;\">cols&nbsp;=&nbsp;None,</div></div><div class=\"p1680\" style=\"display: none;\"><div style=\"display: table-cell;\"></div><div style=\"display: table-cell;\">context_menu&nbsp;=&nbsp;None,</div></div><div class=\"p1680\" style=\"display: none;\"><div style=\"display: table-cell;\"></div><div style=\"display: table-cell;\">css_classes&nbsp;=&nbsp;[],</div></div><div class=\"p1680\" style=\"display: none;\"><div style=\"display: table-cell;\"></div><div style=\"display: table-cell;\">disabled&nbsp;=&nbsp;False,</div></div><div class=\"p1680\" style=\"display: none;\"><div style=\"display: table-cell;\"></div><div style=\"display: table-cell;\">flow_mode&nbsp;=&nbsp;'block',</div></div><div class=\"p1680\" style=\"display: none;\"><div style=\"display: table-cell;\"></div><div style=\"display: table-cell;\">height&nbsp;=&nbsp;None,</div></div><div class=\"p1680\" style=\"display: none;\"><div style=\"display: table-cell;\"></div><div style=\"display: table-cell;\">height_policy&nbsp;=&nbsp;'auto',</div></div><div class=\"p1680\" style=\"display: none;\"><div style=\"display: table-cell;\"></div><div style=\"display: table-cell;\">js_event_callbacks&nbsp;=&nbsp;{},</div></div><div class=\"p1680\" style=\"display: none;\"><div style=\"display: table-cell;\"></div><div style=\"display: table-cell;\">js_property_callbacks&nbsp;=&nbsp;{},</div></div><div class=\"p1680\" style=\"display: none;\"><div style=\"display: table-cell;\"></div><div style=\"display: table-cell;\">margin&nbsp;=&nbsp;None,</div></div><div class=\"p1680\" style=\"display: none;\"><div style=\"display: table-cell;\"></div><div style=\"display: table-cell;\">max_height&nbsp;=&nbsp;None,</div></div><div class=\"p1680\" style=\"display: none;\"><div style=\"display: table-cell;\"></div><div style=\"display: table-cell;\">max_width&nbsp;=&nbsp;None,</div></div><div class=\"p1680\" style=\"display: none;\"><div style=\"display: table-cell;\"></div><div style=\"display: table-cell;\">min_height&nbsp;=&nbsp;None,</div></div><div class=\"p1680\" style=\"display: none;\"><div style=\"display: table-cell;\"></div><div style=\"display: table-cell;\">min_width&nbsp;=&nbsp;None,</div></div><div class=\"p1680\" style=\"display: none;\"><div style=\"display: table-cell;\"></div><div style=\"display: table-cell;\">name&nbsp;=&nbsp;None,</div></div><div class=\"p1680\" style=\"display: none;\"><div style=\"display: table-cell;\"></div><div style=\"display: table-cell;\">resizable&nbsp;=&nbsp;False,</div></div><div class=\"p1680\" style=\"display: none;\"><div style=\"display: table-cell;\"></div><div style=\"display: table-cell;\">rows&nbsp;=&nbsp;None,</div></div><div class=\"p1680\" style=\"display: none;\"><div style=\"display: table-cell;\"></div><div style=\"display: table-cell;\">sizing_mode&nbsp;=&nbsp;'stretch_width',</div></div><div class=\"p1680\" style=\"display: none;\"><div style=\"display: table-cell;\"></div><div style=\"display: table-cell;\">spacing&nbsp;=&nbsp;0,</div></div><div class=\"p1680\" style=\"display: none;\"><div style=\"display: table-cell;\"></div><div style=\"display: table-cell;\">styles&nbsp;=&nbsp;{},</div></div><div class=\"p1680\" style=\"display: none;\"><div style=\"display: table-cell;\"></div><div style=\"display: table-cell;\">stylesheets&nbsp;=&nbsp;[],</div></div><div class=\"p1680\" style=\"display: none;\"><div style=\"display: table-cell;\"></div><div style=\"display: table-cell;\">subscribed_events&nbsp;=&nbsp;PropertyValueSet(),</div></div><div class=\"p1680\" style=\"display: none;\"><div style=\"display: table-cell;\"></div><div style=\"display: table-cell;\">syncable&nbsp;=&nbsp;True,</div></div><div class=\"p1680\" style=\"display: none;\"><div style=\"display: table-cell;\"></div><div style=\"display: table-cell;\">tags&nbsp;=&nbsp;[],</div></div><div class=\"p1680\" style=\"display: none;\"><div style=\"display: table-cell;\"></div><div style=\"display: table-cell;\">toolbar&nbsp;=&nbsp;Toolbar(id='p1648', ...),</div></div><div class=\"p1680\" style=\"display: none;\"><div style=\"display: table-cell;\"></div><div style=\"display: table-cell;\">toolbar_location&nbsp;=&nbsp;'right',</div></div><div class=\"p1680\" style=\"display: none;\"><div style=\"display: table-cell;\"></div><div style=\"display: table-cell;\">visible&nbsp;=&nbsp;True,</div></div><div class=\"p1680\" style=\"display: none;\"><div style=\"display: table-cell;\"></div><div style=\"display: table-cell;\">width&nbsp;=&nbsp;None,</div></div><div class=\"p1680\" style=\"display: none;\"><div style=\"display: table-cell;\"></div><div style=\"display: table-cell;\">width_policy&nbsp;=&nbsp;'auto')</div></div></div>\n",
       "<script>\n",
       "(function() {\n",
       "  let expanded = false;\n",
       "  const ellipsis = document.getElementById(\"p1681\");\n",
       "  ellipsis.addEventListener(\"click\", function() {\n",
       "    const rows = document.getElementsByClassName(\"p1680\");\n",
       "    for (let i = 0; i < rows.length; i++) {\n",
       "      const el = rows[i];\n",
       "      el.style.display = expanded ? \"none\" : \"table-row\";\n",
       "    }\n",
       "    ellipsis.innerHTML = expanded ? \"&hellip;)\" : \"&lsaquo;&lsaquo;&lsaquo;\";\n",
       "    expanded = !expanded;\n",
       "  });\n",
       "})();\n",
       "</script>\n"
      ],
      "text/plain": [
       "GridPlot(id='p1649', ...)"
      ]
     },
     "execution_count": 22,
     "metadata": {},
     "output_type": "execute_result"
    }
   ],
   "source": [
    "bt.plot(filename=directory+'/bt_interactive_plot.html')"
   ]
  },
  {
   "cell_type": "code",
   "execution_count": 23,
   "id": "dc0c9549-1311-41a3-960c-71bf8b3b1850",
   "metadata": {},
   "outputs": [],
   "source": [
    "file_name = directory + \"/heatmap_df\"   \n",
    "\n",
    "with pd.ExcelWriter(file_name + \".xlsx\", engine='xlsxwriter') as writer:\n",
    "    heatmap_df.to_excel(writer, index=False)\n",
    "heatmap_df.to_markdown(file_name + \".md\")\n",
    "\n",
    "file_name = directory + \"/trades\"   \n",
    "\n",
    "with pd.ExcelWriter(file_name + \".xlsx\", engine='xlsxwriter') as writer:\n",
    "    stats._trades.to_excel(writer, index=False)\n",
    "stats._trades.to_markdown(file_name + \".md\")\n",
    "\n",
    "file_name = directory + \"/equity_curve\"   \n",
    "\n",
    "with pd.ExcelWriter(file_name + \".xlsx\", engine='xlsxwriter') as writer:\n",
    "    stats._equity_curve.to_excel(writer, index=False)\n",
    "stats._equity_curve.to_markdown(file_name + \".md\")   "
   ]
  },
  {
   "cell_type": "code",
   "execution_count": 24,
   "id": "91928a7e-1f69-4ed9-ac19-94887e88b562",
   "metadata": {},
   "outputs": [],
   "source": [
    "str_stats = str(stats)"
   ]
  },
  {
   "cell_type": "code",
   "execution_count": 25,
   "id": "8e010852-281c-47a0-876c-66e70bd8bfa4",
   "metadata": {},
   "outputs": [],
   "source": [
    "heatmap_md = heatmap_df[0:10].to_markdown()"
   ]
  },
  {
   "cell_type": "code",
   "execution_count": 26,
   "id": "3f07fec7-31cd-46ad-bffb-8a0e79e5e1a9",
   "metadata": {},
   "outputs": [],
   "source": [
    "strat_return = stats['Return [%]']\n",
    "buy_and_hold = stats['Buy & Hold Return [%]']\n",
    "equity_init = stats._equity_curve[0:1]['Equity'].iloc[0]\n",
    "equity_final = stats['Equity Final [$]']"
   ]
  },
  {
   "cell_type": "code",
   "execution_count": 27,
   "id": "8b8c260c-e498-4d10-8b09-a7144101a01d",
   "metadata": {},
   "outputs": [
    {
     "name": "stdout",
     "output_type": "stream",
     "text": [
      "Wrote: results/DCA_Conditional_Buy_LR_with_TrailingStop/Range/Binance_BTC-USDT_1d_2022-06-19_2022-06-19_2024-01-20_1404/index.md\n"
     ]
    }
   ],
   "source": [
    "jinja2_templates_dir = 'templates'\n",
    "jinja2_template_file = 'single_result.md'\n",
    "\n",
    "# write results\n",
    "filename = f\"{directory}/index.md\"\n",
    "environment = jinja2.Environment(loader=jinja2.FileSystemLoader(jinja2_templates_dir))\n",
    "template = environment.get_template(jinja2_template_file)\n",
    "rendered = template.render(str_strategy_name=str_strategy_name, experiment_nickname= experiment_nickname,symbol=symbol, exchange=exchange, start_date=start_date, end_date=end_date, timeframe=timeframe,\n",
    "                           str_stats=str_stats, \n",
    "                           heatmap_md=heatmap_md, parameters=parameters.split(','), \n",
    "                           strat_return=strat_return, buy_and_hold=buy_and_hold, \n",
    "                           equity_init=equity_init,\n",
    "                           equity_final=equity_final)\n",
    "\n",
    "with open(filename, mode=\"w\", encoding=\"utf-8\") as message:\n",
    "    message.write(rendered)\n",
    "    print(f\"Wrote: {filename}\")"
   ]
  },
  {
   "cell_type": "code",
   "execution_count": null,
   "id": "c491cb26-86db-4ae3-b3e9-acaca4ea7673",
   "metadata": {},
   "outputs": [],
   "source": []
  }
 ],
 "metadata": {
  "kernelspec": {
   "display_name": "Python 3 (ipykernel)",
   "language": "python",
   "name": "python3"
  },
  "language_info": {
   "codemirror_mode": {
    "name": "ipython",
    "version": 3
   },
   "file_extension": ".py",
   "mimetype": "text/x-python",
   "name": "python",
   "nbconvert_exporter": "python",
   "pygments_lexer": "ipython3",
   "version": "3.10.6"
  }
 },
 "nbformat": 4,
 "nbformat_minor": 5
}
